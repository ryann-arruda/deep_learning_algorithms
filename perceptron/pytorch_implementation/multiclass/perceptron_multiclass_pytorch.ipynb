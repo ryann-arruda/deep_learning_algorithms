{
  "nbformat": 4,
  "nbformat_minor": 0,
  "metadata": {
    "colab": {
      "provenance": [],
      "authorship_tag": "ABX9TyNAU+bxzxnvxJq6CEJhiAnB",
      "include_colab_link": true
    },
    "kernelspec": {
      "name": "python3",
      "display_name": "Python 3"
    },
    "language_info": {
      "name": "python"
    }
  },
  "cells": [
    {
      "cell_type": "markdown",
      "metadata": {
        "id": "view-in-github",
        "colab_type": "text"
      },
      "source": [
        "<a href=\"https://colab.research.google.com/github/ryann-arruda/deep_learning_algorithms/blob/main/perceptron/pytorch_implementation/multiclass/perceptron_multiclass_pytorch.ipynb\" target=\"_parent\"><img src=\"https://colab.research.google.com/assets/colab-badge.svg\" alt=\"Open In Colab\"/></a>"
      ]
    },
    {
      "cell_type": "code",
      "execution_count": null,
      "metadata": {
        "id": "vAD_bo03_lwn"
      },
      "outputs": [],
      "source": [
        "from sklearn.datasets import load_iris\n",
        "from sklearn.model_selection import train_test_split\n",
        "from torch.utils.data import Dataset, DataLoader\n",
        "import torch\n",
        "import torch.nn.functional as F"
      ]
    },
    {
      "cell_type": "markdown",
      "source": [
        "## **Loading Dataset**"
      ],
      "metadata": {
        "id": "TL9cU9a7AH8s"
      }
    },
    {
      "cell_type": "code",
      "source": [
        "data = load_iris()"
      ],
      "metadata": {
        "id": "8bxInW8yBAp6"
      },
      "execution_count": null,
      "outputs": []
    },
    {
      "cell_type": "code",
      "source": [
        "x = data.data"
      ],
      "metadata": {
        "id": "27K_PgehBCFb"
      },
      "execution_count": null,
      "outputs": []
    },
    {
      "cell_type": "code",
      "source": [
        "y = data.target"
      ],
      "metadata": {
        "id": "YAXfhIVJBIfb"
      },
      "execution_count": null,
      "outputs": []
    },
    {
      "cell_type": "markdown",
      "source": [
        "## **Data Normalization**"
      ],
      "metadata": {
        "id": "Is6mqARSBTbi"
      }
    },
    {
      "cell_type": "code",
      "source": [
        "x = (x - x.min(axis=0))/(x.max(axis=0) - x.min(axis=0))"
      ],
      "metadata": {
        "id": "YrMkc9qgBWMp"
      },
      "execution_count": null,
      "outputs": []
    },
    {
      "cell_type": "markdown",
      "source": [
        "## **Separating the Dataset**"
      ],
      "metadata": {
        "id": "85so6I3bBhLL"
      }
    },
    {
      "cell_type": "code",
      "source": [
        "x_train, x_test, y_train, y_test = train_test_split(x, y, test_size=0.3, random_state=27)"
      ],
      "metadata": {
        "id": "P0_bNkpjBpVr"
      },
      "execution_count": null,
      "outputs": []
    },
    {
      "cell_type": "markdown",
      "source": [
        "## **Creating the Dataset Object**"
      ],
      "metadata": {
        "id": "qnHCVp2vB2Z7"
      }
    },
    {
      "cell_type": "code",
      "source": [
        "class SpecificDataset(Dataset):\n",
        "\n",
        "  def __init__(self, x, y):\n",
        "    self.features = torch.tensor(x, dtype=torch.float32)\n",
        "    self.labels = torch.tensor(y, dtype=torch.float32)\n",
        "\n",
        "  def __getitem__(self, index):\n",
        "    x = self.features[index]\n",
        "    y = self.labels[index]\n",
        "\n",
        "    return x, y\n",
        "\n",
        "  def __len__(self):\n",
        "    return self.labels.shape[0]"
      ],
      "metadata": {
        "id": "vN7q83c8B5Aa"
      },
      "execution_count": null,
      "outputs": []
    },
    {
      "cell_type": "code",
      "source": [
        "train_dataset = SpecificDataset(x_train, y_train)\n",
        "test_dataset = SpecificDataset(x_test, y_test)"
      ],
      "metadata": {
        "id": "lllMhORoHYN_"
      },
      "execution_count": null,
      "outputs": []
    },
    {
      "cell_type": "code",
      "source": [
        "train_dataloader = DataLoader(dataset=train_dataset,\n",
        "                              batch_size=5,\n",
        "                              shuffle=True)\n",
        "\n",
        "test_dataloader = DataLoader(dataset=test_dataset,\n",
        "                             batch_size=5,\n",
        "                             shuffle=False)"
      ],
      "metadata": {
        "id": "v1dqnUwXHgvX"
      },
      "execution_count": null,
      "outputs": []
    },
    {
      "cell_type": "markdown",
      "source": [
        "## **Perceptron**"
      ],
      "metadata": {
        "id": "BOMnGWMlH29d"
      }
    },
    {
      "cell_type": "code",
      "source": [
        "class Perceptron(torch.nn.Module):\n",
        "\n",
        "  def __init__(self, num_features):\n",
        "    super().__init__()\n",
        "    self.linear = torch.nn.Linear(num_features, 3)\n",
        "\n",
        "  def forward(self, x):\n",
        "    return self.linear(x)"
      ],
      "metadata": {
        "id": "nubNXPSMM3kL"
      },
      "execution_count": null,
      "outputs": []
    },
    {
      "cell_type": "code",
      "source": [
        "model = Perceptron(4)"
      ],
      "metadata": {
        "id": "GbTlZedzs36k"
      },
      "execution_count": null,
      "outputs": []
    },
    {
      "cell_type": "code",
      "source": [
        "optimizer = torch.optim.SGD(model.parameters(), lr=1.0)"
      ],
      "metadata": {
        "id": "-Tw_FC1AtKt_"
      },
      "execution_count": null,
      "outputs": []
    },
    {
      "cell_type": "markdown",
      "source": [
        "## **Training**"
      ],
      "metadata": {
        "id": "EwCGOQ5SuEqy"
      }
    },
    {
      "cell_type": "code",
      "source": [
        "epochs = 10"
      ],
      "metadata": {
        "id": "860gCS1auMsv"
      },
      "execution_count": null,
      "outputs": []
    },
    {
      "cell_type": "code",
      "source": [
        "for epoch in range(epochs):\n",
        "  model.train()\n",
        "\n",
        "  for index, (x, y) in enumerate(train_dataloader):\n",
        "    z = model(x)\n",
        "    y = y.long()\n",
        "    loss = F.cross_entropy(z, y)\n",
        "\n",
        "    optimizer.zero_grad()\n",
        "    loss.backward()\n",
        "    optimizer.step()\n",
        "\n",
        "    print(f'Epoch: {epoch + 1:03d}/{epochs:03d} | Batch: {index + 1:03d}/{len(train_dataloader):03d} | Loss: {loss:.3f}')"
      ],
      "metadata": {
        "colab": {
          "base_uri": "https://localhost:8080/"
        },
        "id": "1Rn8KfyXuO2P",
        "outputId": "6132dd77-0e36-4f63-d6e0-10099f834903"
      },
      "execution_count": null,
      "outputs": [
        {
          "output_type": "stream",
          "name": "stdout",
          "text": [
            "Epoch: 001/010 | Batch: 001/021 | Loss: 0.880\n",
            "Epoch: 001/010 | Batch: 002/021 | Loss: 0.935\n",
            "Epoch: 001/010 | Batch: 003/021 | Loss: 0.982\n",
            "Epoch: 001/010 | Batch: 004/021 | Loss: 0.973\n",
            "Epoch: 001/010 | Batch: 005/021 | Loss: 0.906\n",
            "Epoch: 001/010 | Batch: 006/021 | Loss: 0.866\n",
            "Epoch: 001/010 | Batch: 007/021 | Loss: 0.629\n",
            "Epoch: 001/010 | Batch: 008/021 | Loss: 0.865\n",
            "Epoch: 001/010 | Batch: 009/021 | Loss: 0.848\n",
            "Epoch: 001/010 | Batch: 010/021 | Loss: 0.674\n",
            "Epoch: 001/010 | Batch: 011/021 | Loss: 0.685\n",
            "Epoch: 001/010 | Batch: 012/021 | Loss: 0.800\n",
            "Epoch: 001/010 | Batch: 013/021 | Loss: 0.904\n",
            "Epoch: 001/010 | Batch: 014/021 | Loss: 0.949\n",
            "Epoch: 001/010 | Batch: 015/021 | Loss: 0.912\n",
            "Epoch: 001/010 | Batch: 016/021 | Loss: 0.586\n",
            "Epoch: 001/010 | Batch: 017/021 | Loss: 0.829\n",
            "Epoch: 001/010 | Batch: 018/021 | Loss: 0.605\n",
            "Epoch: 001/010 | Batch: 019/021 | Loss: 0.889\n",
            "Epoch: 001/010 | Batch: 020/021 | Loss: 0.631\n",
            "Epoch: 001/010 | Batch: 021/021 | Loss: 0.276\n",
            "Epoch: 002/010 | Batch: 001/021 | Loss: 0.749\n",
            "Epoch: 002/010 | Batch: 002/021 | Loss: 0.285\n",
            "Epoch: 002/010 | Batch: 003/021 | Loss: 0.781\n",
            "Epoch: 002/010 | Batch: 004/021 | Loss: 0.391\n",
            "Epoch: 002/010 | Batch: 005/021 | Loss: 0.830\n",
            "Epoch: 002/010 | Batch: 006/021 | Loss: 0.612\n",
            "Epoch: 002/010 | Batch: 007/021 | Loss: 0.634\n",
            "Epoch: 002/010 | Batch: 008/021 | Loss: 0.636\n",
            "Epoch: 002/010 | Batch: 009/021 | Loss: 0.577\n",
            "Epoch: 002/010 | Batch: 010/021 | Loss: 0.585\n",
            "Epoch: 002/010 | Batch: 011/021 | Loss: 0.479\n",
            "Epoch: 002/010 | Batch: 012/021 | Loss: 0.365\n",
            "Epoch: 002/010 | Batch: 013/021 | Loss: 0.480\n",
            "Epoch: 002/010 | Batch: 014/021 | Loss: 0.519\n",
            "Epoch: 002/010 | Batch: 015/021 | Loss: 0.429\n",
            "Epoch: 002/010 | Batch: 016/021 | Loss: 0.628\n",
            "Epoch: 002/010 | Batch: 017/021 | Loss: 0.554\n",
            "Epoch: 002/010 | Batch: 018/021 | Loss: 0.510\n",
            "Epoch: 002/010 | Batch: 019/021 | Loss: 0.233\n",
            "Epoch: 002/010 | Batch: 020/021 | Loss: 0.391\n",
            "Epoch: 002/010 | Batch: 021/021 | Loss: 0.437\n",
            "Epoch: 003/010 | Batch: 001/021 | Loss: 0.368\n",
            "Epoch: 003/010 | Batch: 002/021 | Loss: 0.249\n",
            "Epoch: 003/010 | Batch: 003/021 | Loss: 0.683\n",
            "Epoch: 003/010 | Batch: 004/021 | Loss: 0.292\n",
            "Epoch: 003/010 | Batch: 005/021 | Loss: 0.557\n",
            "Epoch: 003/010 | Batch: 006/021 | Loss: 0.622\n",
            "Epoch: 003/010 | Batch: 007/021 | Loss: 0.568\n",
            "Epoch: 003/010 | Batch: 008/021 | Loss: 0.473\n",
            "Epoch: 003/010 | Batch: 009/021 | Loss: 0.505\n",
            "Epoch: 003/010 | Batch: 010/021 | Loss: 0.402\n",
            "Epoch: 003/010 | Batch: 011/021 | Loss: 0.379\n",
            "Epoch: 003/010 | Batch: 012/021 | Loss: 0.514\n",
            "Epoch: 003/010 | Batch: 013/021 | Loss: 0.358\n",
            "Epoch: 003/010 | Batch: 014/021 | Loss: 0.418\n",
            "Epoch: 003/010 | Batch: 015/021 | Loss: 0.369\n",
            "Epoch: 003/010 | Batch: 016/021 | Loss: 0.619\n",
            "Epoch: 003/010 | Batch: 017/021 | Loss: 0.810\n",
            "Epoch: 003/010 | Batch: 018/021 | Loss: 0.202\n",
            "Epoch: 003/010 | Batch: 019/021 | Loss: 0.433\n",
            "Epoch: 003/010 | Batch: 020/021 | Loss: 0.388\n",
            "Epoch: 003/010 | Batch: 021/021 | Loss: 0.561\n",
            "Epoch: 004/010 | Batch: 001/021 | Loss: 0.325\n",
            "Epoch: 004/010 | Batch: 002/021 | Loss: 0.342\n",
            "Epoch: 004/010 | Batch: 003/021 | Loss: 0.738\n",
            "Epoch: 004/010 | Batch: 004/021 | Loss: 0.429\n",
            "Epoch: 004/010 | Batch: 005/021 | Loss: 0.441\n",
            "Epoch: 004/010 | Batch: 006/021 | Loss: 0.396\n",
            "Epoch: 004/010 | Batch: 007/021 | Loss: 0.239\n",
            "Epoch: 004/010 | Batch: 008/021 | Loss: 0.460\n",
            "Epoch: 004/010 | Batch: 009/021 | Loss: 0.254\n",
            "Epoch: 004/010 | Batch: 010/021 | Loss: 0.379\n",
            "Epoch: 004/010 | Batch: 011/021 | Loss: 0.293\n",
            "Epoch: 004/010 | Batch: 012/021 | Loss: 0.363\n",
            "Epoch: 004/010 | Batch: 013/021 | Loss: 0.543\n",
            "Epoch: 004/010 | Batch: 014/021 | Loss: 0.311\n",
            "Epoch: 004/010 | Batch: 015/021 | Loss: 0.626\n",
            "Epoch: 004/010 | Batch: 016/021 | Loss: 0.507\n",
            "Epoch: 004/010 | Batch: 017/021 | Loss: 0.220\n",
            "Epoch: 004/010 | Batch: 018/021 | Loss: 0.528\n",
            "Epoch: 004/010 | Batch: 019/021 | Loss: 0.191\n",
            "Epoch: 004/010 | Batch: 020/021 | Loss: 0.359\n",
            "Epoch: 004/010 | Batch: 021/021 | Loss: 0.399\n",
            "Epoch: 005/010 | Batch: 001/021 | Loss: 0.303\n",
            "Epoch: 005/010 | Batch: 002/021 | Loss: 0.155\n",
            "Epoch: 005/010 | Batch: 003/021 | Loss: 0.873\n",
            "Epoch: 005/010 | Batch: 004/021 | Loss: 0.330\n",
            "Epoch: 005/010 | Batch: 005/021 | Loss: 0.336\n",
            "Epoch: 005/010 | Batch: 006/021 | Loss: 0.421\n",
            "Epoch: 005/010 | Batch: 007/021 | Loss: 0.324\n",
            "Epoch: 005/010 | Batch: 008/021 | Loss: 0.369\n",
            "Epoch: 005/010 | Batch: 009/021 | Loss: 0.450\n",
            "Epoch: 005/010 | Batch: 010/021 | Loss: 0.298\n",
            "Epoch: 005/010 | Batch: 011/021 | Loss: 0.358\n",
            "Epoch: 005/010 | Batch: 012/021 | Loss: 0.197\n",
            "Epoch: 005/010 | Batch: 013/021 | Loss: 0.445\n",
            "Epoch: 005/010 | Batch: 014/021 | Loss: 0.273\n",
            "Epoch: 005/010 | Batch: 015/021 | Loss: 0.260\n",
            "Epoch: 005/010 | Batch: 016/021 | Loss: 0.309\n",
            "Epoch: 005/010 | Batch: 017/021 | Loss: 0.500\n",
            "Epoch: 005/010 | Batch: 018/021 | Loss: 0.330\n",
            "Epoch: 005/010 | Batch: 019/021 | Loss: 0.175\n",
            "Epoch: 005/010 | Batch: 020/021 | Loss: 0.581\n",
            "Epoch: 005/010 | Batch: 021/021 | Loss: 0.378\n",
            "Epoch: 006/010 | Batch: 001/021 | Loss: 0.372\n",
            "Epoch: 006/010 | Batch: 002/021 | Loss: 0.679\n",
            "Epoch: 006/010 | Batch: 003/021 | Loss: 0.414\n",
            "Epoch: 006/010 | Batch: 004/021 | Loss: 0.391\n",
            "Epoch: 006/010 | Batch: 005/021 | Loss: 0.353\n",
            "Epoch: 006/010 | Batch: 006/021 | Loss: 0.297\n",
            "Epoch: 006/010 | Batch: 007/021 | Loss: 0.238\n",
            "Epoch: 006/010 | Batch: 008/021 | Loss: 0.366\n",
            "Epoch: 006/010 | Batch: 009/021 | Loss: 0.227\n",
            "Epoch: 006/010 | Batch: 010/021 | Loss: 0.349\n",
            "Epoch: 006/010 | Batch: 011/021 | Loss: 0.377\n",
            "Epoch: 006/010 | Batch: 012/021 | Loss: 0.460\n",
            "Epoch: 006/010 | Batch: 013/021 | Loss: 0.230\n",
            "Epoch: 006/010 | Batch: 014/021 | Loss: 0.233\n",
            "Epoch: 006/010 | Batch: 015/021 | Loss: 0.157\n",
            "Epoch: 006/010 | Batch: 016/021 | Loss: 0.648\n",
            "Epoch: 006/010 | Batch: 017/021 | Loss: 0.185\n",
            "Epoch: 006/010 | Batch: 018/021 | Loss: 0.289\n",
            "Epoch: 006/010 | Batch: 019/021 | Loss: 0.296\n",
            "Epoch: 006/010 | Batch: 020/021 | Loss: 0.354\n",
            "Epoch: 006/010 | Batch: 021/021 | Loss: 0.273\n",
            "Epoch: 007/010 | Batch: 001/021 | Loss: 0.265\n",
            "Epoch: 007/010 | Batch: 002/021 | Loss: 0.230\n",
            "Epoch: 007/010 | Batch: 003/021 | Loss: 0.353\n",
            "Epoch: 007/010 | Batch: 004/021 | Loss: 0.303\n",
            "Epoch: 007/010 | Batch: 005/021 | Loss: 0.300\n",
            "Epoch: 007/010 | Batch: 006/021 | Loss: 0.271\n",
            "Epoch: 007/010 | Batch: 007/021 | Loss: 0.424\n",
            "Epoch: 007/010 | Batch: 008/021 | Loss: 0.430\n",
            "Epoch: 007/010 | Batch: 009/021 | Loss: 0.420\n",
            "Epoch: 007/010 | Batch: 010/021 | Loss: 0.300\n",
            "Epoch: 007/010 | Batch: 011/021 | Loss: 0.345\n",
            "Epoch: 007/010 | Batch: 012/021 | Loss: 0.279\n",
            "Epoch: 007/010 | Batch: 013/021 | Loss: 0.393\n",
            "Epoch: 007/010 | Batch: 014/021 | Loss: 0.225\n",
            "Epoch: 007/010 | Batch: 015/021 | Loss: 0.273\n",
            "Epoch: 007/010 | Batch: 016/021 | Loss: 0.483\n",
            "Epoch: 007/010 | Batch: 017/021 | Loss: 0.652\n",
            "Epoch: 007/010 | Batch: 018/021 | Loss: 0.550\n",
            "Epoch: 007/010 | Batch: 019/021 | Loss: 0.151\n",
            "Epoch: 007/010 | Batch: 020/021 | Loss: 0.183\n",
            "Epoch: 007/010 | Batch: 021/021 | Loss: 0.330\n",
            "Epoch: 008/010 | Batch: 001/021 | Loss: 0.174\n",
            "Epoch: 008/010 | Batch: 002/021 | Loss: 0.374\n",
            "Epoch: 008/010 | Batch: 003/021 | Loss: 0.423\n",
            "Epoch: 008/010 | Batch: 004/021 | Loss: 0.327\n",
            "Epoch: 008/010 | Batch: 005/021 | Loss: 0.302\n",
            "Epoch: 008/010 | Batch: 006/021 | Loss: 0.419\n",
            "Epoch: 008/010 | Batch: 007/021 | Loss: 0.635\n",
            "Epoch: 008/010 | Batch: 008/021 | Loss: 0.387\n",
            "Epoch: 008/010 | Batch: 009/021 | Loss: 0.108\n",
            "Epoch: 008/010 | Batch: 010/021 | Loss: 0.192\n",
            "Epoch: 008/010 | Batch: 011/021 | Loss: 0.140\n",
            "Epoch: 008/010 | Batch: 012/021 | Loss: 0.290\n",
            "Epoch: 008/010 | Batch: 013/021 | Loss: 0.162\n",
            "Epoch: 008/010 | Batch: 014/021 | Loss: 0.302\n",
            "Epoch: 008/010 | Batch: 015/021 | Loss: 0.183\n",
            "Epoch: 008/010 | Batch: 016/021 | Loss: 0.525\n",
            "Epoch: 008/010 | Batch: 017/021 | Loss: 0.239\n",
            "Epoch: 008/010 | Batch: 018/021 | Loss: 0.307\n",
            "Epoch: 008/010 | Batch: 019/021 | Loss: 0.509\n",
            "Epoch: 008/010 | Batch: 020/021 | Loss: 0.126\n",
            "Epoch: 008/010 | Batch: 021/021 | Loss: 0.307\n",
            "Epoch: 009/010 | Batch: 001/021 | Loss: 0.374\n",
            "Epoch: 009/010 | Batch: 002/021 | Loss: 0.166\n",
            "Epoch: 009/010 | Batch: 003/021 | Loss: 0.098\n",
            "Epoch: 009/010 | Batch: 004/021 | Loss: 0.251\n",
            "Epoch: 009/010 | Batch: 005/021 | Loss: 0.295\n",
            "Epoch: 009/010 | Batch: 006/021 | Loss: 0.119\n",
            "Epoch: 009/010 | Batch: 007/021 | Loss: 0.564\n",
            "Epoch: 009/010 | Batch: 008/021 | Loss: 0.171\n",
            "Epoch: 009/010 | Batch: 009/021 | Loss: 0.287\n",
            "Epoch: 009/010 | Batch: 010/021 | Loss: 0.430\n",
            "Epoch: 009/010 | Batch: 011/021 | Loss: 0.360\n",
            "Epoch: 009/010 | Batch: 012/021 | Loss: 0.190\n",
            "Epoch: 009/010 | Batch: 013/021 | Loss: 0.319\n",
            "Epoch: 009/010 | Batch: 014/021 | Loss: 0.224\n",
            "Epoch: 009/010 | Batch: 015/021 | Loss: 0.389\n",
            "Epoch: 009/010 | Batch: 016/021 | Loss: 0.416\n",
            "Epoch: 009/010 | Batch: 017/021 | Loss: 0.148\n",
            "Epoch: 009/010 | Batch: 018/021 | Loss: 0.387\n",
            "Epoch: 009/010 | Batch: 019/021 | Loss: 0.243\n",
            "Epoch: 009/010 | Batch: 020/021 | Loss: 0.227\n",
            "Epoch: 009/010 | Batch: 021/021 | Loss: 0.318\n",
            "Epoch: 010/010 | Batch: 001/021 | Loss: 0.198\n",
            "Epoch: 010/010 | Batch: 002/021 | Loss: 0.355\n",
            "Epoch: 010/010 | Batch: 003/021 | Loss: 0.181\n",
            "Epoch: 010/010 | Batch: 004/021 | Loss: 0.267\n",
            "Epoch: 010/010 | Batch: 005/021 | Loss: 0.115\n",
            "Epoch: 010/010 | Batch: 006/021 | Loss: 0.152\n",
            "Epoch: 010/010 | Batch: 007/021 | Loss: 0.230\n",
            "Epoch: 010/010 | Batch: 008/021 | Loss: 0.576\n",
            "Epoch: 010/010 | Batch: 009/021 | Loss: 0.253\n",
            "Epoch: 010/010 | Batch: 010/021 | Loss: 0.675\n",
            "Epoch: 010/010 | Batch: 011/021 | Loss: 0.412\n",
            "Epoch: 010/010 | Batch: 012/021 | Loss: 0.322\n",
            "Epoch: 010/010 | Batch: 013/021 | Loss: 0.329\n",
            "Epoch: 010/010 | Batch: 014/021 | Loss: 0.306\n",
            "Epoch: 010/010 | Batch: 015/021 | Loss: 0.332\n",
            "Epoch: 010/010 | Batch: 016/021 | Loss: 0.307\n",
            "Epoch: 010/010 | Batch: 017/021 | Loss: 0.260\n",
            "Epoch: 010/010 | Batch: 018/021 | Loss: 0.108\n",
            "Epoch: 010/010 | Batch: 019/021 | Loss: 0.392\n",
            "Epoch: 010/010 | Batch: 020/021 | Loss: 0.108\n",
            "Epoch: 010/010 | Batch: 021/021 | Loss: 0.144\n"
          ]
        }
      ]
    },
    {
      "cell_type": "code",
      "source": [],
      "metadata": {
        "id": "QeMiQvBYu7oy"
      },
      "execution_count": null,
      "outputs": []
    }
  ]
}