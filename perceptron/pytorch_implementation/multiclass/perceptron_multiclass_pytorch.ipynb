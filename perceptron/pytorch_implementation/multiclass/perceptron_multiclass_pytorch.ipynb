{
  "nbformat": 4,
  "nbformat_minor": 0,
  "metadata": {
    "colab": {
      "provenance": [],
      "authorship_tag": "ABX9TyOM0bvMpvj3HfvaxHJ6YGoY",
      "include_colab_link": true
    },
    "kernelspec": {
      "name": "python3",
      "display_name": "Python 3"
    },
    "language_info": {
      "name": "python"
    }
  },
  "cells": [
    {
      "cell_type": "markdown",
      "metadata": {
        "id": "view-in-github",
        "colab_type": "text"
      },
      "source": [
        "<a href=\"https://colab.research.google.com/github/ryann-arruda/deep_learning_algorithms/blob/main/perceptron/pytorch_implementation/multiclass/perceptron_multiclass_pytorch.ipynb\" target=\"_parent\"><img src=\"https://colab.research.google.com/assets/colab-badge.svg\" alt=\"Open In Colab\"/></a>"
      ]
    },
    {
      "cell_type": "code",
      "execution_count": 1,
      "metadata": {
        "id": "vAD_bo03_lwn"
      },
      "outputs": [],
      "source": [
        "from sklearn.datasets import load_iris\n",
        "from sklearn.model_selection import train_test_split\n",
        "from torch.utils.data import Dataset, DataLoader\n",
        "import torch\n",
        "import torch.nn.functional as F"
      ]
    },
    {
      "cell_type": "markdown",
      "source": [
        "## **Loading Dataset**"
      ],
      "metadata": {
        "id": "TL9cU9a7AH8s"
      }
    },
    {
      "cell_type": "code",
      "source": [
        "data = load_iris()"
      ],
      "metadata": {
        "id": "8bxInW8yBAp6"
      },
      "execution_count": 2,
      "outputs": []
    },
    {
      "cell_type": "code",
      "source": [
        "x = data.data"
      ],
      "metadata": {
        "id": "27K_PgehBCFb"
      },
      "execution_count": 3,
      "outputs": []
    },
    {
      "cell_type": "code",
      "source": [
        "y = data.target"
      ],
      "metadata": {
        "id": "YAXfhIVJBIfb"
      },
      "execution_count": 4,
      "outputs": []
    },
    {
      "cell_type": "markdown",
      "source": [
        "## **Data Normalization**"
      ],
      "metadata": {
        "id": "Is6mqARSBTbi"
      }
    },
    {
      "cell_type": "code",
      "source": [
        "x = (x - x.min(axis=0))/(x.max(axis=0) - x.min(axis=0))"
      ],
      "metadata": {
        "id": "YrMkc9qgBWMp"
      },
      "execution_count": 5,
      "outputs": []
    },
    {
      "cell_type": "markdown",
      "source": [
        "## **Separating the Dataset**"
      ],
      "metadata": {
        "id": "85so6I3bBhLL"
      }
    },
    {
      "cell_type": "code",
      "source": [
        "x_train, x_test, y_train, y_test = train_test_split(x, y, test_size=0.3, random_state=27)"
      ],
      "metadata": {
        "id": "P0_bNkpjBpVr"
      },
      "execution_count": 6,
      "outputs": []
    },
    {
      "cell_type": "markdown",
      "source": [
        "## **Creating the Dataset Object**"
      ],
      "metadata": {
        "id": "qnHCVp2vB2Z7"
      }
    },
    {
      "cell_type": "code",
      "source": [
        "class SpecificDataset(Dataset):\n",
        "\n",
        "  def __init__(self, x, y):\n",
        "    self.features = torch.tensor(x, dtype=torch.float32)\n",
        "    self.labels = torch.tensor(y, dtype=torch.float32)\n",
        "\n",
        "  def __getitem__(self, index):\n",
        "    x = self.features[index]\n",
        "    y = self.labels[index]\n",
        "\n",
        "    return x, y\n",
        "\n",
        "  def __len__(self):\n",
        "    return self.labels.shape[0]"
      ],
      "metadata": {
        "id": "vN7q83c8B5Aa"
      },
      "execution_count": 7,
      "outputs": []
    },
    {
      "cell_type": "code",
      "source": [
        "train_dataset = SpecificDataset(x_train, y_train)\n",
        "test_dataset = SpecificDataset(x_test, y_test)"
      ],
      "metadata": {
        "id": "lllMhORoHYN_"
      },
      "execution_count": 8,
      "outputs": []
    },
    {
      "cell_type": "code",
      "source": [
        "train_dataloader = DataLoader(dataset=train_dataset,\n",
        "                              batch_size=5,\n",
        "                              shuffle=True)\n",
        "\n",
        "test_dataloader = DataLoader(dataset=test_dataset,\n",
        "                             batch_size=5,\n",
        "                             shuffle=False)"
      ],
      "metadata": {
        "id": "v1dqnUwXHgvX"
      },
      "execution_count": 9,
      "outputs": []
    },
    {
      "cell_type": "markdown",
      "source": [
        "## **Perceptron**"
      ],
      "metadata": {
        "id": "BOMnGWMlH29d"
      }
    },
    {
      "cell_type": "code",
      "source": [
        "class Perceptron(torch.nn.Module):\n",
        "\n",
        "  def __init__(self, num_features):\n",
        "    super().__init__()\n",
        "    self.linear = torch.nn.Linear(num_features, 3)\n",
        "\n",
        "  def forward(self, x):\n",
        "    return self.linear(x)"
      ],
      "metadata": {
        "id": "nubNXPSMM3kL"
      },
      "execution_count": 31,
      "outputs": []
    },
    {
      "cell_type": "code",
      "source": [
        "model = Perceptron(4)"
      ],
      "metadata": {
        "id": "GbTlZedzs36k"
      },
      "execution_count": 43,
      "outputs": []
    },
    {
      "cell_type": "code",
      "source": [
        "optimizer = torch.optim.SGD(model.parameters(), lr=1.0)"
      ],
      "metadata": {
        "id": "-Tw_FC1AtKt_"
      },
      "execution_count": 44,
      "outputs": []
    },
    {
      "cell_type": "markdown",
      "source": [
        "## **Training**"
      ],
      "metadata": {
        "id": "EwCGOQ5SuEqy"
      }
    },
    {
      "cell_type": "code",
      "source": [
        "epochs = 10"
      ],
      "metadata": {
        "id": "860gCS1auMsv"
      },
      "execution_count": 45,
      "outputs": []
    },
    {
      "cell_type": "code",
      "source": [
        "for epoch in range(epochs):\n",
        "  model.train()\n",
        "\n",
        "  for index, (x, y) in enumerate(train_dataloader):\n",
        "    z = model(x)\n",
        "    y = y.long()\n",
        "    loss = F.cross_entropy(z, y)\n",
        "\n",
        "    optimizer.zero_grad()\n",
        "    loss.backward()\n",
        "    optimizer.step()\n",
        "\n",
        "    print(f'Epoch: {epoch + 1:03d}/{epochs:03d} | Batch: {index + 1:03d}/{len(train_dataloader):03d} | Loss: {loss:.3f}')"
      ],
      "metadata": {
        "colab": {
          "base_uri": "https://localhost:8080/"
        },
        "id": "1Rn8KfyXuO2P",
        "outputId": "0d922bb5-8573-447c-aac4-4a71a7e34858"
      },
      "execution_count": 46,
      "outputs": [
        {
          "output_type": "stream",
          "name": "stdout",
          "text": [
            "Epoch: 001/010 | Batch: 001/021 | Loss: 1.277\n",
            "Epoch: 001/010 | Batch: 002/021 | Loss: 1.320\n",
            "Epoch: 001/010 | Batch: 003/021 | Loss: 1.150\n",
            "Epoch: 001/010 | Batch: 004/021 | Loss: 0.909\n",
            "Epoch: 001/010 | Batch: 005/021 | Loss: 0.923\n",
            "Epoch: 001/010 | Batch: 006/021 | Loss: 1.077\n",
            "Epoch: 001/010 | Batch: 007/021 | Loss: 0.667\n",
            "Epoch: 001/010 | Batch: 008/021 | Loss: 0.917\n",
            "Epoch: 001/010 | Batch: 009/021 | Loss: 0.842\n",
            "Epoch: 001/010 | Batch: 010/021 | Loss: 0.913\n",
            "Epoch: 001/010 | Batch: 011/021 | Loss: 0.743\n",
            "Epoch: 001/010 | Batch: 012/021 | Loss: 0.338\n",
            "Epoch: 001/010 | Batch: 013/021 | Loss: 0.963\n",
            "Epoch: 001/010 | Batch: 014/021 | Loss: 0.801\n",
            "Epoch: 001/010 | Batch: 015/021 | Loss: 0.761\n",
            "Epoch: 001/010 | Batch: 016/021 | Loss: 0.709\n",
            "Epoch: 001/010 | Batch: 017/021 | Loss: 0.401\n",
            "Epoch: 001/010 | Batch: 018/021 | Loss: 0.340\n",
            "Epoch: 001/010 | Batch: 019/021 | Loss: 1.036\n",
            "Epoch: 001/010 | Batch: 020/021 | Loss: 0.822\n",
            "Epoch: 001/010 | Batch: 021/021 | Loss: 0.564\n",
            "Epoch: 002/010 | Batch: 001/021 | Loss: 0.497\n",
            "Epoch: 002/010 | Batch: 002/021 | Loss: 0.754\n",
            "Epoch: 002/010 | Batch: 003/021 | Loss: 0.574\n",
            "Epoch: 002/010 | Batch: 004/021 | Loss: 0.625\n",
            "Epoch: 002/010 | Batch: 005/021 | Loss: 0.582\n",
            "Epoch: 002/010 | Batch: 006/021 | Loss: 0.392\n",
            "Epoch: 002/010 | Batch: 007/021 | Loss: 0.581\n",
            "Epoch: 002/010 | Batch: 008/021 | Loss: 0.553\n",
            "Epoch: 002/010 | Batch: 009/021 | Loss: 0.646\n",
            "Epoch: 002/010 | Batch: 010/021 | Loss: 0.685\n",
            "Epoch: 002/010 | Batch: 011/021 | Loss: 0.761\n",
            "Epoch: 002/010 | Batch: 012/021 | Loss: 0.436\n",
            "Epoch: 002/010 | Batch: 013/021 | Loss: 0.457\n",
            "Epoch: 002/010 | Batch: 014/021 | Loss: 0.546\n",
            "Epoch: 002/010 | Batch: 015/021 | Loss: 0.482\n",
            "Epoch: 002/010 | Batch: 016/021 | Loss: 0.541\n",
            "Epoch: 002/010 | Batch: 017/021 | Loss: 0.500\n",
            "Epoch: 002/010 | Batch: 018/021 | Loss: 0.391\n",
            "Epoch: 002/010 | Batch: 019/021 | Loss: 0.210\n",
            "Epoch: 002/010 | Batch: 020/021 | Loss: 0.532\n",
            "Epoch: 002/010 | Batch: 021/021 | Loss: 0.587\n",
            "Epoch: 003/010 | Batch: 001/021 | Loss: 0.352\n",
            "Epoch: 003/010 | Batch: 002/021 | Loss: 0.613\n",
            "Epoch: 003/010 | Batch: 003/021 | Loss: 0.509\n",
            "Epoch: 003/010 | Batch: 004/021 | Loss: 0.746\n",
            "Epoch: 003/010 | Batch: 005/021 | Loss: 0.427\n",
            "Epoch: 003/010 | Batch: 006/021 | Loss: 0.609\n",
            "Epoch: 003/010 | Batch: 007/021 | Loss: 0.484\n",
            "Epoch: 003/010 | Batch: 008/021 | Loss: 0.411\n",
            "Epoch: 003/010 | Batch: 009/021 | Loss: 0.401\n",
            "Epoch: 003/010 | Batch: 010/021 | Loss: 0.461\n",
            "Epoch: 003/010 | Batch: 011/021 | Loss: 0.566\n",
            "Epoch: 003/010 | Batch: 012/021 | Loss: 0.587\n",
            "Epoch: 003/010 | Batch: 013/021 | Loss: 0.422\n",
            "Epoch: 003/010 | Batch: 014/021 | Loss: 0.331\n",
            "Epoch: 003/010 | Batch: 015/021 | Loss: 0.357\n",
            "Epoch: 003/010 | Batch: 016/021 | Loss: 0.108\n",
            "Epoch: 003/010 | Batch: 017/021 | Loss: 0.612\n",
            "Epoch: 003/010 | Batch: 018/021 | Loss: 0.199\n",
            "Epoch: 003/010 | Batch: 019/021 | Loss: 0.666\n",
            "Epoch: 003/010 | Batch: 020/021 | Loss: 0.420\n",
            "Epoch: 003/010 | Batch: 021/021 | Loss: 0.441\n",
            "Epoch: 004/010 | Batch: 001/021 | Loss: 0.357\n",
            "Epoch: 004/010 | Batch: 002/021 | Loss: 0.316\n",
            "Epoch: 004/010 | Batch: 003/021 | Loss: 0.404\n",
            "Epoch: 004/010 | Batch: 004/021 | Loss: 0.352\n",
            "Epoch: 004/010 | Batch: 005/021 | Loss: 0.374\n",
            "Epoch: 004/010 | Batch: 006/021 | Loss: 0.265\n",
            "Epoch: 004/010 | Batch: 007/021 | Loss: 0.416\n",
            "Epoch: 004/010 | Batch: 008/021 | Loss: 0.385\n",
            "Epoch: 004/010 | Batch: 009/021 | Loss: 0.343\n",
            "Epoch: 004/010 | Batch: 010/021 | Loss: 0.474\n",
            "Epoch: 004/010 | Batch: 011/021 | Loss: 0.452\n",
            "Epoch: 004/010 | Batch: 012/021 | Loss: 0.785\n",
            "Epoch: 004/010 | Batch: 013/021 | Loss: 0.727\n",
            "Epoch: 004/010 | Batch: 014/021 | Loss: 0.414\n",
            "Epoch: 004/010 | Batch: 015/021 | Loss: 0.304\n",
            "Epoch: 004/010 | Batch: 016/021 | Loss: 0.493\n",
            "Epoch: 004/010 | Batch: 017/021 | Loss: 0.227\n",
            "Epoch: 004/010 | Batch: 018/021 | Loss: 0.276\n",
            "Epoch: 004/010 | Batch: 019/021 | Loss: 0.112\n",
            "Epoch: 004/010 | Batch: 020/021 | Loss: 0.763\n",
            "Epoch: 004/010 | Batch: 021/021 | Loss: 0.303\n",
            "Epoch: 005/010 | Batch: 001/021 | Loss: 0.715\n",
            "Epoch: 005/010 | Batch: 002/021 | Loss: 0.265\n",
            "Epoch: 005/010 | Batch: 003/021 | Loss: 0.197\n",
            "Epoch: 005/010 | Batch: 004/021 | Loss: 0.355\n",
            "Epoch: 005/010 | Batch: 005/021 | Loss: 0.603\n",
            "Epoch: 005/010 | Batch: 006/021 | Loss: 0.223\n",
            "Epoch: 005/010 | Batch: 007/021 | Loss: 0.431\n",
            "Epoch: 005/010 | Batch: 008/021 | Loss: 0.342\n",
            "Epoch: 005/010 | Batch: 009/021 | Loss: 0.289\n",
            "Epoch: 005/010 | Batch: 010/021 | Loss: 0.139\n",
            "Epoch: 005/010 | Batch: 011/021 | Loss: 0.266\n",
            "Epoch: 005/010 | Batch: 012/021 | Loss: 0.410\n",
            "Epoch: 005/010 | Batch: 013/021 | Loss: 0.271\n",
            "Epoch: 005/010 | Batch: 014/021 | Loss: 0.455\n",
            "Epoch: 005/010 | Batch: 015/021 | Loss: 0.440\n",
            "Epoch: 005/010 | Batch: 016/021 | Loss: 0.359\n",
            "Epoch: 005/010 | Batch: 017/021 | Loss: 0.368\n",
            "Epoch: 005/010 | Batch: 018/021 | Loss: 0.563\n",
            "Epoch: 005/010 | Batch: 019/021 | Loss: 0.236\n",
            "Epoch: 005/010 | Batch: 020/021 | Loss: 0.240\n",
            "Epoch: 005/010 | Batch: 021/021 | Loss: 0.282\n",
            "Epoch: 006/010 | Batch: 001/021 | Loss: 0.323\n",
            "Epoch: 006/010 | Batch: 002/021 | Loss: 0.328\n",
            "Epoch: 006/010 | Batch: 003/021 | Loss: 0.225\n",
            "Epoch: 006/010 | Batch: 004/021 | Loss: 0.634\n",
            "Epoch: 006/010 | Batch: 005/021 | Loss: 0.449\n",
            "Epoch: 006/010 | Batch: 006/021 | Loss: 0.317\n",
            "Epoch: 006/010 | Batch: 007/021 | Loss: 0.346\n",
            "Epoch: 006/010 | Batch: 008/021 | Loss: 0.469\n",
            "Epoch: 006/010 | Batch: 009/021 | Loss: 0.439\n",
            "Epoch: 006/010 | Batch: 010/021 | Loss: 0.408\n",
            "Epoch: 006/010 | Batch: 011/021 | Loss: 0.409\n",
            "Epoch: 006/010 | Batch: 012/021 | Loss: 0.392\n",
            "Epoch: 006/010 | Batch: 013/021 | Loss: 0.566\n",
            "Epoch: 006/010 | Batch: 014/021 | Loss: 0.263\n",
            "Epoch: 006/010 | Batch: 015/021 | Loss: 0.958\n",
            "Epoch: 006/010 | Batch: 016/021 | Loss: 0.084\n",
            "Epoch: 006/010 | Batch: 017/021 | Loss: 0.062\n",
            "Epoch: 006/010 | Batch: 018/021 | Loss: 0.117\n",
            "Epoch: 006/010 | Batch: 019/021 | Loss: 0.541\n",
            "Epoch: 006/010 | Batch: 020/021 | Loss: 0.159\n",
            "Epoch: 006/010 | Batch: 021/021 | Loss: 0.292\n",
            "Epoch: 007/010 | Batch: 001/021 | Loss: 0.390\n",
            "Epoch: 007/010 | Batch: 002/021 | Loss: 0.314\n",
            "Epoch: 007/010 | Batch: 003/021 | Loss: 0.209\n",
            "Epoch: 007/010 | Batch: 004/021 | Loss: 0.474\n",
            "Epoch: 007/010 | Batch: 005/021 | Loss: 0.337\n",
            "Epoch: 007/010 | Batch: 006/021 | Loss: 0.408\n",
            "Epoch: 007/010 | Batch: 007/021 | Loss: 0.349\n",
            "Epoch: 007/010 | Batch: 008/021 | Loss: 0.378\n",
            "Epoch: 007/010 | Batch: 009/021 | Loss: 0.318\n",
            "Epoch: 007/010 | Batch: 010/021 | Loss: 0.147\n",
            "Epoch: 007/010 | Batch: 011/021 | Loss: 0.178\n",
            "Epoch: 007/010 | Batch: 012/021 | Loss: 0.190\n",
            "Epoch: 007/010 | Batch: 013/021 | Loss: 0.590\n",
            "Epoch: 007/010 | Batch: 014/021 | Loss: 0.288\n",
            "Epoch: 007/010 | Batch: 015/021 | Loss: 0.414\n",
            "Epoch: 007/010 | Batch: 016/021 | Loss: 0.552\n",
            "Epoch: 007/010 | Batch: 017/021 | Loss: 0.214\n",
            "Epoch: 007/010 | Batch: 018/021 | Loss: 0.263\n",
            "Epoch: 007/010 | Batch: 019/021 | Loss: 0.242\n",
            "Epoch: 007/010 | Batch: 020/021 | Loss: 0.339\n",
            "Epoch: 007/010 | Batch: 021/021 | Loss: 0.386\n",
            "Epoch: 008/010 | Batch: 001/021 | Loss: 0.251\n",
            "Epoch: 008/010 | Batch: 002/021 | Loss: 0.189\n",
            "Epoch: 008/010 | Batch: 003/021 | Loss: 0.213\n",
            "Epoch: 008/010 | Batch: 004/021 | Loss: 0.312\n",
            "Epoch: 008/010 | Batch: 005/021 | Loss: 0.169\n",
            "Epoch: 008/010 | Batch: 006/021 | Loss: 0.679\n",
            "Epoch: 008/010 | Batch: 007/021 | Loss: 0.399\n",
            "Epoch: 008/010 | Batch: 008/021 | Loss: 0.270\n",
            "Epoch: 008/010 | Batch: 009/021 | Loss: 0.341\n",
            "Epoch: 008/010 | Batch: 010/021 | Loss: 0.411\n",
            "Epoch: 008/010 | Batch: 011/021 | Loss: 0.152\n",
            "Epoch: 008/010 | Batch: 012/021 | Loss: 0.432\n",
            "Epoch: 008/010 | Batch: 013/021 | Loss: 0.284\n",
            "Epoch: 008/010 | Batch: 014/021 | Loss: 0.346\n",
            "Epoch: 008/010 | Batch: 015/021 | Loss: 0.455\n",
            "Epoch: 008/010 | Batch: 016/021 | Loss: 0.171\n",
            "Epoch: 008/010 | Batch: 017/021 | Loss: 0.281\n",
            "Epoch: 008/010 | Batch: 018/021 | Loss: 0.576\n",
            "Epoch: 008/010 | Batch: 019/021 | Loss: 0.212\n",
            "Epoch: 008/010 | Batch: 020/021 | Loss: 0.220\n",
            "Epoch: 008/010 | Batch: 021/021 | Loss: 0.207\n",
            "Epoch: 009/010 | Batch: 001/021 | Loss: 0.406\n",
            "Epoch: 009/010 | Batch: 002/021 | Loss: 0.276\n",
            "Epoch: 009/010 | Batch: 003/021 | Loss: 0.130\n",
            "Epoch: 009/010 | Batch: 004/021 | Loss: 0.310\n",
            "Epoch: 009/010 | Batch: 005/021 | Loss: 0.344\n",
            "Epoch: 009/010 | Batch: 006/021 | Loss: 0.210\n",
            "Epoch: 009/010 | Batch: 007/021 | Loss: 0.238\n",
            "Epoch: 009/010 | Batch: 008/021 | Loss: 0.349\n",
            "Epoch: 009/010 | Batch: 009/021 | Loss: 0.349\n",
            "Epoch: 009/010 | Batch: 010/021 | Loss: 0.339\n",
            "Epoch: 009/010 | Batch: 011/021 | Loss: 0.205\n",
            "Epoch: 009/010 | Batch: 012/021 | Loss: 0.111\n",
            "Epoch: 009/010 | Batch: 013/021 | Loss: 0.074\n",
            "Epoch: 009/010 | Batch: 014/021 | Loss: 0.609\n",
            "Epoch: 009/010 | Batch: 015/021 | Loss: 0.272\n",
            "Epoch: 009/010 | Batch: 016/021 | Loss: 0.272\n",
            "Epoch: 009/010 | Batch: 017/021 | Loss: 0.282\n",
            "Epoch: 009/010 | Batch: 018/021 | Loss: 0.296\n",
            "Epoch: 009/010 | Batch: 019/021 | Loss: 0.209\n",
            "Epoch: 009/010 | Batch: 020/021 | Loss: 0.430\n",
            "Epoch: 009/010 | Batch: 021/021 | Loss: 0.203\n",
            "Epoch: 010/010 | Batch: 001/021 | Loss: 0.528\n",
            "Epoch: 010/010 | Batch: 002/021 | Loss: 0.377\n",
            "Epoch: 010/010 | Batch: 003/021 | Loss: 0.455\n",
            "Epoch: 010/010 | Batch: 004/021 | Loss: 0.270\n",
            "Epoch: 010/010 | Batch: 005/021 | Loss: 0.119\n",
            "Epoch: 010/010 | Batch: 006/021 | Loss: 0.233\n",
            "Epoch: 010/010 | Batch: 007/021 | Loss: 0.211\n",
            "Epoch: 010/010 | Batch: 008/021 | Loss: 0.222\n",
            "Epoch: 010/010 | Batch: 009/021 | Loss: 0.282\n",
            "Epoch: 010/010 | Batch: 010/021 | Loss: 0.368\n",
            "Epoch: 010/010 | Batch: 011/021 | Loss: 0.189\n",
            "Epoch: 010/010 | Batch: 012/021 | Loss: 0.277\n",
            "Epoch: 010/010 | Batch: 013/021 | Loss: 0.275\n",
            "Epoch: 010/010 | Batch: 014/021 | Loss: 0.389\n",
            "Epoch: 010/010 | Batch: 015/021 | Loss: 0.392\n",
            "Epoch: 010/010 | Batch: 016/021 | Loss: 0.248\n",
            "Epoch: 010/010 | Batch: 017/021 | Loss: 0.156\n",
            "Epoch: 010/010 | Batch: 018/021 | Loss: 0.425\n",
            "Epoch: 010/010 | Batch: 019/021 | Loss: 0.121\n",
            "Epoch: 010/010 | Batch: 020/021 | Loss: 0.173\n",
            "Epoch: 010/010 | Batch: 021/021 | Loss: 0.153\n"
          ]
        }
      ]
    },
    {
      "cell_type": "markdown",
      "source": [
        "## **Evaluating the Results**"
      ],
      "metadata": {
        "id": "QeMiQvBYu7oy"
      }
    },
    {
      "cell_type": "code",
      "source": [
        "def accuracy(model, test_dataloader):\n",
        "  accuracy = 0.0\n",
        "  total = 0\n",
        "\n",
        "  model.eval()\n",
        "  for index, (x, y) in enumerate(test_dataloader):\n",
        "\n",
        "    with torch.inference_mode():\n",
        "      z = model(x)\n",
        "\n",
        "    labels = torch.argmax(z, dim=1)\n",
        "\n",
        "    labels = labels.view(y.shape).to(y.dtype)\n",
        "\n",
        "    results = labels == y\n",
        "    accuracy += torch.sum(results).item()\n",
        "    total += len(results)\n",
        "\n",
        "  return accuracy/total"
      ],
      "metadata": {
        "id": "ad8qb2Om4Z3e"
      },
      "execution_count": 47,
      "outputs": []
    },
    {
      "cell_type": "code",
      "source": [
        "print(f'Accuracy (train): {accuracy(model, train_dataloader):.2f}')"
      ],
      "metadata": {
        "colab": {
          "base_uri": "https://localhost:8080/"
        },
        "id": "PmSRHvOd5zYw",
        "outputId": "4f664687-d5b5-49ee-a06e-51492ede0baf"
      },
      "execution_count": 48,
      "outputs": [
        {
          "output_type": "stream",
          "name": "stdout",
          "text": [
            "Accuracy (train): 0.94\n"
          ]
        }
      ]
    },
    {
      "cell_type": "code",
      "source": [
        "print(f'Accuracy (test): {accuracy(model, test_dataloader):.2f}')"
      ],
      "metadata": {
        "colab": {
          "base_uri": "https://localhost:8080/"
        },
        "id": "sT_8_-wN52vP",
        "outputId": "b079813b-2a3b-4700-9ee1-f648049801f7"
      },
      "execution_count": 49,
      "outputs": [
        {
          "output_type": "stream",
          "name": "stdout",
          "text": [
            "Accuracy (test): 0.89\n"
          ]
        }
      ]
    },
    {
      "cell_type": "code",
      "source": [],
      "metadata": {
        "id": "LMVdgUFy8KDv"
      },
      "execution_count": null,
      "outputs": []
    }
  ]
}