{
  "nbformat": 4,
  "nbformat_minor": 0,
  "metadata": {
    "colab": {
      "provenance": [],
      "authorship_tag": "ABX9TyNXtKzgwP2z3ovpV1cAqb2M",
      "include_colab_link": true
    },
    "kernelspec": {
      "name": "python3",
      "display_name": "Python 3"
    },
    "language_info": {
      "name": "python"
    }
  },
  "cells": [
    {
      "cell_type": "markdown",
      "metadata": {
        "id": "view-in-github",
        "colab_type": "text"
      },
      "source": [
        "<a href=\"https://colab.research.google.com/github/ryann-arruda/deep_learning_algorithms/blob/main/perceptron/pytorch_implementation/multilayer_perceptron/mlp.ipynb\" target=\"_parent\"><img src=\"https://colab.research.google.com/assets/colab-badge.svg\" alt=\"Open In Colab\"/></a>"
      ]
    },
    {
      "cell_type": "code",
      "execution_count": 24,
      "metadata": {
        "id": "ro5d_26HT2eg"
      },
      "outputs": [],
      "source": [
        "from sklearn.datasets import load_iris\n",
        "from sklearn.model_selection import train_test_split\n",
        "from torch.utils.data import Dataset, DataLoader\n",
        "import torch\n",
        "import torch.nn.functional as F"
      ]
    },
    {
      "cell_type": "markdown",
      "source": [
        "## **Loading Dataset**"
      ],
      "metadata": {
        "id": "jVicQ7KqUPJ2"
      }
    },
    {
      "cell_type": "code",
      "source": [
        "data = load_iris()"
      ],
      "metadata": {
        "id": "WfZsoYPcUZeF"
      },
      "execution_count": 25,
      "outputs": []
    },
    {
      "cell_type": "code",
      "source": [
        "x = data.data"
      ],
      "metadata": {
        "id": "IK6h6OIrUco-"
      },
      "execution_count": 26,
      "outputs": []
    },
    {
      "cell_type": "code",
      "source": [
        "y = data.target"
      ],
      "metadata": {
        "id": "9RD2pmemUefn"
      },
      "execution_count": 27,
      "outputs": []
    },
    {
      "cell_type": "markdown",
      "source": [
        "## **Data Normalization**"
      ],
      "metadata": {
        "id": "D6vN1y0UUiQ1"
      }
    },
    {
      "cell_type": "code",
      "source": [
        "x = (x - x.min(axis=0))/(x.max(axis=0) - x.min(axis=0))"
      ],
      "metadata": {
        "id": "Jqje-33uUpHF"
      },
      "execution_count": 28,
      "outputs": []
    },
    {
      "cell_type": "markdown",
      "source": [
        "## **Separating the Dataset**"
      ],
      "metadata": {
        "id": "v6O1WXBxU2-H"
      }
    },
    {
      "cell_type": "code",
      "source": [
        "x_train, x_test, y_train, y_test = train_test_split(x, y, test_size=0.2, random_state=27, shuffle=True, stratify=y)"
      ],
      "metadata": {
        "id": "ATnSeHJ_U6bH"
      },
      "execution_count": 29,
      "outputs": []
    },
    {
      "cell_type": "code",
      "source": [
        "x_train, x_val, y_train, y_val = train_test_split(x_train, y_train, test_size=0.1, random_state=27)"
      ],
      "metadata": {
        "id": "dSTeRV29VoG5"
      },
      "execution_count": 30,
      "outputs": []
    },
    {
      "cell_type": "markdown",
      "source": [
        "## **Creating the Dataset Object**"
      ],
      "metadata": {
        "id": "0JcYKFluV34W"
      }
    },
    {
      "cell_type": "code",
      "source": [
        "class SpecificDataset(Dataset):\n",
        "\n",
        "  def __init__(self, x, y):\n",
        "    self.features = torch.tensor(x, dtype=torch.float32)\n",
        "    self.labels = torch.tensor(y, dtype=torch.float32)\n",
        "\n",
        "  def __getitem__(self, index):\n",
        "    x = self.features[index]\n",
        "    y = self.labels[index]\n",
        "\n",
        "    return x, y\n",
        "\n",
        "  def __len__(self):\n",
        "    return self.labels.shape[0]"
      ],
      "metadata": {
        "id": "ZgUfKNQhwCcJ"
      },
      "execution_count": 31,
      "outputs": []
    },
    {
      "cell_type": "code",
      "source": [
        "train_dataset = SpecificDataset(x_train, y_train)"
      ],
      "metadata": {
        "id": "XZ4iMLnGw7ES"
      },
      "execution_count": 32,
      "outputs": []
    },
    {
      "cell_type": "code",
      "source": [
        "test_dataset = SpecificDataset(x_test, y_test)"
      ],
      "metadata": {
        "id": "bOiZIlUDxROI"
      },
      "execution_count": 33,
      "outputs": []
    },
    {
      "cell_type": "code",
      "source": [
        "val_dataset = SpecificDataset(x_val, y_val)"
      ],
      "metadata": {
        "id": "OpR7eJh_zCzs"
      },
      "execution_count": 34,
      "outputs": []
    },
    {
      "cell_type": "code",
      "source": [
        "train_dataloader = DataLoader(dataset=train_dataset,\n",
        "                              batch_size=10,\n",
        "                              shuffle=True)"
      ],
      "metadata": {
        "id": "0Sz3_jAnzGts"
      },
      "execution_count": 35,
      "outputs": []
    },
    {
      "cell_type": "code",
      "source": [
        "test_dataloader = DataLoader(dataset=test_dataset,\n",
        "                             batch_size=10,\n",
        "                             shuffle=False)"
      ],
      "metadata": {
        "id": "FKENHFNdzQab"
      },
      "execution_count": 36,
      "outputs": []
    },
    {
      "cell_type": "code",
      "source": [
        "val_dataloader = DataLoader(dataset=val_dataset,\n",
        "                            batch_size=10,\n",
        "                            shuffle=False)"
      ],
      "metadata": {
        "id": "ST9Y4vaCzYWZ"
      },
      "execution_count": 37,
      "outputs": []
    },
    {
      "cell_type": "markdown",
      "source": [
        "## **MLP**"
      ],
      "metadata": {
        "id": "2THHas5Wzex7"
      }
    },
    {
      "cell_type": "code",
      "source": [
        "class MLP(torch.nn.Module):\n",
        "\n",
        "  def __init__(self, input, output):\n",
        "    super().__init__()\n",
        "\n",
        "    self.layers = torch.nn.Sequential(\n",
        "        torch.nn.Linear(input, 8),\n",
        "        torch.nn.ReLU(),\n",
        "\n",
        "        torch.nn.Linear(8, 8),\n",
        "        torch.nn.ReLU(),\n",
        "\n",
        "        torch.nn.Linear(8, output),\n",
        "    )\n",
        "\n",
        "  def forward(self, x):\n",
        "    return self.layers(x)"
      ],
      "metadata": {
        "id": "Of0Fr-SHzlG5"
      },
      "execution_count": 38,
      "outputs": []
    },
    {
      "cell_type": "code",
      "source": [
        "torch.manual_seed(27)"
      ],
      "metadata": {
        "colab": {
          "base_uri": "https://localhost:8080/"
        },
        "id": "TsmFgZkf157Y",
        "outputId": "b31bf2d2-b49e-482f-fdc7-e0c509014e97"
      },
      "execution_count": 39,
      "outputs": [
        {
          "output_type": "execute_result",
          "data": {
            "text/plain": [
              "<torch._C.Generator at 0x7c5acbcef110>"
            ]
          },
          "metadata": {},
          "execution_count": 39
        }
      ]
    },
    {
      "cell_type": "code",
      "source": [
        "model = MLP(4, 4)"
      ],
      "metadata": {
        "id": "fqpSfXZS0yc7"
      },
      "execution_count": 58,
      "outputs": []
    },
    {
      "cell_type": "code",
      "source": [
        "optimizer = torch.optim.SGD(model.parameters(), lr=0.3)"
      ],
      "metadata": {
        "id": "BFcSLaop1BPa"
      },
      "execution_count": 59,
      "outputs": []
    },
    {
      "cell_type": "markdown",
      "source": [
        "## **Training**"
      ],
      "metadata": {
        "id": "P7ghkTfS12td"
      }
    },
    {
      "cell_type": "code",
      "source": [
        "def accuracy(model, dataloader):\n",
        "  accuracy = 0.0\n",
        "  total = 0\n",
        "\n",
        "  model.eval()\n",
        "\n",
        "  for index, (x, y) in enumerate(dataloader):\n",
        "\n",
        "    with torch.inference_mode():\n",
        "      z = model(x)\n",
        "\n",
        "    labels = torch.argmax(z, dim=1)\n",
        "    labels = labels.view(y.shape).to(y.dtype)\n",
        "\n",
        "    results = labels == y\n",
        "    accuracy += results.sum().item()\n",
        "    total += len(results)\n",
        "\n",
        "  return accuracy / total"
      ],
      "metadata": {
        "id": "XbYfFh1t_Bo9"
      },
      "execution_count": 60,
      "outputs": []
    },
    {
      "cell_type": "code",
      "source": [
        "epochs = 10"
      ],
      "metadata": {
        "id": "dPB_srlB2A6p"
      },
      "execution_count": 61,
      "outputs": []
    },
    {
      "cell_type": "code",
      "source": [
        "for epoch in range(epochs):\n",
        "  model.train()\n",
        "\n",
        "  for index, (x, y) in enumerate(train_dataloader):\n",
        "    z = model(x)\n",
        "    y = y.long()\n",
        "    loss = F.cross_entropy(z, y)\n",
        "\n",
        "    optimizer.zero_grad()\n",
        "    loss.backward()\n",
        "    optimizer.step()\n",
        "\n",
        "    print(f'Epoch: {epoch + 1:03d}/{epochs:03d} | Batch: {index + 1:03d}/{len(train_dataloader):03d} | Loss: {loss:.3f}')\n",
        "\n",
        "  print(f'Train Accuracy: {accuracy(model, train_dataloader)*100: .2f} | Val Accuracy: {accuracy(model, val_dataloader)*100: .2f}%')"
      ],
      "metadata": {
        "colab": {
          "base_uri": "https://localhost:8080/"
        },
        "id": "tVYpOTb42CO6",
        "outputId": "840f762f-14b8-46f5-a5e6-198610d28ba0"
      },
      "execution_count": 62,
      "outputs": [
        {
          "output_type": "stream",
          "name": "stdout",
          "text": [
            "Epoch: 001/010 | Batch: 001/011 | Loss: 1.354\n",
            "Epoch: 001/010 | Batch: 002/011 | Loss: 1.354\n",
            "Epoch: 001/010 | Batch: 003/011 | Loss: 1.300\n",
            "Epoch: 001/010 | Batch: 004/011 | Loss: 1.285\n",
            "Epoch: 001/010 | Batch: 005/011 | Loss: 1.251\n",
            "Epoch: 001/010 | Batch: 006/011 | Loss: 1.252\n",
            "Epoch: 001/010 | Batch: 007/011 | Loss: 1.241\n",
            "Epoch: 001/010 | Batch: 008/011 | Loss: 1.218\n",
            "Epoch: 001/010 | Batch: 009/011 | Loss: 1.240\n",
            "Epoch: 001/010 | Batch: 010/011 | Loss: 1.216\n",
            "Epoch: 001/010 | Batch: 011/011 | Loss: 1.170\n",
            "Train Accuracy:  35.19 | Val Accuracy:  16.67%\n",
            "Epoch: 002/010 | Batch: 001/011 | Loss: 1.196\n",
            "Epoch: 002/010 | Batch: 002/011 | Loss: 1.187\n",
            "Epoch: 002/010 | Batch: 003/011 | Loss: 1.135\n",
            "Epoch: 002/010 | Batch: 004/011 | Loss: 1.178\n",
            "Epoch: 002/010 | Batch: 005/011 | Loss: 1.244\n",
            "Epoch: 002/010 | Batch: 006/011 | Loss: 1.144\n",
            "Epoch: 002/010 | Batch: 007/011 | Loss: 1.131\n",
            "Epoch: 002/010 | Batch: 008/011 | Loss: 1.144\n",
            "Epoch: 002/010 | Batch: 009/011 | Loss: 1.114\n",
            "Epoch: 002/010 | Batch: 010/011 | Loss: 1.034\n",
            "Epoch: 002/010 | Batch: 011/011 | Loss: 1.249\n",
            "Train Accuracy:  35.19 | Val Accuracy:  16.67%\n",
            "Epoch: 003/010 | Batch: 001/011 | Loss: 1.142\n",
            "Epoch: 003/010 | Batch: 002/011 | Loss: 1.077\n",
            "Epoch: 003/010 | Batch: 003/011 | Loss: 1.048\n",
            "Epoch: 003/010 | Batch: 004/011 | Loss: 1.059\n",
            "Epoch: 003/010 | Batch: 005/011 | Loss: 1.048\n",
            "Epoch: 003/010 | Batch: 006/011 | Loss: 1.028\n",
            "Epoch: 003/010 | Batch: 007/011 | Loss: 1.027\n",
            "Epoch: 003/010 | Batch: 008/011 | Loss: 0.976\n",
            "Epoch: 003/010 | Batch: 009/011 | Loss: 1.017\n",
            "Epoch: 003/010 | Batch: 010/011 | Loss: 0.980\n",
            "Epoch: 003/010 | Batch: 011/011 | Loss: 1.014\n",
            "Train Accuracy:  87.96 | Val Accuracy:  91.67%\n",
            "Epoch: 004/010 | Batch: 001/011 | Loss: 0.933\n",
            "Epoch: 004/010 | Batch: 002/011 | Loss: 0.955\n",
            "Epoch: 004/010 | Batch: 003/011 | Loss: 0.844\n",
            "Epoch: 004/010 | Batch: 004/011 | Loss: 1.009\n",
            "Epoch: 004/010 | Batch: 005/011 | Loss: 0.771\n",
            "Epoch: 004/010 | Batch: 006/011 | Loss: 0.742\n",
            "Epoch: 004/010 | Batch: 007/011 | Loss: 0.746\n",
            "Epoch: 004/010 | Batch: 008/011 | Loss: 0.677\n",
            "Epoch: 004/010 | Batch: 009/011 | Loss: 0.662\n",
            "Epoch: 004/010 | Batch: 010/011 | Loss: 0.716\n",
            "Epoch: 004/010 | Batch: 011/011 | Loss: 0.565\n",
            "Train Accuracy:  77.78 | Val Accuracy:  83.33%\n",
            "Epoch: 005/010 | Batch: 001/011 | Loss: 0.617\n",
            "Epoch: 005/010 | Batch: 002/011 | Loss: 0.520\n",
            "Epoch: 005/010 | Batch: 003/011 | Loss: 0.580\n",
            "Epoch: 005/010 | Batch: 004/011 | Loss: 0.666\n",
            "Epoch: 005/010 | Batch: 005/011 | Loss: 0.445\n",
            "Epoch: 005/010 | Batch: 006/011 | Loss: 0.474\n",
            "Epoch: 005/010 | Batch: 007/011 | Loss: 0.638\n",
            "Epoch: 005/010 | Batch: 008/011 | Loss: 0.530\n",
            "Epoch: 005/010 | Batch: 009/011 | Loss: 0.630\n",
            "Epoch: 005/010 | Batch: 010/011 | Loss: 0.499\n",
            "Epoch: 005/010 | Batch: 011/011 | Loss: 0.925\n",
            "Train Accuracy:  62.96 | Val Accuracy:  83.33%\n",
            "Epoch: 006/010 | Batch: 001/011 | Loss: 0.668\n",
            "Epoch: 006/010 | Batch: 002/011 | Loss: 0.453\n",
            "Epoch: 006/010 | Batch: 003/011 | Loss: 0.411\n",
            "Epoch: 006/010 | Batch: 004/011 | Loss: 0.520\n",
            "Epoch: 006/010 | Batch: 005/011 | Loss: 0.525\n",
            "Epoch: 006/010 | Batch: 006/011 | Loss: 0.558\n",
            "Epoch: 006/010 | Batch: 007/011 | Loss: 0.487\n",
            "Epoch: 006/010 | Batch: 008/011 | Loss: 0.352\n",
            "Epoch: 006/010 | Batch: 009/011 | Loss: 0.514\n",
            "Epoch: 006/010 | Batch: 010/011 | Loss: 0.428\n",
            "Epoch: 006/010 | Batch: 011/011 | Loss: 0.140\n",
            "Train Accuracy:  87.96 | Val Accuracy:  91.67%\n",
            "Epoch: 007/010 | Batch: 001/011 | Loss: 0.335\n",
            "Epoch: 007/010 | Batch: 002/011 | Loss: 0.458\n",
            "Epoch: 007/010 | Batch: 003/011 | Loss: 0.714\n",
            "Epoch: 007/010 | Batch: 004/011 | Loss: 0.898\n",
            "Epoch: 007/010 | Batch: 005/011 | Loss: 0.380\n",
            "Epoch: 007/010 | Batch: 006/011 | Loss: 0.487\n",
            "Epoch: 007/010 | Batch: 007/011 | Loss: 0.557\n",
            "Epoch: 007/010 | Batch: 008/011 | Loss: 0.387\n",
            "Epoch: 007/010 | Batch: 009/011 | Loss: 0.335\n",
            "Epoch: 007/010 | Batch: 010/011 | Loss: 0.247\n",
            "Epoch: 007/010 | Batch: 011/011 | Loss: 0.303\n",
            "Train Accuracy:  77.78 | Val Accuracy:  83.33%\n",
            "Epoch: 008/010 | Batch: 001/011 | Loss: 0.262\n",
            "Epoch: 008/010 | Batch: 002/011 | Loss: 0.228\n",
            "Epoch: 008/010 | Batch: 003/011 | Loss: 0.313\n",
            "Epoch: 008/010 | Batch: 004/011 | Loss: 0.370\n",
            "Epoch: 008/010 | Batch: 005/011 | Loss: 0.206\n",
            "Epoch: 008/010 | Batch: 006/011 | Loss: 0.257\n",
            "Epoch: 008/010 | Batch: 007/011 | Loss: 0.223\n",
            "Epoch: 008/010 | Batch: 008/011 | Loss: 0.151\n",
            "Epoch: 008/010 | Batch: 009/011 | Loss: 0.194\n",
            "Epoch: 008/010 | Batch: 010/011 | Loss: 0.134\n",
            "Epoch: 008/010 | Batch: 011/011 | Loss: 0.404\n",
            "Train Accuracy:  57.41 | Val Accuracy:  83.33%\n",
            "Epoch: 009/010 | Batch: 001/011 | Loss: 2.601\n",
            "Epoch: 009/010 | Batch: 002/011 | Loss: 2.408\n",
            "Epoch: 009/010 | Batch: 003/011 | Loss: 0.310\n",
            "Epoch: 009/010 | Batch: 004/011 | Loss: 0.446\n",
            "Epoch: 009/010 | Batch: 005/011 | Loss: 0.483\n",
            "Epoch: 009/010 | Batch: 006/011 | Loss: 0.321\n",
            "Epoch: 009/010 | Batch: 007/011 | Loss: 0.691\n",
            "Epoch: 009/010 | Batch: 008/011 | Loss: 0.538\n",
            "Epoch: 009/010 | Batch: 009/011 | Loss: 0.482\n",
            "Epoch: 009/010 | Batch: 010/011 | Loss: 0.282\n",
            "Epoch: 009/010 | Batch: 011/011 | Loss: 0.256\n",
            "Train Accuracy:  91.67 | Val Accuracy:  91.67%\n",
            "Epoch: 010/010 | Batch: 001/011 | Loss: 0.421\n",
            "Epoch: 010/010 | Batch: 002/011 | Loss: 0.271\n",
            "Epoch: 010/010 | Batch: 003/011 | Loss: 0.311\n",
            "Epoch: 010/010 | Batch: 004/011 | Loss: 0.283\n",
            "Epoch: 010/010 | Batch: 005/011 | Loss: 0.238\n",
            "Epoch: 010/010 | Batch: 006/011 | Loss: 0.238\n",
            "Epoch: 010/010 | Batch: 007/011 | Loss: 0.267\n",
            "Epoch: 010/010 | Batch: 008/011 | Loss: 0.339\n",
            "Epoch: 010/010 | Batch: 009/011 | Loss: 0.752\n",
            "Epoch: 010/010 | Batch: 010/011 | Loss: 0.675\n",
            "Epoch: 010/010 | Batch: 011/011 | Loss: 0.431\n",
            "Train Accuracy:  95.37 | Val Accuracy:  91.67%\n"
          ]
        }
      ]
    },
    {
      "cell_type": "markdown",
      "source": [
        "## **Evaluating the Results**"
      ],
      "metadata": {
        "id": "I3lejjXY25HK"
      }
    },
    {
      "cell_type": "code",
      "source": [
        "print(f'Accuracy (test): {accuracy(model, test_dataloader):.2f}')"
      ],
      "metadata": {
        "colab": {
          "base_uri": "https://localhost:8080/"
        },
        "id": "GSfDV4ai5lZJ",
        "outputId": "0bb95665-0b8c-4f39-f5ae-99924e6229eb"
      },
      "execution_count": 63,
      "outputs": [
        {
          "output_type": "stream",
          "name": "stdout",
          "text": [
            "Accuracy (test): 0.97\n"
          ]
        }
      ]
    }
  ]
}