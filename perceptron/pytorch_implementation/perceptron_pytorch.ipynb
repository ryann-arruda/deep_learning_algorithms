{
  "cells": [
    {
      "cell_type": "code",
      "execution_count": 49,
      "metadata": {
        "id": "lOiRZ001ADGD"
      },
      "outputs": [],
      "source": [
        "import pandas as pd\n",
        "from sklearn.model_selection import train_test_split\n",
        "import torch\n",
        "import torch.nn.functional as F\n",
        "from torch.utils.data import Dataset, DataLoader\n",
        "from tqdm import tqdm"
      ]
    },
    {
      "cell_type": "markdown",
      "metadata": {
        "id": "vvEFBXoF8Am1"
      },
      "source": [
        "## **Loading Dataset**"
      ]
    },
    {
      "cell_type": "code",
      "source": [
        "url = \"https://raw.githubusercontent.com/jbrownlee/Datasets/master/pima-indians-diabetes.data.csv\""
      ],
      "metadata": {
        "id": "w501hSBUfV8J"
      },
      "execution_count": 50,
      "outputs": []
    },
    {
      "cell_type": "code",
      "source": [
        "cols = [\"Pregnancies\", \"Glucose\", \"BloodPressure\", \"SkinThickness\", \"Insulin\",\n",
        "        \"BMI\", \"DiabetesPedigreeFunction\", \"Age\", \"Outcome\"]"
      ],
      "metadata": {
        "id": "9ncXGPMqfY4e"
      },
      "execution_count": 51,
      "outputs": []
    },
    {
      "cell_type": "code",
      "execution_count": 52,
      "metadata": {
        "id": "Fetxx6rJO_mX"
      },
      "outputs": [],
      "source": [
        "data = pd.read_csv(url, names=cols)"
      ]
    },
    {
      "cell_type": "code",
      "execution_count": 53,
      "metadata": {
        "id": "HN9te7TMPBLm"
      },
      "outputs": [],
      "source": [
        "x = data[[\"Pregnancies\", \"Glucose\", \"BloodPressure\", \"SkinThickness\", \"Insulin\",\n",
        "        \"BMI\", \"DiabetesPedigreeFunction\", \"Age\"]].values\n",
        "\n",
        "y = data[['Outcome']].values"
      ]
    },
    {
      "cell_type": "markdown",
      "source": [
        "## **Data Normalization**"
      ],
      "metadata": {
        "id": "gBlwTRUwdWbJ"
      }
    },
    {
      "cell_type": "code",
      "source": [
        "x = (x - x.min())/(x.max() - x.min())"
      ],
      "metadata": {
        "id": "3ANIv1lPdiVZ"
      },
      "execution_count": 54,
      "outputs": []
    },
    {
      "cell_type": "markdown",
      "metadata": {
        "id": "wKfqHTGjPEsH"
      },
      "source": [
        "## **Separating the Dataset**"
      ]
    },
    {
      "cell_type": "code",
      "execution_count": 55,
      "metadata": {
        "id": "P8DSTMNkPTov"
      },
      "outputs": [],
      "source": [
        "x_train, x_test, y_train, y_test = train_test_split(x, y, test_size=0.3, random_state=27)"
      ]
    },
    {
      "cell_type": "markdown",
      "metadata": {
        "id": "XIU1HpGIPqhX"
      },
      "source": [
        "## **Creating the Dataset Object**"
      ]
    },
    {
      "cell_type": "code",
      "execution_count": 56,
      "metadata": {
        "id": "5ugvEJaqPv4G"
      },
      "outputs": [],
      "source": [
        "class SpecificDataset(Dataset):\n",
        "  def __init__(self, x, y):\n",
        "    self.features = torch.tensor(x, dtype=torch.float32)\n",
        "    self.labels = torch.tensor(y, dtype=torch.float32)\n",
        "\n",
        "  def __getitem__(self, index):\n",
        "    x = self.features[index]\n",
        "    y = self.labels[index]\n",
        "\n",
        "    return x, y\n",
        "\n",
        "  def __len__(self):\n",
        "    return self.labels.shape[0]"
      ]
    },
    {
      "cell_type": "code",
      "execution_count": 57,
      "metadata": {
        "id": "R-Rx-HUrFM-c"
      },
      "outputs": [],
      "source": [
        "train_dataset = SpecificDataset(x_train, y_train)\n",
        "test_dataset = SpecificDataset(x_test, y_test)"
      ]
    },
    {
      "cell_type": "code",
      "execution_count": 58,
      "metadata": {
        "id": "304UbcOPFwus"
      },
      "outputs": [],
      "source": [
        "train_dataloader = DataLoader(dataset=train_dataset,\n",
        "                              batch_size=10,\n",
        "                              shuffle=True)\n",
        "\n",
        "test_dataloader = DataLoader(dataset=test_dataset,\n",
        "                             batch_size=10,\n",
        "                             shuffle=True)"
      ]
    },
    {
      "cell_type": "markdown",
      "metadata": {
        "id": "Cwghr3smQSzS"
      },
      "source": [
        "## **Perceptron**"
      ]
    },
    {
      "cell_type": "code",
      "execution_count": 59,
      "metadata": {
        "id": "924e7iVPQXhG"
      },
      "outputs": [],
      "source": [
        "class Perceptron(torch.nn.Module):\n",
        "  def __init__(self, num_features):\n",
        "    super().__init__()\n",
        "    self.linear = torch.nn.Linear(num_features, 1)\n",
        "\n",
        "  def forward(self, x):\n",
        "    z = self.linear(x)\n",
        "\n",
        "    return torch.sigmoid(z)"
      ]
    },
    {
      "cell_type": "code",
      "execution_count": 60,
      "metadata": {
        "colab": {
          "base_uri": "https://localhost:8080/"
        },
        "id": "tOxn9acfG3xx",
        "outputId": "7d5763ad-4b82-4b13-e807-c423cef4ae2e"
      },
      "outputs": [
        {
          "output_type": "execute_result",
          "data": {
            "text/plain": [
              "<torch._C.Generator at 0x7d6cffd72b70>"
            ]
          },
          "metadata": {},
          "execution_count": 60
        }
      ],
      "source": [
        "torch.manual_seed(27)"
      ]
    },
    {
      "cell_type": "code",
      "execution_count": 61,
      "metadata": {
        "id": "qRTwyirIqr_-"
      },
      "outputs": [],
      "source": [
        "model = Perceptron(8)"
      ]
    },
    {
      "cell_type": "code",
      "execution_count": 62,
      "metadata": {
        "id": "4fZiGPi7gh8r"
      },
      "outputs": [],
      "source": [
        "optimizer = torch.optim.SGD(model.parameters(), lr=1.0)"
      ]
    },
    {
      "cell_type": "markdown",
      "metadata": {
        "id": "551jui27r6z4"
      },
      "source": [
        "## **Training**"
      ]
    },
    {
      "cell_type": "code",
      "execution_count": null,
      "metadata": {
        "id": "9D8t_E1HgzfF"
      },
      "outputs": [],
      "source": [
        "epochs = 10"
      ]
    },
    {
      "cell_type": "code",
      "execution_count": 63,
      "metadata": {
        "colab": {
          "base_uri": "https://localhost:8080/"
        },
        "id": "m3UpYclVgt2A",
        "outputId": "70d8ea57-b25e-40f3-972b-3d4e46deca13"
      },
      "outputs": [
        {
          "output_type": "stream",
          "name": "stdout",
          "text": [
            "Epoch: 001/010 | Batch: 001/054 | Loss: 0.675\n",
            "Epoch: 001/010 | Batch: 002/054 | Loss: 0.644\n",
            "Epoch: 001/010 | Batch: 003/054 | Loss: 0.682\n",
            "Epoch: 001/010 | Batch: 004/054 | Loss: 0.675\n",
            "Epoch: 001/010 | Batch: 005/054 | Loss: 0.629\n",
            "Epoch: 001/010 | Batch: 006/054 | Loss: 0.729\n",
            "Epoch: 001/010 | Batch: 007/054 | Loss: 0.681\n",
            "Epoch: 001/010 | Batch: 008/054 | Loss: 0.683\n",
            "Epoch: 001/010 | Batch: 009/054 | Loss: 0.677\n",
            "Epoch: 001/010 | Batch: 010/054 | Loss: 0.716\n",
            "Epoch: 001/010 | Batch: 011/054 | Loss: 0.619\n",
            "Epoch: 001/010 | Batch: 012/054 | Loss: 0.732\n",
            "Epoch: 001/010 | Batch: 013/054 | Loss: 0.599\n",
            "Epoch: 001/010 | Batch: 014/054 | Loss: 0.678\n",
            "Epoch: 001/010 | Batch: 015/054 | Loss: 0.621\n",
            "Epoch: 001/010 | Batch: 016/054 | Loss: 0.618\n",
            "Epoch: 001/010 | Batch: 017/054 | Loss: 0.748\n",
            "Epoch: 001/010 | Batch: 018/054 | Loss: 0.627\n",
            "Epoch: 001/010 | Batch: 019/054 | Loss: 0.621\n",
            "Epoch: 001/010 | Batch: 020/054 | Loss: 0.743\n",
            "Epoch: 001/010 | Batch: 021/054 | Loss: 0.675\n",
            "Epoch: 001/010 | Batch: 022/054 | Loss: 0.764\n",
            "Epoch: 001/010 | Batch: 023/054 | Loss: 0.722\n",
            "Epoch: 001/010 | Batch: 024/054 | Loss: 0.679\n",
            "Epoch: 001/010 | Batch: 025/054 | Loss: 0.626\n",
            "Epoch: 001/010 | Batch: 026/054 | Loss: 0.729\n",
            "Epoch: 001/010 | Batch: 027/054 | Loss: 0.599\n",
            "Epoch: 001/010 | Batch: 028/054 | Loss: 0.736\n",
            "Epoch: 001/010 | Batch: 029/054 | Loss: 0.760\n",
            "Epoch: 001/010 | Batch: 030/054 | Loss: 0.611\n",
            "Epoch: 001/010 | Batch: 031/054 | Loss: 0.618\n",
            "Epoch: 001/010 | Batch: 032/054 | Loss: 0.619\n",
            "Epoch: 001/010 | Batch: 033/054 | Loss: 0.613\n",
            "Epoch: 001/010 | Batch: 034/054 | Loss: 0.684\n",
            "Epoch: 001/010 | Batch: 035/054 | Loss: 0.680\n",
            "Epoch: 001/010 | Batch: 036/054 | Loss: 0.560\n",
            "Epoch: 001/010 | Batch: 037/054 | Loss: 0.539\n",
            "Epoch: 001/010 | Batch: 038/054 | Loss: 0.610\n",
            "Epoch: 001/010 | Batch: 039/054 | Loss: 0.698\n",
            "Epoch: 001/010 | Batch: 040/054 | Loss: 0.611\n",
            "Epoch: 001/010 | Batch: 041/054 | Loss: 0.764\n",
            "Epoch: 001/010 | Batch: 042/054 | Loss: 0.675\n",
            "Epoch: 001/010 | Batch: 043/054 | Loss: 0.671\n",
            "Epoch: 001/010 | Batch: 044/054 | Loss: 0.768\n",
            "Epoch: 001/010 | Batch: 045/054 | Loss: 0.698\n",
            "Epoch: 001/010 | Batch: 046/054 | Loss: 0.657\n",
            "Epoch: 001/010 | Batch: 047/054 | Loss: 0.569\n",
            "Epoch: 001/010 | Batch: 048/054 | Loss: 0.611\n",
            "Epoch: 001/010 | Batch: 049/054 | Loss: 0.541\n",
            "Epoch: 001/010 | Batch: 050/054 | Loss: 0.519\n",
            "Epoch: 001/010 | Batch: 051/054 | Loss: 0.798\n",
            "Epoch: 001/010 | Batch: 052/054 | Loss: 0.466\n",
            "Epoch: 001/010 | Batch: 053/054 | Loss: 0.421\n",
            "Epoch: 001/010 | Batch: 054/054 | Loss: 0.436\n",
            "Epoch: 002/010 | Batch: 001/054 | Loss: 0.495\n",
            "Epoch: 002/010 | Batch: 002/054 | Loss: 0.748\n",
            "Epoch: 002/010 | Batch: 003/054 | Loss: 0.722\n",
            "Epoch: 002/010 | Batch: 004/054 | Loss: 0.865\n",
            "Epoch: 002/010 | Batch: 005/054 | Loss: 0.666\n",
            "Epoch: 002/010 | Batch: 006/054 | Loss: 0.613\n",
            "Epoch: 002/010 | Batch: 007/054 | Loss: 0.807\n",
            "Epoch: 002/010 | Batch: 008/054 | Loss: 0.680\n",
            "Epoch: 002/010 | Batch: 009/054 | Loss: 0.596\n",
            "Epoch: 002/010 | Batch: 010/054 | Loss: 0.612\n",
            "Epoch: 002/010 | Batch: 011/054 | Loss: 0.557\n",
            "Epoch: 002/010 | Batch: 012/054 | Loss: 0.838\n",
            "Epoch: 002/010 | Batch: 013/054 | Loss: 0.615\n",
            "Epoch: 002/010 | Batch: 014/054 | Loss: 0.557\n",
            "Epoch: 002/010 | Batch: 015/054 | Loss: 0.597\n",
            "Epoch: 002/010 | Batch: 016/054 | Loss: 0.749\n",
            "Epoch: 002/010 | Batch: 017/054 | Loss: 0.712\n",
            "Epoch: 002/010 | Batch: 018/054 | Loss: 0.585\n",
            "Epoch: 002/010 | Batch: 019/054 | Loss: 0.729\n",
            "Epoch: 002/010 | Batch: 020/054 | Loss: 0.689\n",
            "Epoch: 002/010 | Batch: 021/054 | Loss: 0.685\n",
            "Epoch: 002/010 | Batch: 022/054 | Loss: 0.639\n",
            "Epoch: 002/010 | Batch: 023/054 | Loss: 0.607\n",
            "Epoch: 002/010 | Batch: 024/054 | Loss: 0.562\n",
            "Epoch: 002/010 | Batch: 025/054 | Loss: 0.660\n",
            "Epoch: 002/010 | Batch: 026/054 | Loss: 0.560\n",
            "Epoch: 002/010 | Batch: 027/054 | Loss: 0.668\n",
            "Epoch: 002/010 | Batch: 028/054 | Loss: 0.830\n",
            "Epoch: 002/010 | Batch: 029/054 | Loss: 0.658\n",
            "Epoch: 002/010 | Batch: 030/054 | Loss: 0.615\n",
            "Epoch: 002/010 | Batch: 031/054 | Loss: 0.632\n",
            "Epoch: 002/010 | Batch: 032/054 | Loss: 0.728\n",
            "Epoch: 002/010 | Batch: 033/054 | Loss: 0.607\n",
            "Epoch: 002/010 | Batch: 034/054 | Loss: 0.625\n",
            "Epoch: 002/010 | Batch: 035/054 | Loss: 0.489\n",
            "Epoch: 002/010 | Batch: 036/054 | Loss: 0.699\n",
            "Epoch: 002/010 | Batch: 037/054 | Loss: 0.538\n",
            "Epoch: 002/010 | Batch: 038/054 | Loss: 0.526\n",
            "Epoch: 002/010 | Batch: 039/054 | Loss: 0.637\n",
            "Epoch: 002/010 | Batch: 040/054 | Loss: 0.711\n",
            "Epoch: 002/010 | Batch: 041/054 | Loss: 0.675\n",
            "Epoch: 002/010 | Batch: 042/054 | Loss: 0.814\n",
            "Epoch: 002/010 | Batch: 043/054 | Loss: 0.659\n",
            "Epoch: 002/010 | Batch: 044/054 | Loss: 0.623\n",
            "Epoch: 002/010 | Batch: 045/054 | Loss: 0.731\n",
            "Epoch: 002/010 | Batch: 046/054 | Loss: 0.543\n",
            "Epoch: 002/010 | Batch: 047/054 | Loss: 0.517\n",
            "Epoch: 002/010 | Batch: 048/054 | Loss: 0.698\n",
            "Epoch: 002/010 | Batch: 049/054 | Loss: 0.656\n",
            "Epoch: 002/010 | Batch: 050/054 | Loss: 0.471\n",
            "Epoch: 002/010 | Batch: 051/054 | Loss: 0.614\n",
            "Epoch: 002/010 | Batch: 052/054 | Loss: 0.790\n",
            "Epoch: 002/010 | Batch: 053/054 | Loss: 0.595\n",
            "Epoch: 002/010 | Batch: 054/054 | Loss: 0.699\n",
            "Epoch: 003/010 | Batch: 001/054 | Loss: 0.673\n",
            "Epoch: 003/010 | Batch: 002/054 | Loss: 0.551\n",
            "Epoch: 003/010 | Batch: 003/054 | Loss: 0.764\n",
            "Epoch: 003/010 | Batch: 004/054 | Loss: 0.607\n",
            "Epoch: 003/010 | Batch: 005/054 | Loss: 0.476\n",
            "Epoch: 003/010 | Batch: 006/054 | Loss: 0.752\n",
            "Epoch: 003/010 | Batch: 007/054 | Loss: 0.584\n",
            "Epoch: 003/010 | Batch: 008/054 | Loss: 0.615\n",
            "Epoch: 003/010 | Batch: 009/054 | Loss: 0.766\n",
            "Epoch: 003/010 | Batch: 010/054 | Loss: 0.747\n",
            "Epoch: 003/010 | Batch: 011/054 | Loss: 0.696\n",
            "Epoch: 003/010 | Batch: 012/054 | Loss: 0.680\n",
            "Epoch: 003/010 | Batch: 013/054 | Loss: 0.617\n",
            "Epoch: 003/010 | Batch: 014/054 | Loss: 0.707\n",
            "Epoch: 003/010 | Batch: 015/054 | Loss: 0.686\n",
            "Epoch: 003/010 | Batch: 016/054 | Loss: 0.640\n",
            "Epoch: 003/010 | Batch: 017/054 | Loss: 0.692\n",
            "Epoch: 003/010 | Batch: 018/054 | Loss: 0.634\n",
            "Epoch: 003/010 | Batch: 019/054 | Loss: 0.536\n",
            "Epoch: 003/010 | Batch: 020/054 | Loss: 0.470\n",
            "Epoch: 003/010 | Batch: 021/054 | Loss: 0.522\n",
            "Epoch: 003/010 | Batch: 022/054 | Loss: 0.793\n",
            "Epoch: 003/010 | Batch: 023/054 | Loss: 0.663\n",
            "Epoch: 003/010 | Batch: 024/054 | Loss: 0.538\n",
            "Epoch: 003/010 | Batch: 025/054 | Loss: 0.572\n",
            "Epoch: 003/010 | Batch: 026/054 | Loss: 0.686\n",
            "Epoch: 003/010 | Batch: 027/054 | Loss: 0.715\n",
            "Epoch: 003/010 | Batch: 028/054 | Loss: 0.638\n",
            "Epoch: 003/010 | Batch: 029/054 | Loss: 0.537\n",
            "Epoch: 003/010 | Batch: 030/054 | Loss: 0.768\n",
            "Epoch: 003/010 | Batch: 031/054 | Loss: 0.755\n",
            "Epoch: 003/010 | Batch: 032/054 | Loss: 0.519\n",
            "Epoch: 003/010 | Batch: 033/054 | Loss: 0.661\n",
            "Epoch: 003/010 | Batch: 034/054 | Loss: 0.650\n",
            "Epoch: 003/010 | Batch: 035/054 | Loss: 0.570\n",
            "Epoch: 003/010 | Batch: 036/054 | Loss: 0.551\n",
            "Epoch: 003/010 | Batch: 037/054 | Loss: 0.606\n",
            "Epoch: 003/010 | Batch: 038/054 | Loss: 0.602\n",
            "Epoch: 003/010 | Batch: 039/054 | Loss: 0.711\n",
            "Epoch: 003/010 | Batch: 040/054 | Loss: 0.765\n",
            "Epoch: 003/010 | Batch: 041/054 | Loss: 0.596\n",
            "Epoch: 003/010 | Batch: 042/054 | Loss: 0.877\n",
            "Epoch: 003/010 | Batch: 043/054 | Loss: 0.684\n",
            "Epoch: 003/010 | Batch: 044/054 | Loss: 0.624\n",
            "Epoch: 003/010 | Batch: 045/054 | Loss: 0.620\n",
            "Epoch: 003/010 | Batch: 046/054 | Loss: 0.548\n",
            "Epoch: 003/010 | Batch: 047/054 | Loss: 0.596\n",
            "Epoch: 003/010 | Batch: 048/054 | Loss: 0.515\n",
            "Epoch: 003/010 | Batch: 049/054 | Loss: 0.581\n",
            "Epoch: 003/010 | Batch: 050/054 | Loss: 0.559\n",
            "Epoch: 003/010 | Batch: 051/054 | Loss: 0.905\n",
            "Epoch: 003/010 | Batch: 052/054 | Loss: 0.732\n",
            "Epoch: 003/010 | Batch: 053/054 | Loss: 0.569\n",
            "Epoch: 003/010 | Batch: 054/054 | Loss: 0.770\n",
            "Epoch: 004/010 | Batch: 001/054 | Loss: 0.663\n",
            "Epoch: 004/010 | Batch: 002/054 | Loss: 0.643\n",
            "Epoch: 004/010 | Batch: 003/054 | Loss: 0.642\n",
            "Epoch: 004/010 | Batch: 004/054 | Loss: 0.622\n",
            "Epoch: 004/010 | Batch: 005/054 | Loss: 0.564\n",
            "Epoch: 004/010 | Batch: 006/054 | Loss: 0.607\n",
            "Epoch: 004/010 | Batch: 007/054 | Loss: 0.795\n",
            "Epoch: 004/010 | Batch: 008/054 | Loss: 0.734\n",
            "Epoch: 004/010 | Batch: 009/054 | Loss: 0.578\n",
            "Epoch: 004/010 | Batch: 010/054 | Loss: 0.606\n",
            "Epoch: 004/010 | Batch: 011/054 | Loss: 0.701\n",
            "Epoch: 004/010 | Batch: 012/054 | Loss: 0.552\n",
            "Epoch: 004/010 | Batch: 013/054 | Loss: 0.621\n",
            "Epoch: 004/010 | Batch: 014/054 | Loss: 0.542\n",
            "Epoch: 004/010 | Batch: 015/054 | Loss: 0.695\n",
            "Epoch: 004/010 | Batch: 016/054 | Loss: 0.711\n",
            "Epoch: 004/010 | Batch: 017/054 | Loss: 0.443\n",
            "Epoch: 004/010 | Batch: 018/054 | Loss: 0.521\n",
            "Epoch: 004/010 | Batch: 019/054 | Loss: 0.605\n",
            "Epoch: 004/010 | Batch: 020/054 | Loss: 0.678\n",
            "Epoch: 004/010 | Batch: 021/054 | Loss: 0.773\n",
            "Epoch: 004/010 | Batch: 022/054 | Loss: 0.606\n",
            "Epoch: 004/010 | Batch: 023/054 | Loss: 0.547\n",
            "Epoch: 004/010 | Batch: 024/054 | Loss: 0.593\n",
            "Epoch: 004/010 | Batch: 025/054 | Loss: 0.585\n",
            "Epoch: 004/010 | Batch: 026/054 | Loss: 0.777\n",
            "Epoch: 004/010 | Batch: 027/054 | Loss: 0.625\n",
            "Epoch: 004/010 | Batch: 028/054 | Loss: 0.689\n",
            "Epoch: 004/010 | Batch: 029/054 | Loss: 0.675\n",
            "Epoch: 004/010 | Batch: 030/054 | Loss: 0.645\n",
            "Epoch: 004/010 | Batch: 031/054 | Loss: 0.624\n",
            "Epoch: 004/010 | Batch: 032/054 | Loss: 0.664\n",
            "Epoch: 004/010 | Batch: 033/054 | Loss: 0.799\n",
            "Epoch: 004/010 | Batch: 034/054 | Loss: 0.638\n",
            "Epoch: 004/010 | Batch: 035/054 | Loss: 0.670\n",
            "Epoch: 004/010 | Batch: 036/054 | Loss: 0.533\n",
            "Epoch: 004/010 | Batch: 037/054 | Loss: 0.537\n",
            "Epoch: 004/010 | Batch: 038/054 | Loss: 0.701\n",
            "Epoch: 004/010 | Batch: 039/054 | Loss: 0.611\n",
            "Epoch: 004/010 | Batch: 040/054 | Loss: 0.708\n",
            "Epoch: 004/010 | Batch: 041/054 | Loss: 0.665\n",
            "Epoch: 004/010 | Batch: 042/054 | Loss: 0.774\n",
            "Epoch: 004/010 | Batch: 043/054 | Loss: 0.653\n",
            "Epoch: 004/010 | Batch: 044/054 | Loss: 0.680\n",
            "Epoch: 004/010 | Batch: 045/054 | Loss: 0.603\n",
            "Epoch: 004/010 | Batch: 046/054 | Loss: 0.588\n",
            "Epoch: 004/010 | Batch: 047/054 | Loss: 0.548\n",
            "Epoch: 004/010 | Batch: 048/054 | Loss: 0.667\n",
            "Epoch: 004/010 | Batch: 049/054 | Loss: 0.639\n",
            "Epoch: 004/010 | Batch: 050/054 | Loss: 0.609\n",
            "Epoch: 004/010 | Batch: 051/054 | Loss: 0.658\n",
            "Epoch: 004/010 | Batch: 052/054 | Loss: 0.672\n",
            "Epoch: 004/010 | Batch: 053/054 | Loss: 0.642\n",
            "Epoch: 004/010 | Batch: 054/054 | Loss: 0.532\n",
            "Epoch: 005/010 | Batch: 001/054 | Loss: 0.666\n",
            "Epoch: 005/010 | Batch: 002/054 | Loss: 0.556\n",
            "Epoch: 005/010 | Batch: 003/054 | Loss: 0.692\n",
            "Epoch: 005/010 | Batch: 004/054 | Loss: 0.612\n",
            "Epoch: 005/010 | Batch: 005/054 | Loss: 0.499\n",
            "Epoch: 005/010 | Batch: 006/054 | Loss: 0.584\n",
            "Epoch: 005/010 | Batch: 007/054 | Loss: 0.416\n",
            "Epoch: 005/010 | Batch: 008/054 | Loss: 0.925\n",
            "Epoch: 005/010 | Batch: 009/054 | Loss: 0.782\n",
            "Epoch: 005/010 | Batch: 010/054 | Loss: 0.557\n",
            "Epoch: 005/010 | Batch: 011/054 | Loss: 0.511\n",
            "Epoch: 005/010 | Batch: 012/054 | Loss: 0.604\n",
            "Epoch: 005/010 | Batch: 013/054 | Loss: 0.569\n",
            "Epoch: 005/010 | Batch: 014/054 | Loss: 0.723\n",
            "Epoch: 005/010 | Batch: 015/054 | Loss: 0.667\n",
            "Epoch: 005/010 | Batch: 016/054 | Loss: 0.684\n",
            "Epoch: 005/010 | Batch: 017/054 | Loss: 0.616\n",
            "Epoch: 005/010 | Batch: 018/054 | Loss: 0.632\n",
            "Epoch: 005/010 | Batch: 019/054 | Loss: 0.686\n",
            "Epoch: 005/010 | Batch: 020/054 | Loss: 0.635\n",
            "Epoch: 005/010 | Batch: 021/054 | Loss: 0.645\n",
            "Epoch: 005/010 | Batch: 022/054 | Loss: 0.723\n",
            "Epoch: 005/010 | Batch: 023/054 | Loss: 0.593\n",
            "Epoch: 005/010 | Batch: 024/054 | Loss: 0.633\n",
            "Epoch: 005/010 | Batch: 025/054 | Loss: 0.560\n",
            "Epoch: 005/010 | Batch: 026/054 | Loss: 0.555\n",
            "Epoch: 005/010 | Batch: 027/054 | Loss: 0.442\n",
            "Epoch: 005/010 | Batch: 028/054 | Loss: 0.314\n",
            "Epoch: 005/010 | Batch: 029/054 | Loss: 0.703\n",
            "Epoch: 005/010 | Batch: 030/054 | Loss: 0.767\n",
            "Epoch: 005/010 | Batch: 031/054 | Loss: 0.722\n",
            "Epoch: 005/010 | Batch: 032/054 | Loss: 0.526\n",
            "Epoch: 005/010 | Batch: 033/054 | Loss: 0.617\n",
            "Epoch: 005/010 | Batch: 034/054 | Loss: 0.821\n",
            "Epoch: 005/010 | Batch: 035/054 | Loss: 0.676\n",
            "Epoch: 005/010 | Batch: 036/054 | Loss: 0.649\n",
            "Epoch: 005/010 | Batch: 037/054 | Loss: 0.701\n",
            "Epoch: 005/010 | Batch: 038/054 | Loss: 0.688\n",
            "Epoch: 005/010 | Batch: 039/054 | Loss: 0.615\n",
            "Epoch: 005/010 | Batch: 040/054 | Loss: 0.626\n",
            "Epoch: 005/010 | Batch: 041/054 | Loss: 0.455\n",
            "Epoch: 005/010 | Batch: 042/054 | Loss: 0.641\n",
            "Epoch: 005/010 | Batch: 043/054 | Loss: 0.826\n",
            "Epoch: 005/010 | Batch: 044/054 | Loss: 0.499\n",
            "Epoch: 005/010 | Batch: 045/054 | Loss: 0.777\n",
            "Epoch: 005/010 | Batch: 046/054 | Loss: 0.756\n",
            "Epoch: 005/010 | Batch: 047/054 | Loss: 0.697\n",
            "Epoch: 005/010 | Batch: 048/054 | Loss: 0.595\n",
            "Epoch: 005/010 | Batch: 049/054 | Loss: 0.573\n",
            "Epoch: 005/010 | Batch: 050/054 | Loss: 0.666\n",
            "Epoch: 005/010 | Batch: 051/054 | Loss: 0.620\n",
            "Epoch: 005/010 | Batch: 052/054 | Loss: 0.713\n",
            "Epoch: 005/010 | Batch: 053/054 | Loss: 0.587\n",
            "Epoch: 005/010 | Batch: 054/054 | Loss: 0.729\n",
            "Epoch: 006/010 | Batch: 001/054 | Loss: 0.599\n",
            "Epoch: 006/010 | Batch: 002/054 | Loss: 0.566\n",
            "Epoch: 006/010 | Batch: 003/054 | Loss: 0.526\n",
            "Epoch: 006/010 | Batch: 004/054 | Loss: 0.613\n",
            "Epoch: 006/010 | Batch: 005/054 | Loss: 0.611\n",
            "Epoch: 006/010 | Batch: 006/054 | Loss: 0.625\n",
            "Epoch: 006/010 | Batch: 007/054 | Loss: 0.566\n",
            "Epoch: 006/010 | Batch: 008/054 | Loss: 0.544\n",
            "Epoch: 006/010 | Batch: 009/054 | Loss: 0.627\n",
            "Epoch: 006/010 | Batch: 010/054 | Loss: 0.670\n",
            "Epoch: 006/010 | Batch: 011/054 | Loss: 0.800\n",
            "Epoch: 006/010 | Batch: 012/054 | Loss: 0.679\n",
            "Epoch: 006/010 | Batch: 013/054 | Loss: 0.651\n",
            "Epoch: 006/010 | Batch: 014/054 | Loss: 0.602\n",
            "Epoch: 006/010 | Batch: 015/054 | Loss: 0.687\n",
            "Epoch: 006/010 | Batch: 016/054 | Loss: 0.727\n",
            "Epoch: 006/010 | Batch: 017/054 | Loss: 0.657\n",
            "Epoch: 006/010 | Batch: 018/054 | Loss: 0.588\n",
            "Epoch: 006/010 | Batch: 019/054 | Loss: 0.879\n",
            "Epoch: 006/010 | Batch: 020/054 | Loss: 0.743\n",
            "Epoch: 006/010 | Batch: 021/054 | Loss: 0.624\n",
            "Epoch: 006/010 | Batch: 022/054 | Loss: 0.605\n",
            "Epoch: 006/010 | Batch: 023/054 | Loss: 0.652\n",
            "Epoch: 006/010 | Batch: 024/054 | Loss: 0.690\n",
            "Epoch: 006/010 | Batch: 025/054 | Loss: 0.661\n",
            "Epoch: 006/010 | Batch: 026/054 | Loss: 0.631\n",
            "Epoch: 006/010 | Batch: 027/054 | Loss: 0.668\n",
            "Epoch: 006/010 | Batch: 028/054 | Loss: 0.638\n",
            "Epoch: 006/010 | Batch: 029/054 | Loss: 0.460\n",
            "Epoch: 006/010 | Batch: 030/054 | Loss: 0.513\n",
            "Epoch: 006/010 | Batch: 031/054 | Loss: 0.628\n",
            "Epoch: 006/010 | Batch: 032/054 | Loss: 0.611\n",
            "Epoch: 006/010 | Batch: 033/054 | Loss: 0.718\n",
            "Epoch: 006/010 | Batch: 034/054 | Loss: 0.635\n",
            "Epoch: 006/010 | Batch: 035/054 | Loss: 0.640\n",
            "Epoch: 006/010 | Batch: 036/054 | Loss: 0.528\n",
            "Epoch: 006/010 | Batch: 037/054 | Loss: 0.519\n",
            "Epoch: 006/010 | Batch: 038/054 | Loss: 0.592\n",
            "Epoch: 006/010 | Batch: 039/054 | Loss: 0.656\n",
            "Epoch: 006/010 | Batch: 040/054 | Loss: 0.550\n",
            "Epoch: 006/010 | Batch: 041/054 | Loss: 0.748\n",
            "Epoch: 006/010 | Batch: 042/054 | Loss: 0.645\n",
            "Epoch: 006/010 | Batch: 043/054 | Loss: 0.712\n",
            "Epoch: 006/010 | Batch: 044/054 | Loss: 0.584\n",
            "Epoch: 006/010 | Batch: 045/054 | Loss: 0.567\n",
            "Epoch: 006/010 | Batch: 046/054 | Loss: 0.700\n",
            "Epoch: 006/010 | Batch: 047/054 | Loss: 0.570\n",
            "Epoch: 006/010 | Batch: 048/054 | Loss: 0.690\n",
            "Epoch: 006/010 | Batch: 049/054 | Loss: 0.653\n",
            "Epoch: 006/010 | Batch: 050/054 | Loss: 0.742\n",
            "Epoch: 006/010 | Batch: 051/054 | Loss: 0.640\n",
            "Epoch: 006/010 | Batch: 052/054 | Loss: 0.491\n",
            "Epoch: 006/010 | Batch: 053/054 | Loss: 0.554\n",
            "Epoch: 006/010 | Batch: 054/054 | Loss: 0.580\n",
            "Epoch: 007/010 | Batch: 001/054 | Loss: 0.540\n",
            "Epoch: 007/010 | Batch: 002/054 | Loss: 0.509\n",
            "Epoch: 007/010 | Batch: 003/054 | Loss: 0.606\n",
            "Epoch: 007/010 | Batch: 004/054 | Loss: 0.701\n",
            "Epoch: 007/010 | Batch: 005/054 | Loss: 0.461\n",
            "Epoch: 007/010 | Batch: 006/054 | Loss: 0.720\n",
            "Epoch: 007/010 | Batch: 007/054 | Loss: 0.685\n",
            "Epoch: 007/010 | Batch: 008/054 | Loss: 0.545\n",
            "Epoch: 007/010 | Batch: 009/054 | Loss: 0.822\n",
            "Epoch: 007/010 | Batch: 010/054 | Loss: 0.505\n",
            "Epoch: 007/010 | Batch: 011/054 | Loss: 0.718\n",
            "Epoch: 007/010 | Batch: 012/054 | Loss: 0.723\n",
            "Epoch: 007/010 | Batch: 013/054 | Loss: 0.609\n",
            "Epoch: 007/010 | Batch: 014/054 | Loss: 0.713\n",
            "Epoch: 007/010 | Batch: 015/054 | Loss: 0.569\n",
            "Epoch: 007/010 | Batch: 016/054 | Loss: 0.674\n",
            "Epoch: 007/010 | Batch: 017/054 | Loss: 0.601\n",
            "Epoch: 007/010 | Batch: 018/054 | Loss: 0.712\n",
            "Epoch: 007/010 | Batch: 019/054 | Loss: 0.653\n",
            "Epoch: 007/010 | Batch: 020/054 | Loss: 0.550\n",
            "Epoch: 007/010 | Batch: 021/054 | Loss: 0.453\n",
            "Epoch: 007/010 | Batch: 022/054 | Loss: 0.641\n",
            "Epoch: 007/010 | Batch: 023/054 | Loss: 0.587\n",
            "Epoch: 007/010 | Batch: 024/054 | Loss: 0.570\n",
            "Epoch: 007/010 | Batch: 025/054 | Loss: 0.487\n",
            "Epoch: 007/010 | Batch: 026/054 | Loss: 0.814\n",
            "Epoch: 007/010 | Batch: 027/054 | Loss: 0.636\n",
            "Epoch: 007/010 | Batch: 028/054 | Loss: 0.670\n",
            "Epoch: 007/010 | Batch: 029/054 | Loss: 0.623\n",
            "Epoch: 007/010 | Batch: 030/054 | Loss: 0.690\n",
            "Epoch: 007/010 | Batch: 031/054 | Loss: 0.590\n",
            "Epoch: 007/010 | Batch: 032/054 | Loss: 0.738\n",
            "Epoch: 007/010 | Batch: 033/054 | Loss: 0.489\n",
            "Epoch: 007/010 | Batch: 034/054 | Loss: 0.573\n",
            "Epoch: 007/010 | Batch: 035/054 | Loss: 0.599\n",
            "Epoch: 007/010 | Batch: 036/054 | Loss: 0.605\n",
            "Epoch: 007/010 | Batch: 037/054 | Loss: 0.594\n",
            "Epoch: 007/010 | Batch: 038/054 | Loss: 0.598\n",
            "Epoch: 007/010 | Batch: 039/054 | Loss: 0.590\n",
            "Epoch: 007/010 | Batch: 040/054 | Loss: 0.738\n",
            "Epoch: 007/010 | Batch: 041/054 | Loss: 0.532\n",
            "Epoch: 007/010 | Batch: 042/054 | Loss: 0.774\n",
            "Epoch: 007/010 | Batch: 043/054 | Loss: 0.672\n",
            "Epoch: 007/010 | Batch: 044/054 | Loss: 0.641\n",
            "Epoch: 007/010 | Batch: 045/054 | Loss: 0.514\n",
            "Epoch: 007/010 | Batch: 046/054 | Loss: 0.657\n",
            "Epoch: 007/010 | Batch: 047/054 | Loss: 0.654\n",
            "Epoch: 007/010 | Batch: 048/054 | Loss: 0.779\n",
            "Epoch: 007/010 | Batch: 049/054 | Loss: 0.720\n",
            "Epoch: 007/010 | Batch: 050/054 | Loss: 0.678\n",
            "Epoch: 007/010 | Batch: 051/054 | Loss: 0.595\n",
            "Epoch: 007/010 | Batch: 052/054 | Loss: 0.566\n",
            "Epoch: 007/010 | Batch: 053/054 | Loss: 0.505\n",
            "Epoch: 007/010 | Batch: 054/054 | Loss: 0.729\n",
            "Epoch: 008/010 | Batch: 001/054 | Loss: 0.486\n",
            "Epoch: 008/010 | Batch: 002/054 | Loss: 0.426\n",
            "Epoch: 008/010 | Batch: 003/054 | Loss: 0.608\n",
            "Epoch: 008/010 | Batch: 004/054 | Loss: 0.607\n",
            "Epoch: 008/010 | Batch: 005/054 | Loss: 0.580\n",
            "Epoch: 008/010 | Batch: 006/054 | Loss: 0.727\n",
            "Epoch: 008/010 | Batch: 007/054 | Loss: 0.762\n",
            "Epoch: 008/010 | Batch: 008/054 | Loss: 0.649\n",
            "Epoch: 008/010 | Batch: 009/054 | Loss: 0.629\n",
            "Epoch: 008/010 | Batch: 010/054 | Loss: 0.727\n",
            "Epoch: 008/010 | Batch: 011/054 | Loss: 0.622\n",
            "Epoch: 008/010 | Batch: 012/054 | Loss: 0.516\n",
            "Epoch: 008/010 | Batch: 013/054 | Loss: 0.688\n",
            "Epoch: 008/010 | Batch: 014/054 | Loss: 0.427\n",
            "Epoch: 008/010 | Batch: 015/054 | Loss: 0.560\n",
            "Epoch: 008/010 | Batch: 016/054 | Loss: 0.670\n",
            "Epoch: 008/010 | Batch: 017/054 | Loss: 0.652\n",
            "Epoch: 008/010 | Batch: 018/054 | Loss: 0.590\n",
            "Epoch: 008/010 | Batch: 019/054 | Loss: 0.913\n",
            "Epoch: 008/010 | Batch: 020/054 | Loss: 0.545\n",
            "Epoch: 008/010 | Batch: 021/054 | Loss: 0.743\n",
            "Epoch: 008/010 | Batch: 022/054 | Loss: 0.648\n",
            "Epoch: 008/010 | Batch: 023/054 | Loss: 0.652\n",
            "Epoch: 008/010 | Batch: 024/054 | Loss: 0.485\n",
            "Epoch: 008/010 | Batch: 025/054 | Loss: 0.870\n",
            "Epoch: 008/010 | Batch: 026/054 | Loss: 0.529\n",
            "Epoch: 008/010 | Batch: 027/054 | Loss: 0.547\n",
            "Epoch: 008/010 | Batch: 028/054 | Loss: 0.467\n",
            "Epoch: 008/010 | Batch: 029/054 | Loss: 0.475\n",
            "Epoch: 008/010 | Batch: 030/054 | Loss: 0.829\n",
            "Epoch: 008/010 | Batch: 031/054 | Loss: 0.596\n",
            "Epoch: 008/010 | Batch: 032/054 | Loss: 0.744\n",
            "Epoch: 008/010 | Batch: 033/054 | Loss: 0.621\n",
            "Epoch: 008/010 | Batch: 034/054 | Loss: 0.545\n",
            "Epoch: 008/010 | Batch: 035/054 | Loss: 0.694\n",
            "Epoch: 008/010 | Batch: 036/054 | Loss: 0.526\n",
            "Epoch: 008/010 | Batch: 037/054 | Loss: 0.665\n",
            "Epoch: 008/010 | Batch: 038/054 | Loss: 0.602\n",
            "Epoch: 008/010 | Batch: 039/054 | Loss: 0.678\n",
            "Epoch: 008/010 | Batch: 040/054 | Loss: 0.657\n",
            "Epoch: 008/010 | Batch: 041/054 | Loss: 0.499\n",
            "Epoch: 008/010 | Batch: 042/054 | Loss: 0.642\n",
            "Epoch: 008/010 | Batch: 043/054 | Loss: 0.685\n",
            "Epoch: 008/010 | Batch: 044/054 | Loss: 0.688\n",
            "Epoch: 008/010 | Batch: 045/054 | Loss: 0.651\n",
            "Epoch: 008/010 | Batch: 046/054 | Loss: 0.587\n",
            "Epoch: 008/010 | Batch: 047/054 | Loss: 0.711\n",
            "Epoch: 008/010 | Batch: 048/054 | Loss: 0.574\n",
            "Epoch: 008/010 | Batch: 049/054 | Loss: 0.555\n",
            "Epoch: 008/010 | Batch: 050/054 | Loss: 0.689\n",
            "Epoch: 008/010 | Batch: 051/054 | Loss: 0.583\n",
            "Epoch: 008/010 | Batch: 052/054 | Loss: 0.585\n",
            "Epoch: 008/010 | Batch: 053/054 | Loss: 0.676\n",
            "Epoch: 008/010 | Batch: 054/054 | Loss: 0.720\n",
            "Epoch: 009/010 | Batch: 001/054 | Loss: 0.611\n",
            "Epoch: 009/010 | Batch: 002/054 | Loss: 0.621\n",
            "Epoch: 009/010 | Batch: 003/054 | Loss: 0.495\n",
            "Epoch: 009/010 | Batch: 004/054 | Loss: 0.578\n",
            "Epoch: 009/010 | Batch: 005/054 | Loss: 0.403\n",
            "Epoch: 009/010 | Batch: 006/054 | Loss: 0.793\n",
            "Epoch: 009/010 | Batch: 007/054 | Loss: 0.649\n",
            "Epoch: 009/010 | Batch: 008/054 | Loss: 0.544\n",
            "Epoch: 009/010 | Batch: 009/054 | Loss: 0.483\n",
            "Epoch: 009/010 | Batch: 010/054 | Loss: 0.583\n",
            "Epoch: 009/010 | Batch: 011/054 | Loss: 0.404\n",
            "Epoch: 009/010 | Batch: 012/054 | Loss: 0.489\n",
            "Epoch: 009/010 | Batch: 013/054 | Loss: 0.661\n",
            "Epoch: 009/010 | Batch: 014/054 | Loss: 0.626\n",
            "Epoch: 009/010 | Batch: 015/054 | Loss: 0.573\n",
            "Epoch: 009/010 | Batch: 016/054 | Loss: 0.570\n",
            "Epoch: 009/010 | Batch: 017/054 | Loss: 0.940\n",
            "Epoch: 009/010 | Batch: 018/054 | Loss: 0.600\n",
            "Epoch: 009/010 | Batch: 019/054 | Loss: 0.604\n",
            "Epoch: 009/010 | Batch: 020/054 | Loss: 0.605\n",
            "Epoch: 009/010 | Batch: 021/054 | Loss: 0.615\n",
            "Epoch: 009/010 | Batch: 022/054 | Loss: 0.748\n",
            "Epoch: 009/010 | Batch: 023/054 | Loss: 0.688\n",
            "Epoch: 009/010 | Batch: 024/054 | Loss: 0.669\n",
            "Epoch: 009/010 | Batch: 025/054 | Loss: 0.549\n",
            "Epoch: 009/010 | Batch: 026/054 | Loss: 0.651\n",
            "Epoch: 009/010 | Batch: 027/054 | Loss: 0.462\n",
            "Epoch: 009/010 | Batch: 028/054 | Loss: 0.671\n",
            "Epoch: 009/010 | Batch: 029/054 | Loss: 0.713\n",
            "Epoch: 009/010 | Batch: 030/054 | Loss: 0.685\n",
            "Epoch: 009/010 | Batch: 031/054 | Loss: 0.700\n",
            "Epoch: 009/010 | Batch: 032/054 | Loss: 0.563\n",
            "Epoch: 009/010 | Batch: 033/054 | Loss: 0.672\n",
            "Epoch: 009/010 | Batch: 034/054 | Loss: 0.647\n",
            "Epoch: 009/010 | Batch: 035/054 | Loss: 0.668\n",
            "Epoch: 009/010 | Batch: 036/054 | Loss: 0.570\n",
            "Epoch: 009/010 | Batch: 037/054 | Loss: 0.639\n",
            "Epoch: 009/010 | Batch: 038/054 | Loss: 0.626\n",
            "Epoch: 009/010 | Batch: 039/054 | Loss: 0.787\n",
            "Epoch: 009/010 | Batch: 040/054 | Loss: 0.524\n",
            "Epoch: 009/010 | Batch: 041/054 | Loss: 0.495\n",
            "Epoch: 009/010 | Batch: 042/054 | Loss: 0.763\n",
            "Epoch: 009/010 | Batch: 043/054 | Loss: 0.739\n",
            "Epoch: 009/010 | Batch: 044/054 | Loss: 0.639\n",
            "Epoch: 009/010 | Batch: 045/054 | Loss: 0.703\n",
            "Epoch: 009/010 | Batch: 046/054 | Loss: 0.511\n",
            "Epoch: 009/010 | Batch: 047/054 | Loss: 0.447\n",
            "Epoch: 009/010 | Batch: 048/054 | Loss: 0.619\n",
            "Epoch: 009/010 | Batch: 049/054 | Loss: 0.647\n",
            "Epoch: 009/010 | Batch: 050/054 | Loss: 0.529\n",
            "Epoch: 009/010 | Batch: 051/054 | Loss: 0.751\n",
            "Epoch: 009/010 | Batch: 052/054 | Loss: 0.605\n",
            "Epoch: 009/010 | Batch: 053/054 | Loss: 0.706\n",
            "Epoch: 009/010 | Batch: 054/054 | Loss: 0.628\n",
            "Epoch: 010/010 | Batch: 001/054 | Loss: 0.366\n",
            "Epoch: 010/010 | Batch: 002/054 | Loss: 0.473\n",
            "Epoch: 010/010 | Batch: 003/054 | Loss: 0.861\n",
            "Epoch: 010/010 | Batch: 004/054 | Loss: 0.608\n",
            "Epoch: 010/010 | Batch: 005/054 | Loss: 0.602\n",
            "Epoch: 010/010 | Batch: 006/054 | Loss: 0.489\n",
            "Epoch: 010/010 | Batch: 007/054 | Loss: 0.614\n",
            "Epoch: 010/010 | Batch: 008/054 | Loss: 0.582\n",
            "Epoch: 010/010 | Batch: 009/054 | Loss: 0.564\n",
            "Epoch: 010/010 | Batch: 010/054 | Loss: 0.750\n",
            "Epoch: 010/010 | Batch: 011/054 | Loss: 0.688\n",
            "Epoch: 010/010 | Batch: 012/054 | Loss: 0.596\n",
            "Epoch: 010/010 | Batch: 013/054 | Loss: 0.674\n",
            "Epoch: 010/010 | Batch: 014/054 | Loss: 0.598\n",
            "Epoch: 010/010 | Batch: 015/054 | Loss: 0.683\n",
            "Epoch: 010/010 | Batch: 016/054 | Loss: 0.622\n",
            "Epoch: 010/010 | Batch: 017/054 | Loss: 0.444\n",
            "Epoch: 010/010 | Batch: 018/054 | Loss: 0.695\n",
            "Epoch: 010/010 | Batch: 019/054 | Loss: 0.591\n",
            "Epoch: 010/010 | Batch: 020/054 | Loss: 0.642\n",
            "Epoch: 010/010 | Batch: 021/054 | Loss: 0.691\n",
            "Epoch: 010/010 | Batch: 022/054 | Loss: 0.808\n",
            "Epoch: 010/010 | Batch: 023/054 | Loss: 0.525\n",
            "Epoch: 010/010 | Batch: 024/054 | Loss: 0.577\n",
            "Epoch: 010/010 | Batch: 025/054 | Loss: 0.689\n",
            "Epoch: 010/010 | Batch: 026/054 | Loss: 0.524\n",
            "Epoch: 010/010 | Batch: 027/054 | Loss: 0.663\n",
            "Epoch: 010/010 | Batch: 028/054 | Loss: 0.534\n",
            "Epoch: 010/010 | Batch: 029/054 | Loss: 0.662\n",
            "Epoch: 010/010 | Batch: 030/054 | Loss: 0.741\n",
            "Epoch: 010/010 | Batch: 031/054 | Loss: 0.601\n",
            "Epoch: 010/010 | Batch: 032/054 | Loss: 0.640\n",
            "Epoch: 010/010 | Batch: 033/054 | Loss: 0.593\n",
            "Epoch: 010/010 | Batch: 034/054 | Loss: 0.670\n",
            "Epoch: 010/010 | Batch: 035/054 | Loss: 0.691\n",
            "Epoch: 010/010 | Batch: 036/054 | Loss: 0.749\n",
            "Epoch: 010/010 | Batch: 037/054 | Loss: 0.563\n",
            "Epoch: 010/010 | Batch: 038/054 | Loss: 0.672\n",
            "Epoch: 010/010 | Batch: 039/054 | Loss: 0.642\n",
            "Epoch: 010/010 | Batch: 040/054 | Loss: 0.603\n",
            "Epoch: 010/010 | Batch: 041/054 | Loss: 0.623\n",
            "Epoch: 010/010 | Batch: 042/054 | Loss: 0.694\n",
            "Epoch: 010/010 | Batch: 043/054 | Loss: 0.657\n",
            "Epoch: 010/010 | Batch: 044/054 | Loss: 0.574\n",
            "Epoch: 010/010 | Batch: 045/054 | Loss: 0.667\n",
            "Epoch: 010/010 | Batch: 046/054 | Loss: 0.635\n",
            "Epoch: 010/010 | Batch: 047/054 | Loss: 0.604\n",
            "Epoch: 010/010 | Batch: 048/054 | Loss: 0.532\n",
            "Epoch: 010/010 | Batch: 049/054 | Loss: 0.518\n",
            "Epoch: 010/010 | Batch: 050/054 | Loss: 0.431\n",
            "Epoch: 010/010 | Batch: 051/054 | Loss: 0.760\n",
            "Epoch: 010/010 | Batch: 052/054 | Loss: 0.437\n",
            "Epoch: 010/010 | Batch: 053/054 | Loss: 0.518\n",
            "Epoch: 010/010 | Batch: 054/054 | Loss: 0.426\n"
          ]
        }
      ],
      "source": [
        "for epoch in range(epochs):\n",
        "  model = model.train()\n",
        "\n",
        "  for index, (x, y) in enumerate(train_dataloader):\n",
        "    a = model(x)\n",
        "    loss = F.binary_cross_entropy(a, y.view(a.shape))\n",
        "\n",
        "    optimizer.zero_grad()\n",
        "    loss.backward()\n",
        "    optimizer.step()\n",
        "\n",
        "    print(f'Epoch: {epoch + 1:03d}/{epochs:03d} | Batch: {index + 1:03d}/{len(train_dataloader):03d} | Loss: {loss:.3f}')"
      ]
    },
    {
      "cell_type": "markdown",
      "source": [
        "## **Testing**"
      ],
      "metadata": {
        "id": "Wv6b1A2jg_M_"
      }
    },
    {
      "cell_type": "code",
      "source": [
        "def accuracy(model, dataloader):\n",
        "  model = model.eval()\n",
        "\n",
        "  accuracy = 0.0\n",
        "  total = 0\n",
        "  for index, (x, y) in enumerate(dataloader):\n",
        "\n",
        "    with torch.inference_mode():\n",
        "      z = model(x)\n",
        "\n",
        "    a = torch.where(z > 0.5, 1, 0)\n",
        "    labels = y.view(a.shape).to(a.dtype)\n",
        "\n",
        "    result = a == labels\n",
        "    accuracy += torch.sum(result)\n",
        "    total += len(result)\n",
        "\n",
        "  return (accuracy / total).item()"
      ],
      "metadata": {
        "id": "vbqvjrDmd7o4"
      },
      "execution_count": 64,
      "outputs": []
    },
    {
      "cell_type": "code",
      "source": [
        "accuracy(model, test_dataloader)"
      ],
      "metadata": {
        "colab": {
          "base_uri": "https://localhost:8080/"
        },
        "id": "4IzG1K42fD0L",
        "outputId": "5d691fc7-37a9-4329-eaaa-ecf918843da2"
      },
      "execution_count": 65,
      "outputs": [
        {
          "output_type": "execute_result",
          "data": {
            "text/plain": [
              "0.6580086350440979"
            ]
          },
          "metadata": {},
          "execution_count": 65
        }
      ]
    },
    {
      "cell_type": "code",
      "source": [],
      "metadata": {
        "id": "z-FLJEZafGMa"
      },
      "execution_count": null,
      "outputs": []
    }
  ],
  "metadata": {
    "colab": {
      "provenance": []
    },
    "kernelspec": {
      "display_name": "Python 3",
      "name": "python3"
    },
    "language_info": {
      "name": "python"
    }
  },
  "nbformat": 4,
  "nbformat_minor": 0
}