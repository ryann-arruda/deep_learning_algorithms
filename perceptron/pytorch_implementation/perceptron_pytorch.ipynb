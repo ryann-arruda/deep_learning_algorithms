{
  "cells": [
    {
      "cell_type": "markdown",
      "metadata": {
        "id": "view-in-github",
        "colab_type": "text"
      },
      "source": [
        "<a href=\"https://colab.research.google.com/github/ryann-arruda/deep_learning_algorithms/blob/main/perceptron/pytorch_implementation/perceptron_pytorch.ipynb\" target=\"_parent\"><img src=\"https://colab.research.google.com/assets/colab-badge.svg\" alt=\"Open In Colab\"/></a>"
      ]
    },
    {
      "cell_type": "code",
      "execution_count": null,
      "metadata": {
        "id": "lOiRZ001ADGD"
      },
      "outputs": [],
      "source": [
        "import pandas as pd\n",
        "from sklearn.model_selection import train_test_split\n",
        "import torch\n",
        "import torch.nn.functional as F\n",
        "from torch.utils.data import Dataset, DataLoader\n",
        "from tqdm import tqdm"
      ]
    },
    {
      "cell_type": "markdown",
      "metadata": {
        "id": "vvEFBXoF8Am1"
      },
      "source": [
        "## **Loading Dataset**"
      ]
    },
    {
      "cell_type": "code",
      "source": [
        "url = \"https://raw.githubusercontent.com/jbrownlee/Datasets/master/pima-indians-diabetes.data.csv\""
      ],
      "metadata": {
        "id": "w501hSBUfV8J"
      },
      "execution_count": null,
      "outputs": []
    },
    {
      "cell_type": "code",
      "source": [
        "cols = [\"Pregnancies\", \"Glucose\", \"BloodPressure\", \"SkinThickness\", \"Insulin\",\n",
        "        \"BMI\", \"DiabetesPedigreeFunction\", \"Age\", \"Outcome\"]"
      ],
      "metadata": {
        "id": "9ncXGPMqfY4e"
      },
      "execution_count": null,
      "outputs": []
    },
    {
      "cell_type": "code",
      "execution_count": null,
      "metadata": {
        "id": "Fetxx6rJO_mX"
      },
      "outputs": [],
      "source": [
        "data = pd.read_csv(url, names=cols)"
      ]
    },
    {
      "cell_type": "code",
      "execution_count": null,
      "metadata": {
        "id": "HN9te7TMPBLm"
      },
      "outputs": [],
      "source": [
        "x = data[[\"Pregnancies\", \"Glucose\", \"BloodPressure\", \"SkinThickness\", \"Insulin\",\n",
        "        \"BMI\", \"DiabetesPedigreeFunction\", \"Age\"]].values\n",
        "\n",
        "y = data[['Outcome']].values"
      ]
    },
    {
      "cell_type": "markdown",
      "source": [
        "## **Data Normalization**"
      ],
      "metadata": {
        "id": "gBlwTRUwdWbJ"
      }
    },
    {
      "cell_type": "code",
      "source": [
        "x = (x - x.min(axis=0))/(x.max(axis=0) - x.min(axis=0))"
      ],
      "metadata": {
        "id": "3ANIv1lPdiVZ"
      },
      "execution_count": null,
      "outputs": []
    },
    {
      "cell_type": "markdown",
      "metadata": {
        "id": "wKfqHTGjPEsH"
      },
      "source": [
        "## **Separating the Dataset**"
      ]
    },
    {
      "cell_type": "code",
      "execution_count": null,
      "metadata": {
        "id": "P8DSTMNkPTov"
      },
      "outputs": [],
      "source": [
        "x_train, x_test, y_train, y_test = train_test_split(x, y, test_size=0.3, random_state=27)"
      ]
    },
    {
      "cell_type": "markdown",
      "metadata": {
        "id": "XIU1HpGIPqhX"
      },
      "source": [
        "## **Creating the Dataset Object**"
      ]
    },
    {
      "cell_type": "code",
      "execution_count": null,
      "metadata": {
        "id": "5ugvEJaqPv4G"
      },
      "outputs": [],
      "source": [
        "class SpecificDataset(Dataset):\n",
        "  def __init__(self, x, y):\n",
        "    self.features = torch.tensor(x, dtype=torch.float32)\n",
        "    self.labels = torch.tensor(y, dtype=torch.float32)\n",
        "\n",
        "  def __getitem__(self, index):\n",
        "    x = self.features[index]\n",
        "    y = self.labels[index]\n",
        "\n",
        "    return x, y\n",
        "\n",
        "  def __len__(self):\n",
        "    return self.labels.shape[0]"
      ]
    },
    {
      "cell_type": "code",
      "execution_count": null,
      "metadata": {
        "id": "R-Rx-HUrFM-c"
      },
      "outputs": [],
      "source": [
        "train_dataset = SpecificDataset(x_train, y_train)\n",
        "test_dataset = SpecificDataset(x_test, y_test)"
      ]
    },
    {
      "cell_type": "code",
      "execution_count": null,
      "metadata": {
        "id": "304UbcOPFwus"
      },
      "outputs": [],
      "source": [
        "train_dataloader = DataLoader(dataset=train_dataset,\n",
        "                              batch_size=10,\n",
        "                              shuffle=True)\n",
        "\n",
        "test_dataloader = DataLoader(dataset=test_dataset,\n",
        "                             batch_size=10,\n",
        "                             shuffle=False)"
      ]
    },
    {
      "cell_type": "markdown",
      "metadata": {
        "id": "Cwghr3smQSzS"
      },
      "source": [
        "## **Perceptron**"
      ]
    },
    {
      "cell_type": "code",
      "execution_count": null,
      "metadata": {
        "id": "924e7iVPQXhG"
      },
      "outputs": [],
      "source": [
        "class Perceptron(torch.nn.Module):\n",
        "  def __init__(self, num_features):\n",
        "    super().__init__()\n",
        "    self.linear = torch.nn.Linear(num_features, 1)\n",
        "\n",
        "  def forward(self, x):\n",
        "    z = self.linear(x)\n",
        "\n",
        "    return torch.sigmoid(z)"
      ]
    },
    {
      "cell_type": "code",
      "execution_count": null,
      "metadata": {
        "colab": {
          "base_uri": "https://localhost:8080/"
        },
        "id": "tOxn9acfG3xx",
        "outputId": "67dee846-de7e-4614-f029-4f5b281c1c3e"
      },
      "outputs": [
        {
          "output_type": "execute_result",
          "data": {
            "text/plain": [
              "<torch._C.Generator at 0x7996f73e6d70>"
            ]
          },
          "metadata": {},
          "execution_count": 18
        }
      ],
      "source": [
        "torch.manual_seed(27)"
      ]
    },
    {
      "cell_type": "code",
      "execution_count": null,
      "metadata": {
        "id": "qRTwyirIqr_-"
      },
      "outputs": [],
      "source": [
        "model = Perceptron(8)"
      ]
    },
    {
      "cell_type": "code",
      "execution_count": null,
      "metadata": {
        "id": "4fZiGPi7gh8r"
      },
      "outputs": [],
      "source": [
        "optimizer = torch.optim.SGD(model.parameters(), lr=0.9)"
      ]
    },
    {
      "cell_type": "markdown",
      "metadata": {
        "id": "551jui27r6z4"
      },
      "source": [
        "## **Training**"
      ]
    },
    {
      "cell_type": "code",
      "execution_count": null,
      "metadata": {
        "id": "9D8t_E1HgzfF"
      },
      "outputs": [],
      "source": [
        "epochs = 10"
      ]
    },
    {
      "cell_type": "code",
      "execution_count": null,
      "metadata": {
        "colab": {
          "base_uri": "https://localhost:8080/"
        },
        "id": "m3UpYclVgt2A",
        "outputId": "d793f166-5b50-41db-dc2c-f7563abf8a31"
      },
      "outputs": [
        {
          "output_type": "stream",
          "name": "stdout",
          "text": [
            "Epoch: 001/010 | Batch: 001/054 | Loss: 0.672\n",
            "Epoch: 001/010 | Batch: 002/054 | Loss: 0.653\n",
            "Epoch: 001/010 | Batch: 003/054 | Loss: 0.674\n",
            "Epoch: 001/010 | Batch: 004/054 | Loss: 0.649\n",
            "Epoch: 001/010 | Batch: 005/054 | Loss: 0.633\n",
            "Epoch: 001/010 | Batch: 006/054 | Loss: 0.711\n",
            "Epoch: 001/010 | Batch: 007/054 | Loss: 0.670\n",
            "Epoch: 001/010 | Batch: 008/054 | Loss: 0.664\n",
            "Epoch: 001/010 | Batch: 009/054 | Loss: 0.669\n",
            "Epoch: 001/010 | Batch: 010/054 | Loss: 0.725\n",
            "Epoch: 001/010 | Batch: 011/054 | Loss: 0.669\n",
            "Epoch: 001/010 | Batch: 012/054 | Loss: 0.746\n",
            "Epoch: 001/010 | Batch: 013/054 | Loss: 0.608\n",
            "Epoch: 001/010 | Batch: 014/054 | Loss: 0.666\n",
            "Epoch: 001/010 | Batch: 015/054 | Loss: 0.631\n",
            "Epoch: 001/010 | Batch: 016/054 | Loss: 0.622\n",
            "Epoch: 001/010 | Batch: 017/054 | Loss: 0.754\n",
            "Epoch: 001/010 | Batch: 018/054 | Loss: 0.662\n",
            "Epoch: 001/010 | Batch: 019/054 | Loss: 0.611\n",
            "Epoch: 001/010 | Batch: 020/054 | Loss: 0.731\n",
            "Epoch: 001/010 | Batch: 021/054 | Loss: 0.656\n",
            "Epoch: 001/010 | Batch: 022/054 | Loss: 0.696\n",
            "Epoch: 001/010 | Batch: 023/054 | Loss: 0.643\n",
            "Epoch: 001/010 | Batch: 024/054 | Loss: 0.697\n",
            "Epoch: 001/010 | Batch: 025/054 | Loss: 0.593\n",
            "Epoch: 001/010 | Batch: 026/054 | Loss: 0.712\n",
            "Epoch: 001/010 | Batch: 027/054 | Loss: 0.577\n",
            "Epoch: 001/010 | Batch: 028/054 | Loss: 0.696\n",
            "Epoch: 001/010 | Batch: 029/054 | Loss: 0.678\n",
            "Epoch: 001/010 | Batch: 030/054 | Loss: 0.653\n",
            "Epoch: 001/010 | Batch: 031/054 | Loss: 0.638\n",
            "Epoch: 001/010 | Batch: 032/054 | Loss: 0.581\n",
            "Epoch: 001/010 | Batch: 033/054 | Loss: 0.571\n",
            "Epoch: 001/010 | Batch: 034/054 | Loss: 0.647\n",
            "Epoch: 001/010 | Batch: 035/054 | Loss: 0.646\n",
            "Epoch: 001/010 | Batch: 036/054 | Loss: 0.551\n",
            "Epoch: 001/010 | Batch: 037/054 | Loss: 0.502\n",
            "Epoch: 001/010 | Batch: 038/054 | Loss: 0.589\n",
            "Epoch: 001/010 | Batch: 039/054 | Loss: 0.619\n",
            "Epoch: 001/010 | Batch: 040/054 | Loss: 0.617\n",
            "Epoch: 001/010 | Batch: 041/054 | Loss: 0.636\n",
            "Epoch: 001/010 | Batch: 042/054 | Loss: 0.656\n",
            "Epoch: 001/010 | Batch: 043/054 | Loss: 0.575\n",
            "Epoch: 001/010 | Batch: 044/054 | Loss: 0.743\n",
            "Epoch: 001/010 | Batch: 045/054 | Loss: 0.621\n",
            "Epoch: 001/010 | Batch: 046/054 | Loss: 0.622\n",
            "Epoch: 001/010 | Batch: 047/054 | Loss: 0.535\n",
            "Epoch: 001/010 | Batch: 048/054 | Loss: 0.561\n",
            "Epoch: 001/010 | Batch: 049/054 | Loss: 0.530\n",
            "Epoch: 001/010 | Batch: 050/054 | Loss: 0.458\n",
            "Epoch: 001/010 | Batch: 051/054 | Loss: 0.809\n",
            "Epoch: 001/010 | Batch: 052/054 | Loss: 0.497\n",
            "Epoch: 001/010 | Batch: 053/054 | Loss: 0.391\n",
            "Epoch: 001/010 | Batch: 054/054 | Loss: 0.454\n",
            "Epoch: 002/010 | Batch: 001/054 | Loss: 0.501\n",
            "Epoch: 002/010 | Batch: 002/054 | Loss: 0.682\n",
            "Epoch: 002/010 | Batch: 003/054 | Loss: 0.641\n",
            "Epoch: 002/010 | Batch: 004/054 | Loss: 0.715\n",
            "Epoch: 002/010 | Batch: 005/054 | Loss: 0.612\n",
            "Epoch: 002/010 | Batch: 006/054 | Loss: 0.619\n",
            "Epoch: 002/010 | Batch: 007/054 | Loss: 0.728\n",
            "Epoch: 002/010 | Batch: 008/054 | Loss: 0.587\n",
            "Epoch: 002/010 | Batch: 009/054 | Loss: 0.528\n",
            "Epoch: 002/010 | Batch: 010/054 | Loss: 0.554\n",
            "Epoch: 002/010 | Batch: 011/054 | Loss: 0.446\n",
            "Epoch: 002/010 | Batch: 012/054 | Loss: 0.766\n",
            "Epoch: 002/010 | Batch: 013/054 | Loss: 0.564\n",
            "Epoch: 002/010 | Batch: 014/054 | Loss: 0.490\n",
            "Epoch: 002/010 | Batch: 015/054 | Loss: 0.524\n",
            "Epoch: 002/010 | Batch: 016/054 | Loss: 0.724\n",
            "Epoch: 002/010 | Batch: 017/054 | Loss: 0.587\n",
            "Epoch: 002/010 | Batch: 018/054 | Loss: 0.526\n",
            "Epoch: 002/010 | Batch: 019/054 | Loss: 0.617\n",
            "Epoch: 002/010 | Batch: 020/054 | Loss: 0.664\n",
            "Epoch: 002/010 | Batch: 021/054 | Loss: 0.628\n",
            "Epoch: 002/010 | Batch: 022/054 | Loss: 0.620\n",
            "Epoch: 002/010 | Batch: 023/054 | Loss: 0.600\n",
            "Epoch: 002/010 | Batch: 024/054 | Loss: 0.491\n",
            "Epoch: 002/010 | Batch: 025/054 | Loss: 0.637\n",
            "Epoch: 002/010 | Batch: 026/054 | Loss: 0.464\n",
            "Epoch: 002/010 | Batch: 027/054 | Loss: 0.557\n",
            "Epoch: 002/010 | Batch: 028/054 | Loss: 0.712\n",
            "Epoch: 002/010 | Batch: 029/054 | Loss: 0.552\n",
            "Epoch: 002/010 | Batch: 030/054 | Loss: 0.532\n",
            "Epoch: 002/010 | Batch: 031/054 | Loss: 0.612\n",
            "Epoch: 002/010 | Batch: 032/054 | Loss: 0.634\n",
            "Epoch: 002/010 | Batch: 033/054 | Loss: 0.591\n",
            "Epoch: 002/010 | Batch: 034/054 | Loss: 0.634\n",
            "Epoch: 002/010 | Batch: 035/054 | Loss: 0.433\n",
            "Epoch: 002/010 | Batch: 036/054 | Loss: 0.600\n",
            "Epoch: 002/010 | Batch: 037/054 | Loss: 0.615\n",
            "Epoch: 002/010 | Batch: 038/054 | Loss: 0.472\n",
            "Epoch: 002/010 | Batch: 039/054 | Loss: 0.634\n",
            "Epoch: 002/010 | Batch: 040/054 | Loss: 0.583\n",
            "Epoch: 002/010 | Batch: 041/054 | Loss: 0.562\n",
            "Epoch: 002/010 | Batch: 042/054 | Loss: 0.575\n",
            "Epoch: 002/010 | Batch: 043/054 | Loss: 0.558\n",
            "Epoch: 002/010 | Batch: 044/054 | Loss: 0.576\n",
            "Epoch: 002/010 | Batch: 045/054 | Loss: 0.651\n",
            "Epoch: 002/010 | Batch: 046/054 | Loss: 0.632\n",
            "Epoch: 002/010 | Batch: 047/054 | Loss: 0.392\n",
            "Epoch: 002/010 | Batch: 048/054 | Loss: 0.698\n",
            "Epoch: 002/010 | Batch: 049/054 | Loss: 0.626\n",
            "Epoch: 002/010 | Batch: 050/054 | Loss: 0.469\n",
            "Epoch: 002/010 | Batch: 051/054 | Loss: 0.507\n",
            "Epoch: 002/010 | Batch: 052/054 | Loss: 0.697\n",
            "Epoch: 002/010 | Batch: 053/054 | Loss: 0.546\n",
            "Epoch: 002/010 | Batch: 054/054 | Loss: 0.590\n",
            "Epoch: 003/010 | Batch: 001/054 | Loss: 0.542\n",
            "Epoch: 003/010 | Batch: 002/054 | Loss: 0.509\n",
            "Epoch: 003/010 | Batch: 003/054 | Loss: 0.636\n",
            "Epoch: 003/010 | Batch: 004/054 | Loss: 0.600\n",
            "Epoch: 003/010 | Batch: 005/054 | Loss: 0.343\n",
            "Epoch: 003/010 | Batch: 006/054 | Loss: 0.612\n",
            "Epoch: 003/010 | Batch: 007/054 | Loss: 0.619\n",
            "Epoch: 003/010 | Batch: 008/054 | Loss: 0.538\n",
            "Epoch: 003/010 | Batch: 009/054 | Loss: 0.709\n",
            "Epoch: 003/010 | Batch: 010/054 | Loss: 0.607\n",
            "Epoch: 003/010 | Batch: 011/054 | Loss: 0.685\n",
            "Epoch: 003/010 | Batch: 012/054 | Loss: 0.621\n",
            "Epoch: 003/010 | Batch: 013/054 | Loss: 0.611\n",
            "Epoch: 003/010 | Batch: 014/054 | Loss: 0.589\n",
            "Epoch: 003/010 | Batch: 015/054 | Loss: 0.642\n",
            "Epoch: 003/010 | Batch: 016/054 | Loss: 0.555\n",
            "Epoch: 003/010 | Batch: 017/054 | Loss: 0.420\n",
            "Epoch: 003/010 | Batch: 018/054 | Loss: 0.567\n",
            "Epoch: 003/010 | Batch: 019/054 | Loss: 0.506\n",
            "Epoch: 003/010 | Batch: 020/054 | Loss: 0.362\n",
            "Epoch: 003/010 | Batch: 021/054 | Loss: 0.475\n",
            "Epoch: 003/010 | Batch: 022/054 | Loss: 0.651\n",
            "Epoch: 003/010 | Batch: 023/054 | Loss: 0.546\n",
            "Epoch: 003/010 | Batch: 024/054 | Loss: 0.401\n",
            "Epoch: 003/010 | Batch: 025/054 | Loss: 0.467\n",
            "Epoch: 003/010 | Batch: 026/054 | Loss: 0.510\n",
            "Epoch: 003/010 | Batch: 027/054 | Loss: 0.622\n",
            "Epoch: 003/010 | Batch: 028/054 | Loss: 0.495\n",
            "Epoch: 003/010 | Batch: 029/054 | Loss: 0.416\n",
            "Epoch: 003/010 | Batch: 030/054 | Loss: 0.820\n",
            "Epoch: 003/010 | Batch: 031/054 | Loss: 0.782\n",
            "Epoch: 003/010 | Batch: 032/054 | Loss: 0.385\n",
            "Epoch: 003/010 | Batch: 033/054 | Loss: 0.623\n",
            "Epoch: 003/010 | Batch: 034/054 | Loss: 0.410\n",
            "Epoch: 003/010 | Batch: 035/054 | Loss: 0.450\n",
            "Epoch: 003/010 | Batch: 036/054 | Loss: 0.481\n",
            "Epoch: 003/010 | Batch: 037/054 | Loss: 0.599\n",
            "Epoch: 003/010 | Batch: 038/054 | Loss: 0.573\n",
            "Epoch: 003/010 | Batch: 039/054 | Loss: 0.586\n",
            "Epoch: 003/010 | Batch: 040/054 | Loss: 0.638\n",
            "Epoch: 003/010 | Batch: 041/054 | Loss: 0.570\n",
            "Epoch: 003/010 | Batch: 042/054 | Loss: 0.755\n",
            "Epoch: 003/010 | Batch: 043/054 | Loss: 0.578\n",
            "Epoch: 003/010 | Batch: 044/054 | Loss: 0.663\n",
            "Epoch: 003/010 | Batch: 045/054 | Loss: 0.460\n",
            "Epoch: 003/010 | Batch: 046/054 | Loss: 0.442\n",
            "Epoch: 003/010 | Batch: 047/054 | Loss: 0.672\n",
            "Epoch: 003/010 | Batch: 048/054 | Loss: 0.397\n",
            "Epoch: 003/010 | Batch: 049/054 | Loss: 0.446\n",
            "Epoch: 003/010 | Batch: 050/054 | Loss: 0.454\n",
            "Epoch: 003/010 | Batch: 051/054 | Loss: 0.857\n",
            "Epoch: 003/010 | Batch: 052/054 | Loss: 0.575\n",
            "Epoch: 003/010 | Batch: 053/054 | Loss: 0.657\n",
            "Epoch: 003/010 | Batch: 054/054 | Loss: 0.549\n",
            "Epoch: 004/010 | Batch: 001/054 | Loss: 0.436\n",
            "Epoch: 004/010 | Batch: 002/054 | Loss: 0.599\n",
            "Epoch: 004/010 | Batch: 003/054 | Loss: 0.643\n",
            "Epoch: 004/010 | Batch: 004/054 | Loss: 0.517\n",
            "Epoch: 004/010 | Batch: 005/054 | Loss: 0.432\n",
            "Epoch: 004/010 | Batch: 006/054 | Loss: 0.530\n",
            "Epoch: 004/010 | Batch: 007/054 | Loss: 0.739\n",
            "Epoch: 004/010 | Batch: 008/054 | Loss: 0.746\n",
            "Epoch: 004/010 | Batch: 009/054 | Loss: 0.509\n",
            "Epoch: 004/010 | Batch: 010/054 | Loss: 0.496\n",
            "Epoch: 004/010 | Batch: 011/054 | Loss: 0.557\n",
            "Epoch: 004/010 | Batch: 012/054 | Loss: 0.432\n",
            "Epoch: 004/010 | Batch: 013/054 | Loss: 0.674\n",
            "Epoch: 004/010 | Batch: 014/054 | Loss: 0.470\n",
            "Epoch: 004/010 | Batch: 015/054 | Loss: 0.515\n",
            "Epoch: 004/010 | Batch: 016/054 | Loss: 0.608\n",
            "Epoch: 004/010 | Batch: 017/054 | Loss: 0.393\n",
            "Epoch: 004/010 | Batch: 018/054 | Loss: 0.479\n",
            "Epoch: 004/010 | Batch: 019/054 | Loss: 0.470\n",
            "Epoch: 004/010 | Batch: 020/054 | Loss: 0.429\n",
            "Epoch: 004/010 | Batch: 021/054 | Loss: 0.560\n",
            "Epoch: 004/010 | Batch: 022/054 | Loss: 0.513\n",
            "Epoch: 004/010 | Batch: 023/054 | Loss: 0.408\n",
            "Epoch: 004/010 | Batch: 024/054 | Loss: 0.525\n",
            "Epoch: 004/010 | Batch: 025/054 | Loss: 0.438\n",
            "Epoch: 004/010 | Batch: 026/054 | Loss: 0.691\n",
            "Epoch: 004/010 | Batch: 027/054 | Loss: 0.469\n",
            "Epoch: 004/010 | Batch: 028/054 | Loss: 0.576\n",
            "Epoch: 004/010 | Batch: 029/054 | Loss: 0.448\n",
            "Epoch: 004/010 | Batch: 030/054 | Loss: 0.532\n",
            "Epoch: 004/010 | Batch: 031/054 | Loss: 0.419\n",
            "Epoch: 004/010 | Batch: 032/054 | Loss: 0.673\n",
            "Epoch: 004/010 | Batch: 033/054 | Loss: 0.746\n",
            "Epoch: 004/010 | Batch: 034/054 | Loss: 0.656\n",
            "Epoch: 004/010 | Batch: 035/054 | Loss: 0.500\n",
            "Epoch: 004/010 | Batch: 036/054 | Loss: 0.409\n",
            "Epoch: 004/010 | Batch: 037/054 | Loss: 0.393\n",
            "Epoch: 004/010 | Batch: 038/054 | Loss: 0.669\n",
            "Epoch: 004/010 | Batch: 039/054 | Loss: 0.521\n",
            "Epoch: 004/010 | Batch: 040/054 | Loss: 0.737\n",
            "Epoch: 004/010 | Batch: 041/054 | Loss: 0.481\n",
            "Epoch: 004/010 | Batch: 042/054 | Loss: 0.556\n",
            "Epoch: 004/010 | Batch: 043/054 | Loss: 0.750\n",
            "Epoch: 004/010 | Batch: 044/054 | Loss: 0.608\n",
            "Epoch: 004/010 | Batch: 045/054 | Loss: 0.538\n",
            "Epoch: 004/010 | Batch: 046/054 | Loss: 0.495\n",
            "Epoch: 004/010 | Batch: 047/054 | Loss: 0.416\n",
            "Epoch: 004/010 | Batch: 048/054 | Loss: 0.562\n",
            "Epoch: 004/010 | Batch: 049/054 | Loss: 0.579\n",
            "Epoch: 004/010 | Batch: 050/054 | Loss: 0.535\n",
            "Epoch: 004/010 | Batch: 051/054 | Loss: 0.551\n",
            "Epoch: 004/010 | Batch: 052/054 | Loss: 0.638\n",
            "Epoch: 004/010 | Batch: 053/054 | Loss: 0.504\n",
            "Epoch: 004/010 | Batch: 054/054 | Loss: 0.360\n",
            "Epoch: 005/010 | Batch: 001/054 | Loss: 0.585\n",
            "Epoch: 005/010 | Batch: 002/054 | Loss: 0.373\n",
            "Epoch: 005/010 | Batch: 003/054 | Loss: 0.573\n",
            "Epoch: 005/010 | Batch: 004/054 | Loss: 0.475\n",
            "Epoch: 005/010 | Batch: 005/054 | Loss: 0.359\n",
            "Epoch: 005/010 | Batch: 006/054 | Loss: 0.448\n",
            "Epoch: 005/010 | Batch: 007/054 | Loss: 0.243\n",
            "Epoch: 005/010 | Batch: 008/054 | Loss: 0.762\n",
            "Epoch: 005/010 | Batch: 009/054 | Loss: 0.716\n",
            "Epoch: 005/010 | Batch: 010/054 | Loss: 0.588\n",
            "Epoch: 005/010 | Batch: 011/054 | Loss: 0.386\n",
            "Epoch: 005/010 | Batch: 012/054 | Loss: 0.406\n",
            "Epoch: 005/010 | Batch: 013/054 | Loss: 0.446\n",
            "Epoch: 005/010 | Batch: 014/054 | Loss: 0.719\n",
            "Epoch: 005/010 | Batch: 015/054 | Loss: 0.526\n",
            "Epoch: 005/010 | Batch: 016/054 | Loss: 0.567\n",
            "Epoch: 005/010 | Batch: 017/054 | Loss: 0.539\n",
            "Epoch: 005/010 | Batch: 018/054 | Loss: 0.599\n",
            "Epoch: 005/010 | Batch: 019/054 | Loss: 0.386\n",
            "Epoch: 005/010 | Batch: 020/054 | Loss: 0.499\n",
            "Epoch: 005/010 | Batch: 021/054 | Loss: 0.630\n",
            "Epoch: 005/010 | Batch: 022/054 | Loss: 0.515\n",
            "Epoch: 005/010 | Batch: 023/054 | Loss: 0.445\n",
            "Epoch: 005/010 | Batch: 024/054 | Loss: 0.575\n",
            "Epoch: 005/010 | Batch: 025/054 | Loss: 0.668\n",
            "Epoch: 005/010 | Batch: 026/054 | Loss: 0.523\n",
            "Epoch: 005/010 | Batch: 027/054 | Loss: 0.351\n",
            "Epoch: 005/010 | Batch: 028/054 | Loss: 0.154\n",
            "Epoch: 005/010 | Batch: 029/054 | Loss: 0.694\n",
            "Epoch: 005/010 | Batch: 030/054 | Loss: 0.606\n",
            "Epoch: 005/010 | Batch: 031/054 | Loss: 0.543\n",
            "Epoch: 005/010 | Batch: 032/054 | Loss: 0.455\n",
            "Epoch: 005/010 | Batch: 033/054 | Loss: 0.587\n",
            "Epoch: 005/010 | Batch: 034/054 | Loss: 0.601\n",
            "Epoch: 005/010 | Batch: 035/054 | Loss: 0.479\n",
            "Epoch: 005/010 | Batch: 036/054 | Loss: 0.366\n",
            "Epoch: 005/010 | Batch: 037/054 | Loss: 0.653\n",
            "Epoch: 005/010 | Batch: 038/054 | Loss: 0.605\n",
            "Epoch: 005/010 | Batch: 039/054 | Loss: 0.448\n",
            "Epoch: 005/010 | Batch: 040/054 | Loss: 0.397\n",
            "Epoch: 005/010 | Batch: 041/054 | Loss: 0.403\n",
            "Epoch: 005/010 | Batch: 042/054 | Loss: 0.665\n",
            "Epoch: 005/010 | Batch: 043/054 | Loss: 0.692\n",
            "Epoch: 005/010 | Batch: 044/054 | Loss: 0.434\n",
            "Epoch: 005/010 | Batch: 045/054 | Loss: 0.692\n",
            "Epoch: 005/010 | Batch: 046/054 | Loss: 0.684\n",
            "Epoch: 005/010 | Batch: 047/054 | Loss: 0.487\n",
            "Epoch: 005/010 | Batch: 048/054 | Loss: 0.541\n",
            "Epoch: 005/010 | Batch: 049/054 | Loss: 0.286\n",
            "Epoch: 005/010 | Batch: 050/054 | Loss: 0.722\n",
            "Epoch: 005/010 | Batch: 051/054 | Loss: 0.464\n",
            "Epoch: 005/010 | Batch: 052/054 | Loss: 0.725\n",
            "Epoch: 005/010 | Batch: 053/054 | Loss: 0.560\n",
            "Epoch: 005/010 | Batch: 054/054 | Loss: 0.532\n",
            "Epoch: 006/010 | Batch: 001/054 | Loss: 0.338\n",
            "Epoch: 006/010 | Batch: 002/054 | Loss: 0.423\n",
            "Epoch: 006/010 | Batch: 003/054 | Loss: 0.515\n",
            "Epoch: 006/010 | Batch: 004/054 | Loss: 0.358\n",
            "Epoch: 006/010 | Batch: 005/054 | Loss: 0.412\n",
            "Epoch: 006/010 | Batch: 006/054 | Loss: 0.513\n",
            "Epoch: 006/010 | Batch: 007/054 | Loss: 0.415\n",
            "Epoch: 006/010 | Batch: 008/054 | Loss: 0.388\n",
            "Epoch: 006/010 | Batch: 009/054 | Loss: 0.426\n",
            "Epoch: 006/010 | Batch: 010/054 | Loss: 0.446\n",
            "Epoch: 006/010 | Batch: 011/054 | Loss: 0.603\n",
            "Epoch: 006/010 | Batch: 012/054 | Loss: 0.517\n",
            "Epoch: 006/010 | Batch: 013/054 | Loss: 0.530\n",
            "Epoch: 006/010 | Batch: 014/054 | Loss: 0.730\n",
            "Epoch: 006/010 | Batch: 015/054 | Loss: 0.476\n",
            "Epoch: 006/010 | Batch: 016/054 | Loss: 0.732\n",
            "Epoch: 006/010 | Batch: 017/054 | Loss: 0.646\n",
            "Epoch: 006/010 | Batch: 018/054 | Loss: 0.736\n",
            "Epoch: 006/010 | Batch: 019/054 | Loss: 1.064\n",
            "Epoch: 006/010 | Batch: 020/054 | Loss: 0.747\n",
            "Epoch: 006/010 | Batch: 021/054 | Loss: 0.480\n",
            "Epoch: 006/010 | Batch: 022/054 | Loss: 0.388\n",
            "Epoch: 006/010 | Batch: 023/054 | Loss: 0.390\n",
            "Epoch: 006/010 | Batch: 024/054 | Loss: 0.448\n",
            "Epoch: 006/010 | Batch: 025/054 | Loss: 0.562\n",
            "Epoch: 006/010 | Batch: 026/054 | Loss: 0.521\n",
            "Epoch: 006/010 | Batch: 027/054 | Loss: 0.428\n",
            "Epoch: 006/010 | Batch: 028/054 | Loss: 0.548\n",
            "Epoch: 006/010 | Batch: 029/054 | Loss: 0.381\n",
            "Epoch: 006/010 | Batch: 030/054 | Loss: 0.421\n",
            "Epoch: 006/010 | Batch: 031/054 | Loss: 0.549\n",
            "Epoch: 006/010 | Batch: 032/054 | Loss: 0.602\n",
            "Epoch: 006/010 | Batch: 033/054 | Loss: 0.686\n",
            "Epoch: 006/010 | Batch: 034/054 | Loss: 0.576\n",
            "Epoch: 006/010 | Batch: 035/054 | Loss: 0.484\n",
            "Epoch: 006/010 | Batch: 036/054 | Loss: 0.489\n",
            "Epoch: 006/010 | Batch: 037/054 | Loss: 0.462\n",
            "Epoch: 006/010 | Batch: 038/054 | Loss: 0.493\n",
            "Epoch: 006/010 | Batch: 039/054 | Loss: 0.507\n",
            "Epoch: 006/010 | Batch: 040/054 | Loss: 0.369\n",
            "Epoch: 006/010 | Batch: 041/054 | Loss: 0.627\n",
            "Epoch: 006/010 | Batch: 042/054 | Loss: 0.491\n",
            "Epoch: 006/010 | Batch: 043/054 | Loss: 0.706\n",
            "Epoch: 006/010 | Batch: 044/054 | Loss: 0.537\n",
            "Epoch: 006/010 | Batch: 045/054 | Loss: 0.551\n",
            "Epoch: 006/010 | Batch: 046/054 | Loss: 0.402\n",
            "Epoch: 006/010 | Batch: 047/054 | Loss: 0.418\n",
            "Epoch: 006/010 | Batch: 048/054 | Loss: 0.470\n",
            "Epoch: 006/010 | Batch: 049/054 | Loss: 0.564\n",
            "Epoch: 006/010 | Batch: 050/054 | Loss: 0.627\n",
            "Epoch: 006/010 | Batch: 051/054 | Loss: 0.422\n",
            "Epoch: 006/010 | Batch: 052/054 | Loss: 0.471\n",
            "Epoch: 006/010 | Batch: 053/054 | Loss: 0.449\n",
            "Epoch: 006/010 | Batch: 054/054 | Loss: 0.455\n",
            "Epoch: 007/010 | Batch: 001/054 | Loss: 0.451\n",
            "Epoch: 007/010 | Batch: 002/054 | Loss: 0.372\n",
            "Epoch: 007/010 | Batch: 003/054 | Loss: 0.432\n",
            "Epoch: 007/010 | Batch: 004/054 | Loss: 0.530\n",
            "Epoch: 007/010 | Batch: 005/054 | Loss: 0.274\n",
            "Epoch: 007/010 | Batch: 006/054 | Loss: 0.416\n",
            "Epoch: 007/010 | Batch: 007/054 | Loss: 0.474\n",
            "Epoch: 007/010 | Batch: 008/054 | Loss: 0.431\n",
            "Epoch: 007/010 | Batch: 009/054 | Loss: 0.894\n",
            "Epoch: 007/010 | Batch: 010/054 | Loss: 0.461\n",
            "Epoch: 007/010 | Batch: 011/054 | Loss: 0.646\n",
            "Epoch: 007/010 | Batch: 012/054 | Loss: 0.411\n",
            "Epoch: 007/010 | Batch: 013/054 | Loss: 0.316\n",
            "Epoch: 007/010 | Batch: 014/054 | Loss: 0.776\n",
            "Epoch: 007/010 | Batch: 015/054 | Loss: 0.677\n",
            "Epoch: 007/010 | Batch: 016/054 | Loss: 0.585\n",
            "Epoch: 007/010 | Batch: 017/054 | Loss: 0.500\n",
            "Epoch: 007/010 | Batch: 018/054 | Loss: 0.589\n",
            "Epoch: 007/010 | Batch: 019/054 | Loss: 0.700\n",
            "Epoch: 007/010 | Batch: 020/054 | Loss: 0.446\n",
            "Epoch: 007/010 | Batch: 021/054 | Loss: 0.369\n",
            "Epoch: 007/010 | Batch: 022/054 | Loss: 0.404\n",
            "Epoch: 007/010 | Batch: 023/054 | Loss: 0.565\n",
            "Epoch: 007/010 | Batch: 024/054 | Loss: 0.419\n",
            "Epoch: 007/010 | Batch: 025/054 | Loss: 0.327\n",
            "Epoch: 007/010 | Batch: 026/054 | Loss: 0.750\n",
            "Epoch: 007/010 | Batch: 027/054 | Loss: 0.692\n",
            "Epoch: 007/010 | Batch: 028/054 | Loss: 0.369\n",
            "Epoch: 007/010 | Batch: 029/054 | Loss: 0.507\n",
            "Epoch: 007/010 | Batch: 030/054 | Loss: 0.438\n",
            "Epoch: 007/010 | Batch: 031/054 | Loss: 0.488\n",
            "Epoch: 007/010 | Batch: 032/054 | Loss: 0.689\n",
            "Epoch: 007/010 | Batch: 033/054 | Loss: 0.501\n",
            "Epoch: 007/010 | Batch: 034/054 | Loss: 0.416\n",
            "Epoch: 007/010 | Batch: 035/054 | Loss: 0.464\n",
            "Epoch: 007/010 | Batch: 036/054 | Loss: 0.476\n",
            "Epoch: 007/010 | Batch: 037/054 | Loss: 0.501\n",
            "Epoch: 007/010 | Batch: 038/054 | Loss: 0.567\n",
            "Epoch: 007/010 | Batch: 039/054 | Loss: 0.373\n",
            "Epoch: 007/010 | Batch: 040/054 | Loss: 0.757\n",
            "Epoch: 007/010 | Batch: 041/054 | Loss: 0.527\n",
            "Epoch: 007/010 | Batch: 042/054 | Loss: 0.600\n",
            "Epoch: 007/010 | Batch: 043/054 | Loss: 0.496\n",
            "Epoch: 007/010 | Batch: 044/054 | Loss: 0.398\n",
            "Epoch: 007/010 | Batch: 045/054 | Loss: 0.379\n",
            "Epoch: 007/010 | Batch: 046/054 | Loss: 0.480\n",
            "Epoch: 007/010 | Batch: 047/054 | Loss: 0.543\n",
            "Epoch: 007/010 | Batch: 048/054 | Loss: 0.694\n",
            "Epoch: 007/010 | Batch: 049/054 | Loss: 0.710\n",
            "Epoch: 007/010 | Batch: 050/054 | Loss: 0.426\n",
            "Epoch: 007/010 | Batch: 051/054 | Loss: 0.527\n",
            "Epoch: 007/010 | Batch: 052/054 | Loss: 0.322\n",
            "Epoch: 007/010 | Batch: 053/054 | Loss: 0.293\n",
            "Epoch: 007/010 | Batch: 054/054 | Loss: 0.823\n",
            "Epoch: 008/010 | Batch: 001/054 | Loss: 0.346\n",
            "Epoch: 008/010 | Batch: 002/054 | Loss: 0.375\n",
            "Epoch: 008/010 | Batch: 003/054 | Loss: 0.718\n",
            "Epoch: 008/010 | Batch: 004/054 | Loss: 0.471\n",
            "Epoch: 008/010 | Batch: 005/054 | Loss: 0.524\n",
            "Epoch: 008/010 | Batch: 006/054 | Loss: 0.403\n",
            "Epoch: 008/010 | Batch: 007/054 | Loss: 0.504\n",
            "Epoch: 008/010 | Batch: 008/054 | Loss: 0.596\n",
            "Epoch: 008/010 | Batch: 009/054 | Loss: 0.462\n",
            "Epoch: 008/010 | Batch: 010/054 | Loss: 0.555\n",
            "Epoch: 008/010 | Batch: 011/054 | Loss: 0.595\n",
            "Epoch: 008/010 | Batch: 012/054 | Loss: 0.455\n",
            "Epoch: 008/010 | Batch: 013/054 | Loss: 0.548\n",
            "Epoch: 008/010 | Batch: 014/054 | Loss: 0.374\n",
            "Epoch: 008/010 | Batch: 015/054 | Loss: 0.383\n",
            "Epoch: 008/010 | Batch: 016/054 | Loss: 0.705\n",
            "Epoch: 008/010 | Batch: 017/054 | Loss: 0.351\n",
            "Epoch: 008/010 | Batch: 018/054 | Loss: 0.431\n",
            "Epoch: 008/010 | Batch: 019/054 | Loss: 0.775\n",
            "Epoch: 008/010 | Batch: 020/054 | Loss: 0.453\n",
            "Epoch: 008/010 | Batch: 021/054 | Loss: 0.824\n",
            "Epoch: 008/010 | Batch: 022/054 | Loss: 0.495\n",
            "Epoch: 008/010 | Batch: 023/054 | Loss: 0.490\n",
            "Epoch: 008/010 | Batch: 024/054 | Loss: 0.515\n",
            "Epoch: 008/010 | Batch: 025/054 | Loss: 1.139\n",
            "Epoch: 008/010 | Batch: 026/054 | Loss: 0.442\n",
            "Epoch: 008/010 | Batch: 027/054 | Loss: 0.446\n",
            "Epoch: 008/010 | Batch: 028/054 | Loss: 0.484\n",
            "Epoch: 008/010 | Batch: 029/054 | Loss: 0.262\n",
            "Epoch: 008/010 | Batch: 030/054 | Loss: 0.597\n",
            "Epoch: 008/010 | Batch: 031/054 | Loss: 0.563\n",
            "Epoch: 008/010 | Batch: 032/054 | Loss: 0.691\n",
            "Epoch: 008/010 | Batch: 033/054 | Loss: 0.667\n",
            "Epoch: 008/010 | Batch: 034/054 | Loss: 0.352\n",
            "Epoch: 008/010 | Batch: 035/054 | Loss: 0.705\n",
            "Epoch: 008/010 | Batch: 036/054 | Loss: 0.274\n",
            "Epoch: 008/010 | Batch: 037/054 | Loss: 0.540\n",
            "Epoch: 008/010 | Batch: 038/054 | Loss: 0.543\n",
            "Epoch: 008/010 | Batch: 039/054 | Loss: 0.461\n",
            "Epoch: 008/010 | Batch: 040/054 | Loss: 0.522\n",
            "Epoch: 008/010 | Batch: 041/054 | Loss: 0.366\n",
            "Epoch: 008/010 | Batch: 042/054 | Loss: 0.389\n",
            "Epoch: 008/010 | Batch: 043/054 | Loss: 0.556\n",
            "Epoch: 008/010 | Batch: 044/054 | Loss: 0.395\n",
            "Epoch: 008/010 | Batch: 045/054 | Loss: 0.379\n",
            "Epoch: 008/010 | Batch: 046/054 | Loss: 0.480\n",
            "Epoch: 008/010 | Batch: 047/054 | Loss: 0.487\n",
            "Epoch: 008/010 | Batch: 048/054 | Loss: 0.383\n",
            "Epoch: 008/010 | Batch: 049/054 | Loss: 0.421\n",
            "Epoch: 008/010 | Batch: 050/054 | Loss: 0.421\n",
            "Epoch: 008/010 | Batch: 051/054 | Loss: 0.547\n",
            "Epoch: 008/010 | Batch: 052/054 | Loss: 0.277\n",
            "Epoch: 008/010 | Batch: 053/054 | Loss: 0.495\n",
            "Epoch: 008/010 | Batch: 054/054 | Loss: 0.752\n",
            "Epoch: 009/010 | Batch: 001/054 | Loss: 0.615\n",
            "Epoch: 009/010 | Batch: 002/054 | Loss: 0.622\n",
            "Epoch: 009/010 | Batch: 003/054 | Loss: 0.532\n",
            "Epoch: 009/010 | Batch: 004/054 | Loss: 0.489\n",
            "Epoch: 009/010 | Batch: 005/054 | Loss: 0.259\n",
            "Epoch: 009/010 | Batch: 006/054 | Loss: 0.501\n",
            "Epoch: 009/010 | Batch: 007/054 | Loss: 0.548\n",
            "Epoch: 009/010 | Batch: 008/054 | Loss: 0.472\n",
            "Epoch: 009/010 | Batch: 009/054 | Loss: 0.400\n",
            "Epoch: 009/010 | Batch: 010/054 | Loss: 0.462\n",
            "Epoch: 009/010 | Batch: 011/054 | Loss: 0.416\n",
            "Epoch: 009/010 | Batch: 012/054 | Loss: 0.321\n",
            "Epoch: 009/010 | Batch: 013/054 | Loss: 0.385\n",
            "Epoch: 009/010 | Batch: 014/054 | Loss: 0.573\n",
            "Epoch: 009/010 | Batch: 015/054 | Loss: 0.514\n",
            "Epoch: 009/010 | Batch: 016/054 | Loss: 0.551\n",
            "Epoch: 009/010 | Batch: 017/054 | Loss: 0.829\n",
            "Epoch: 009/010 | Batch: 018/054 | Loss: 0.445\n",
            "Epoch: 009/010 | Batch: 019/054 | Loss: 0.490\n",
            "Epoch: 009/010 | Batch: 020/054 | Loss: 0.447\n",
            "Epoch: 009/010 | Batch: 021/054 | Loss: 0.344\n",
            "Epoch: 009/010 | Batch: 022/054 | Loss: 0.401\n",
            "Epoch: 009/010 | Batch: 023/054 | Loss: 0.665\n",
            "Epoch: 009/010 | Batch: 024/054 | Loss: 0.308\n",
            "Epoch: 009/010 | Batch: 025/054 | Loss: 0.376\n",
            "Epoch: 009/010 | Batch: 026/054 | Loss: 0.507\n",
            "Epoch: 009/010 | Batch: 027/054 | Loss: 0.212\n",
            "Epoch: 009/010 | Batch: 028/054 | Loss: 0.593\n",
            "Epoch: 009/010 | Batch: 029/054 | Loss: 0.485\n",
            "Epoch: 009/010 | Batch: 030/054 | Loss: 0.639\n",
            "Epoch: 009/010 | Batch: 031/054 | Loss: 0.549\n",
            "Epoch: 009/010 | Batch: 032/054 | Loss: 0.578\n",
            "Epoch: 009/010 | Batch: 033/054 | Loss: 0.490\n",
            "Epoch: 009/010 | Batch: 034/054 | Loss: 0.661\n",
            "Epoch: 009/010 | Batch: 035/054 | Loss: 0.604\n",
            "Epoch: 009/010 | Batch: 036/054 | Loss: 0.287\n",
            "Epoch: 009/010 | Batch: 037/054 | Loss: 0.529\n",
            "Epoch: 009/010 | Batch: 038/054 | Loss: 0.522\n",
            "Epoch: 009/010 | Batch: 039/054 | Loss: 0.991\n",
            "Epoch: 009/010 | Batch: 040/054 | Loss: 0.347\n",
            "Epoch: 009/010 | Batch: 041/054 | Loss: 0.354\n",
            "Epoch: 009/010 | Batch: 042/054 | Loss: 0.650\n",
            "Epoch: 009/010 | Batch: 043/054 | Loss: 0.649\n",
            "Epoch: 009/010 | Batch: 044/054 | Loss: 0.292\n",
            "Epoch: 009/010 | Batch: 045/054 | Loss: 0.430\n",
            "Epoch: 009/010 | Batch: 046/054 | Loss: 0.372\n",
            "Epoch: 009/010 | Batch: 047/054 | Loss: 0.441\n",
            "Epoch: 009/010 | Batch: 048/054 | Loss: 0.502\n",
            "Epoch: 009/010 | Batch: 049/054 | Loss: 0.529\n",
            "Epoch: 009/010 | Batch: 050/054 | Loss: 0.453\n",
            "Epoch: 009/010 | Batch: 051/054 | Loss: 0.634\n",
            "Epoch: 009/010 | Batch: 052/054 | Loss: 0.355\n",
            "Epoch: 009/010 | Batch: 053/054 | Loss: 0.621\n",
            "Epoch: 009/010 | Batch: 054/054 | Loss: 0.818\n",
            "Epoch: 010/010 | Batch: 001/054 | Loss: 0.222\n",
            "Epoch: 010/010 | Batch: 002/054 | Loss: 0.529\n",
            "Epoch: 010/010 | Batch: 003/054 | Loss: 0.828\n",
            "Epoch: 010/010 | Batch: 004/054 | Loss: 0.556\n",
            "Epoch: 010/010 | Batch: 005/054 | Loss: 0.335\n",
            "Epoch: 010/010 | Batch: 006/054 | Loss: 0.391\n",
            "Epoch: 010/010 | Batch: 007/054 | Loss: 0.544\n",
            "Epoch: 010/010 | Batch: 008/054 | Loss: 0.635\n",
            "Epoch: 010/010 | Batch: 009/054 | Loss: 0.324\n",
            "Epoch: 010/010 | Batch: 010/054 | Loss: 0.737\n",
            "Epoch: 010/010 | Batch: 011/054 | Loss: 0.447\n",
            "Epoch: 010/010 | Batch: 012/054 | Loss: 0.490\n",
            "Epoch: 010/010 | Batch: 013/054 | Loss: 0.393\n",
            "Epoch: 010/010 | Batch: 014/054 | Loss: 0.423\n",
            "Epoch: 010/010 | Batch: 015/054 | Loss: 0.841\n",
            "Epoch: 010/010 | Batch: 016/054 | Loss: 0.623\n",
            "Epoch: 010/010 | Batch: 017/054 | Loss: 0.197\n",
            "Epoch: 010/010 | Batch: 018/054 | Loss: 0.543\n",
            "Epoch: 010/010 | Batch: 019/054 | Loss: 0.561\n",
            "Epoch: 010/010 | Batch: 020/054 | Loss: 0.652\n",
            "Epoch: 010/010 | Batch: 021/054 | Loss: 0.626\n",
            "Epoch: 010/010 | Batch: 022/054 | Loss: 0.759\n",
            "Epoch: 010/010 | Batch: 023/054 | Loss: 0.324\n",
            "Epoch: 010/010 | Batch: 024/054 | Loss: 0.332\n",
            "Epoch: 010/010 | Batch: 025/054 | Loss: 0.660\n",
            "Epoch: 010/010 | Batch: 026/054 | Loss: 0.330\n",
            "Epoch: 010/010 | Batch: 027/054 | Loss: 0.545\n",
            "Epoch: 010/010 | Batch: 028/054 | Loss: 0.416\n",
            "Epoch: 010/010 | Batch: 029/054 | Loss: 0.414\n",
            "Epoch: 010/010 | Batch: 030/054 | Loss: 0.667\n",
            "Epoch: 010/010 | Batch: 031/054 | Loss: 0.501\n",
            "Epoch: 010/010 | Batch: 032/054 | Loss: 0.505\n",
            "Epoch: 010/010 | Batch: 033/054 | Loss: 0.594\n",
            "Epoch: 010/010 | Batch: 034/054 | Loss: 0.549\n",
            "Epoch: 010/010 | Batch: 035/054 | Loss: 0.474\n",
            "Epoch: 010/010 | Batch: 036/054 | Loss: 0.816\n",
            "Epoch: 010/010 | Batch: 037/054 | Loss: 0.367\n",
            "Epoch: 010/010 | Batch: 038/054 | Loss: 0.479\n",
            "Epoch: 010/010 | Batch: 039/054 | Loss: 0.358\n",
            "Epoch: 010/010 | Batch: 040/054 | Loss: 0.444\n",
            "Epoch: 010/010 | Batch: 041/054 | Loss: 0.840\n",
            "Epoch: 010/010 | Batch: 042/054 | Loss: 0.467\n",
            "Epoch: 010/010 | Batch: 043/054 | Loss: 0.563\n",
            "Epoch: 010/010 | Batch: 044/054 | Loss: 0.310\n",
            "Epoch: 010/010 | Batch: 045/054 | Loss: 0.438\n",
            "Epoch: 010/010 | Batch: 046/054 | Loss: 0.462\n",
            "Epoch: 010/010 | Batch: 047/054 | Loss: 0.350\n",
            "Epoch: 010/010 | Batch: 048/054 | Loss: 0.373\n",
            "Epoch: 010/010 | Batch: 049/054 | Loss: 0.333\n",
            "Epoch: 010/010 | Batch: 050/054 | Loss: 0.231\n",
            "Epoch: 010/010 | Batch: 051/054 | Loss: 0.686\n",
            "Epoch: 010/010 | Batch: 052/054 | Loss: 0.279\n",
            "Epoch: 010/010 | Batch: 053/054 | Loss: 0.277\n",
            "Epoch: 010/010 | Batch: 054/054 | Loss: 0.314\n"
          ]
        }
      ],
      "source": [
        "for epoch in range(epochs):\n",
        "  model = model.train()\n",
        "\n",
        "  for index, (x, y) in enumerate(train_dataloader):\n",
        "    a = model(x)\n",
        "    loss = F.binary_cross_entropy(a, y.view(a.shape))\n",
        "\n",
        "    optimizer.zero_grad()\n",
        "    loss.backward()\n",
        "    optimizer.step()\n",
        "\n",
        "    print(f'Epoch: {epoch + 1:03d}/{epochs:03d} | Batch: {index + 1:03d}/{len(train_dataloader):03d} | Loss: {loss:.3f}')"
      ]
    },
    {
      "cell_type": "markdown",
      "source": [
        "## **Evaluating the Results**"
      ],
      "metadata": {
        "id": "Wv6b1A2jg_M_"
      }
    },
    {
      "cell_type": "code",
      "source": [
        "def accuracy(model, dataloader):\n",
        "  model = model.eval()\n",
        "\n",
        "  accuracy = 0.0\n",
        "  total = 0\n",
        "  for index, (x, y) in enumerate(dataloader):\n",
        "\n",
        "    with torch.inference_mode():\n",
        "      z = model(x)\n",
        "\n",
        "    a = torch.where(z > 0.5, 1, 0)\n",
        "    labels = y.view(a.shape).to(a.dtype)\n",
        "\n",
        "    result = a == labels\n",
        "    accuracy += torch.sum(result)\n",
        "    total += len(result)\n",
        "\n",
        "  return (accuracy / total).item()"
      ],
      "metadata": {
        "id": "vbqvjrDmd7o4"
      },
      "execution_count": null,
      "outputs": []
    },
    {
      "cell_type": "code",
      "source": [
        "print(f\"Accuracy (train): {accuracy(model, train_dataloader)}\")"
      ],
      "metadata": {
        "colab": {
          "base_uri": "https://localhost:8080/"
        },
        "id": "2xdUv-HWntsz",
        "outputId": "d9e3006f-a8f0-4f00-a45e-a438e8cfc922"
      },
      "execution_count": null,
      "outputs": [
        {
          "output_type": "stream",
          "name": "stdout",
          "text": [
            "Accuracy (train): 0.7150837779045105\n"
          ]
        }
      ]
    },
    {
      "cell_type": "code",
      "source": [
        "print(f\"Accuracy (test): {accuracy(model, test_dataloader)}\")"
      ],
      "metadata": {
        "colab": {
          "base_uri": "https://localhost:8080/"
        },
        "id": "4IzG1K42fD0L",
        "outputId": "57874bd4-38a1-4dcc-9216-3cc32298ff39"
      },
      "execution_count": null,
      "outputs": [
        {
          "output_type": "stream",
          "name": "stdout",
          "text": [
            "Accuracy (test): 0.709956705570221\n"
          ]
        }
      ]
    },
    {
      "cell_type": "code",
      "source": [],
      "metadata": {
        "id": "z-FLJEZafGMa"
      },
      "execution_count": null,
      "outputs": []
    }
  ],
  "metadata": {
    "colab": {
      "provenance": [],
      "authorship_tag": "ABX9TyONHatN3urvQCB8hf+aVHYT",
      "include_colab_link": true
    },
    "kernelspec": {
      "display_name": "Python 3",
      "name": "python3"
    },
    "language_info": {
      "name": "python"
    }
  },
  "nbformat": 4,
  "nbformat_minor": 0
}