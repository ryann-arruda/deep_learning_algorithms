{
  "nbformat": 4,
  "nbformat_minor": 0,
  "metadata": {
    "colab": {
      "provenance": [],
      "include_colab_link": true
    },
    "kernelspec": {
      "name": "python3",
      "display_name": "Python 3"
    },
    "language_info": {
      "name": "python"
    }
  },
  "cells": [
    {
      "cell_type": "markdown",
      "metadata": {
        "id": "view-in-github",
        "colab_type": "text"
      },
      "source": [
        "<a href=\"https://colab.research.google.com/github/ryann-arruda/deep_learning_algorithms/blob/main/perceptron_step_activation_function.ipynb\" target=\"_parent\"><img src=\"https://colab.research.google.com/assets/colab-badge.svg\" alt=\"Open In Colab\"/></a>"
      ]
    },
    {
      "cell_type": "code",
      "execution_count": 1,
      "metadata": {
        "id": "hxNUPHqcB4Vk"
      },
      "outputs": [],
      "source": [
        "import torch\n",
        "from sklearn.datasets import load_breast_cancer\n",
        "from sklearn.model_selection import train_test_split\n",
        "import pandas as pd\n",
        "from tqdm import tqdm"
      ]
    },
    {
      "cell_type": "markdown",
      "source": [
        "## **Loading Dataset**"
      ],
      "metadata": {
        "id": "tMGC_peiCGcq"
      }
    },
    {
      "cell_type": "code",
      "source": [
        "data = load_breast_cancer()"
      ],
      "metadata": {
        "id": "sJsZ4LyZOcyA"
      },
      "execution_count": 2,
      "outputs": []
    },
    {
      "cell_type": "code",
      "source": [
        "x = pd.DataFrame(data.data, columns=data.feature_names)\n",
        "y = pd.DataFrame(data.target, columns=['Target'])"
      ],
      "metadata": {
        "id": "K_p0uomgOkU9"
      },
      "execution_count": 3,
      "outputs": []
    },
    {
      "cell_type": "markdown",
      "source": [
        "## **Separating the Dataset**"
      ],
      "metadata": {
        "id": "F7xsi1WTCcRI"
      }
    },
    {
      "cell_type": "code",
      "source": [
        "x_train, x_test, y_train, y_test = train_test_split(x, y, test_size=0.3, random_state=27)"
      ],
      "metadata": {
        "id": "RiZRdp93PIL1"
      },
      "execution_count": 4,
      "outputs": []
    },
    {
      "cell_type": "markdown",
      "source": [
        "## **Converting Data to Tensors**"
      ],
      "metadata": {
        "id": "QBArWyZyC-g6"
      }
    },
    {
      "cell_type": "code",
      "source": [
        "x_train = torch.tensor(x_train.values, dtype=torch.float32)\n",
        "y_train = torch.tensor(y_train.values, dtype=torch.float32)"
      ],
      "metadata": {
        "id": "vAhmwTsjPbwp"
      },
      "execution_count": 5,
      "outputs": []
    },
    {
      "cell_type": "code",
      "source": [
        "x_test = torch.tensor(x_test.values, dtype=torch.float32)\n",
        "y_test = torch.tensor(y_test.values, dtype=torch.float32)"
      ],
      "metadata": {
        "id": "yGaRO_WfPoGq"
      },
      "execution_count": 6,
      "outputs": []
    },
    {
      "cell_type": "markdown",
      "source": [
        "## **Perceptron**"
      ],
      "metadata": {
        "id": "Fwgr4oaCDoRY"
      }
    },
    {
      "cell_type": "code",
      "source": [
        "class Perceptron():\n",
        "  def __init__(self, num_features, lr=1.0):\n",
        "    self.num_features = num_features\n",
        "    self.weights = torch.zeros(num_features)\n",
        "    self.bias = torch.tensor(0.)\n",
        "    self.lr = torch.tensor(lr)\n",
        "\n",
        "  def forward(self, x):\n",
        "    z = self.weights.matmul(x.T) + self.bias\n",
        "\n",
        "    return torch.where(z >= 0, 1., 0.)\n",
        "\n",
        "  def fit(self, all_x, all_y, epochs):\n",
        "    for epoch in tqdm(range(epochs)):\n",
        "      a = self.forward(all_x).view(-1, 1)\n",
        "      m = len(all_x)\n",
        "\n",
        "      dz = a - all_y\n",
        "\n",
        "      dw = torch.sum(dz * all_x, dim=0)/m\n",
        "      db = torch.sum(dz)/m\n",
        "\n",
        "      self.weights -= self.lr * dw\n",
        "      self.bias -= self.lr * db"
      ],
      "metadata": {
        "id": "SMouAibjMjme"
      },
      "execution_count": 30,
      "outputs": []
    },
    {
      "cell_type": "code",
      "source": [
        "num_features = len(x_train[0])"
      ],
      "metadata": {
        "id": "ib4p8qH5DQYx"
      },
      "execution_count": 31,
      "outputs": []
    },
    {
      "cell_type": "code",
      "source": [
        "model = Perceptron(num_features)"
      ],
      "metadata": {
        "id": "eJvBFNVzE5cw"
      },
      "execution_count": 32,
      "outputs": []
    },
    {
      "cell_type": "code",
      "source": [
        "model.fit(x_train, y_train, 3000)"
      ],
      "metadata": {
        "id": "hiG0yFOESMlQ",
        "colab": {
          "base_uri": "https://localhost:8080/"
        },
        "outputId": "af6009f5-94bd-4e43-fcd7-23a8e7497925"
      },
      "execution_count": 33,
      "outputs": [
        {
          "output_type": "stream",
          "name": "stderr",
          "text": [
            "100%|██████████| 3000/3000 [00:00<00:00, 6984.05it/s]\n"
          ]
        }
      ]
    },
    {
      "cell_type": "markdown",
      "source": [
        "## **Testing**"
      ],
      "metadata": {
        "id": "zHtjQjHLXuJt"
      }
    },
    {
      "cell_type": "code",
      "source": [
        "def accuracy(model, x_test, y_test):\n",
        "  accuracy = 0.0\n",
        "\n",
        "  for x, y in zip(x_test, y_test):\n",
        "    pred = model.forward(x)\n",
        "\n",
        "    accuracy += (pred == y).item()\n",
        "\n",
        "  return accuracy/len(x_test)"
      ],
      "metadata": {
        "id": "DozBsWS0qWUT"
      },
      "execution_count": 34,
      "outputs": []
    },
    {
      "cell_type": "code",
      "source": [
        "accuracy(model, x_test, y_test)"
      ],
      "metadata": {
        "colab": {
          "base_uri": "https://localhost:8080/"
        },
        "id": "81x7tzzpqjYT",
        "outputId": "0c93e44b-ebc9-464b-9ec5-c09bd693579f"
      },
      "execution_count": 35,
      "outputs": [
        {
          "output_type": "execute_result",
          "data": {
            "text/plain": [
              "0.9415204678362573"
            ]
          },
          "metadata": {},
          "execution_count": 35
        }
      ]
    },
    {
      "cell_type": "code",
      "source": [],
      "metadata": {
        "id": "NIyv06-iqtgE"
      },
      "execution_count": null,
      "outputs": []
    }
  ]
}