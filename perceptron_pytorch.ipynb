{
  "nbformat": 4,
  "nbformat_minor": 0,
  "metadata": {
    "colab": {
      "provenance": [],
      "authorship_tag": "ABX9TyOgSLHnPStalEz4A1cDgjvj",
      "include_colab_link": true
    },
    "kernelspec": {
      "name": "python3",
      "display_name": "Python 3"
    },
    "language_info": {
      "name": "python"
    }
  },
  "cells": [
    {
      "cell_type": "markdown",
      "metadata": {
        "id": "view-in-github",
        "colab_type": "text"
      },
      "source": [
        "<a href=\"https://colab.research.google.com/github/ryann-arruda/deep_learning_algorithms/blob/main/perceptron_pytorch.ipynb\" target=\"_parent\"><img src=\"https://colab.research.google.com/assets/colab-badge.svg\" alt=\"Open In Colab\"/></a>"
      ]
    },
    {
      "cell_type": "code",
      "source": [
        "from sklearn.datasets import load_breast_cancer\n",
        "import pandas as pd\n",
        "from sklearn.model_selection import train_test_split\n",
        "import torch\n",
        "import torch.nn.functional as F\n",
        "from torch.utils.data import Dataset, DataLoader\n",
        "from tqdm import tqdm"
      ],
      "metadata": {
        "id": "lOiRZ001ADGD"
      },
      "execution_count": 1,
      "outputs": []
    },
    {
      "cell_type": "markdown",
      "source": [
        "## **Loading Dataset**"
      ],
      "metadata": {
        "id": "vvEFBXoF8Am1"
      }
    },
    {
      "cell_type": "code",
      "source": [
        "data = load_breast_cancer()"
      ],
      "metadata": {
        "id": "Fetxx6rJO_mX"
      },
      "execution_count": 2,
      "outputs": []
    },
    {
      "cell_type": "code",
      "source": [
        "x = pd.DataFrame(data.data, columns=data.feature_names)\n",
        "y = pd.DataFrame(data.target, columns=['Target'])"
      ],
      "metadata": {
        "id": "HN9te7TMPBLm"
      },
      "execution_count": 3,
      "outputs": []
    },
    {
      "cell_type": "markdown",
      "source": [
        "## **Separating the Dataset**"
      ],
      "metadata": {
        "id": "wKfqHTGjPEsH"
      }
    },
    {
      "cell_type": "code",
      "source": [
        "x_train, x_test, y_train, y_test = train_test_split(x, y, test_size=0.3, random_state=27)"
      ],
      "metadata": {
        "id": "P8DSTMNkPTov"
      },
      "execution_count": 4,
      "outputs": []
    },
    {
      "cell_type": "markdown",
      "source": [
        "## **Creating the Dataset Object**"
      ],
      "metadata": {
        "id": "XIU1HpGIPqhX"
      }
    },
    {
      "cell_type": "code",
      "source": [
        "class SpecificDataset(Dataset):\n",
        "  def __init__(self, x, y):\n",
        "    self.features = torch.tensor(x.values, dtype=torch.float32)\n",
        "    self.labels = torch.tensor(y.values, dtype=torch.float32)\n",
        "\n",
        "  def __getitem__(self, index):\n",
        "    x = self.features[index]\n",
        "    y = self.labels[index]\n",
        "\n",
        "    return x, y\n",
        "\n",
        "  def __len__(self):\n",
        "    return self.labels.shape[0]"
      ],
      "metadata": {
        "id": "5ugvEJaqPv4G"
      },
      "execution_count": 5,
      "outputs": []
    },
    {
      "cell_type": "code",
      "source": [
        "train_dataset = SpecificDataset(x_train, y_train)\n",
        "test_dataset = SpecificDataset(x_test, y_test)"
      ],
      "metadata": {
        "id": "R-Rx-HUrFM-c"
      },
      "execution_count": 6,
      "outputs": []
    },
    {
      "cell_type": "code",
      "source": [
        "train_dataloader = DataLoader(dataset=train_dataset,\n",
        "                              batch_size=10,\n",
        "                              shuffle=True)\n",
        "\n",
        "test_dataloader = DataLoader(dataset=test_dataset,\n",
        "                             batch_size=10,\n",
        "                             shuffle=True)"
      ],
      "metadata": {
        "id": "304UbcOPFwus"
      },
      "execution_count": 7,
      "outputs": []
    },
    {
      "cell_type": "markdown",
      "source": [
        "## **Perceptron**"
      ],
      "metadata": {
        "id": "Cwghr3smQSzS"
      }
    },
    {
      "cell_type": "code",
      "source": [
        "class Perceptron(torch.nn.Module):\n",
        "  def __init__(self, num_features):\n",
        "    super().__init__()\n",
        "    self.linear = torch.nn.Linear(num_features, 1)\n",
        "\n",
        "  def forward(self, x):\n",
        "    z = self.linear(x)\n",
        "\n",
        "    return torch.sigmoid(z)"
      ],
      "metadata": {
        "id": "924e7iVPQXhG"
      },
      "execution_count": 8,
      "outputs": []
    },
    {
      "cell_type": "code",
      "source": [
        "torch.manual_seed(27)"
      ],
      "metadata": {
        "id": "tOxn9acfG3xx",
        "colab": {
          "base_uri": "https://localhost:8080/"
        },
        "outputId": "49420b3a-c265-4f52-caa5-50de5cd5118f"
      },
      "execution_count": 9,
      "outputs": [
        {
          "output_type": "execute_result",
          "data": {
            "text/plain": [
              "<torch._C.Generator at 0x7cd176e76c90>"
            ]
          },
          "metadata": {},
          "execution_count": 9
        }
      ]
    },
    {
      "cell_type": "code",
      "source": [
        "model = Perceptron(30)"
      ],
      "metadata": {
        "id": "qRTwyirIqr_-"
      },
      "execution_count": 16,
      "outputs": []
    },
    {
      "cell_type": "code",
      "source": [],
      "metadata": {
        "id": "551jui27r6z4"
      },
      "execution_count": null,
      "outputs": []
    }
  ]
}