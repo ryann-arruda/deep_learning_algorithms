{
  "nbformat": 4,
  "nbformat_minor": 0,
  "metadata": {
    "colab": {
      "provenance": [],
      "authorship_tag": "ABX9TyM3H8FLJlzrGFhX0RBRQcY0",
      "include_colab_link": true
    },
    "kernelspec": {
      "name": "python3",
      "display_name": "Python 3"
    },
    "language_info": {
      "name": "python"
    }
  },
  "cells": [
    {
      "cell_type": "markdown",
      "metadata": {
        "id": "view-in-github",
        "colab_type": "text"
      },
      "source": [
        "<a href=\"https://colab.research.google.com/github/ryann-arruda/deep_learning_algorithms/blob/main/perceptron_step_activation_function_and_minibatch.ipynb\" target=\"_parent\"><img src=\"https://colab.research.google.com/assets/colab-badge.svg\" alt=\"Open In Colab\"/></a>"
      ]
    },
    {
      "cell_type": "code",
      "execution_count": 166,
      "metadata": {
        "id": "dS4q95z3OM8_"
      },
      "outputs": [],
      "source": [
        "from sklearn.datasets import load_breast_cancer\n",
        "from sklearn.model_selection  import train_test_split\n",
        "import pandas as pd\n",
        "import torch\n",
        "from torch.func import vmap\n",
        "from tqdm import tqdm"
      ]
    },
    {
      "cell_type": "markdown",
      "source": [
        "## **Loading Dataset**"
      ],
      "metadata": {
        "id": "azuqeX-kOX2P"
      }
    },
    {
      "cell_type": "code",
      "source": [
        "data = load_breast_cancer()"
      ],
      "metadata": {
        "id": "u1m_JWtnOiFO"
      },
      "execution_count": 167,
      "outputs": []
    },
    {
      "cell_type": "code",
      "source": [
        "x = pd.DataFrame(data.data, columns=data.feature_names)\n",
        "y = pd.DataFrame(data.target, columns=['Target'])"
      ],
      "metadata": {
        "id": "py1ooyEFOkIg"
      },
      "execution_count": 168,
      "outputs": []
    },
    {
      "cell_type": "markdown",
      "source": [
        "## **Separating the Dataset**"
      ],
      "metadata": {
        "id": "T9xcSjrzO1RR"
      }
    },
    {
      "cell_type": "code",
      "source": [
        "x_train, x_test, y_train, y_test = train_test_split(x, y, test_size=0.3, random_state=27)"
      ],
      "metadata": {
        "id": "8yi8zywuPGd-"
      },
      "execution_count": 169,
      "outputs": []
    },
    {
      "cell_type": "markdown",
      "source": [
        "## **Converting Data to Tensors**"
      ],
      "metadata": {
        "id": "aN8aVm5LPVPR"
      }
    },
    {
      "cell_type": "code",
      "source": [
        "x_train = torch.tensor(x_train.values, dtype=torch.float32)\n",
        "y_train = torch.tensor(y_train.values, dtype=torch.float32)"
      ],
      "metadata": {
        "id": "xPkHEDXMPZNd"
      },
      "execution_count": 170,
      "outputs": []
    },
    {
      "cell_type": "code",
      "source": [
        "x_test = torch.tensor(x_test.values, dtype=torch.float32)\n",
        "y_test = torch.tensor(y_test.values, dtype=torch.float32)"
      ],
      "metadata": {
        "id": "_FD8r4GvPrq_"
      },
      "execution_count": 171,
      "outputs": []
    },
    {
      "cell_type": "markdown",
      "source": [
        "## **Perceptron**"
      ],
      "metadata": {
        "id": "fljDtpWnP2sj"
      }
    },
    {
      "cell_type": "code",
      "source": [
        "class Perceptron():\n",
        "  def __init__(self, num_features, lr=1.0):\n",
        "    self.num_featues = num_features\n",
        "    self.weights = torch.zeros(num_features)\n",
        "    self.bias = torch.tensor(0.)\n",
        "    self.lr = torch.tensor(lr)\n",
        "\n",
        "  def forward(self, x):\n",
        "    z = self.weights.matmul(x.T) + self.bias\n",
        "\n",
        "    return torch.where(z >= 0, 1., 0.)\n",
        "\n",
        "  def fit(self, x, y, epochs, batch_size=1):\n",
        "    for epoch in tqdm(range(epochs)):\n",
        "      for chunk_examples, chunk_labels in zip(x.unfold(0, batch_size, batch_size), y.unfold(0, batch_size, batch_size)):\n",
        "        chunk_examples = chunk_examples.permute(1,0)\n",
        "        chunk_labels = chunk_labels.permute(1,0)\n",
        "\n",
        "        a = self.forward(chunk_examples).view(-1, 1)\n",
        "\n",
        "        dz = a - chunk_labels\n",
        "\n",
        "        dw = torch.sum(dz * chunk_examples, dim=0)/self.num_featues\n",
        "        db = torch.sum(dz)/self.num_featues\n",
        "\n",
        "        self.weights -= self.lr * dw\n",
        "        self.bias -= self.lr * db"
      ],
      "metadata": {
        "id": "O1d9607yP5aO"
      },
      "execution_count": 231,
      "outputs": []
    },
    {
      "cell_type": "code",
      "source": [
        "num_features = len(x_train[0])"
      ],
      "metadata": {
        "id": "HR83NiMRU-LI"
      },
      "execution_count": 232,
      "outputs": []
    },
    {
      "cell_type": "code",
      "source": [
        "model = Perceptron(num_features)"
      ],
      "metadata": {
        "id": "dzw2NjzsVbnn"
      },
      "execution_count": 233,
      "outputs": []
    },
    {
      "cell_type": "code",
      "source": [
        "model.fit(x_train, y_train, 3000, batch_size=64)"
      ],
      "metadata": {
        "colab": {
          "base_uri": "https://localhost:8080/"
        },
        "id": "MuzzuWYqYV3X",
        "outputId": "e50f45a6-9770-4f66-81bc-8f6c468dd662"
      },
      "execution_count": 234,
      "outputs": [
        {
          "output_type": "stream",
          "name": "stderr",
          "text": [
            "100%|██████████| 3000/3000 [00:02<00:00, 1229.75it/s]\n"
          ]
        }
      ]
    },
    {
      "cell_type": "markdown",
      "source": [
        "## **Testing**"
      ],
      "metadata": {
        "id": "TTdaK51udQRn"
      }
    },
    {
      "cell_type": "code",
      "source": [
        "def accuracy(model, x_test, y_test):\n",
        "  accuracy = 0.0\n",
        "\n",
        "  for x, y in zip(x_test, y_test):\n",
        "    pred = model.forward(x)\n",
        "\n",
        "    accuracy += (pred == y).item()\n",
        "\n",
        "  return accuracy/len(x_test)"
      ],
      "metadata": {
        "id": "2Jj5k3D9zLWp"
      },
      "execution_count": 235,
      "outputs": []
    },
    {
      "cell_type": "code",
      "source": [
        "accuracy(model, x_test, y_test)"
      ],
      "metadata": {
        "colab": {
          "base_uri": "https://localhost:8080/"
        },
        "id": "OVrt5ZfwEBG1",
        "outputId": "c3323832-bb70-43cd-9a51-a52865225866"
      },
      "execution_count": 236,
      "outputs": [
        {
          "output_type": "execute_result",
          "data": {
            "text/plain": [
              "0.9415204678362573"
            ]
          },
          "metadata": {},
          "execution_count": 236
        }
      ]
    },
    {
      "cell_type": "code",
      "source": [],
      "metadata": {
        "id": "4JmlzdBSECrg"
      },
      "execution_count": null,
      "outputs": []
    }
  ]
}