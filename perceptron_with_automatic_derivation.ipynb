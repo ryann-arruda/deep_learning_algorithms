{
  "nbformat": 4,
  "nbformat_minor": 0,
  "metadata": {
    "colab": {
      "provenance": [],
      "authorship_tag": "ABX9TyMi/no8OUdY3yErbnicjhYX",
      "include_colab_link": true
    },
    "kernelspec": {
      "name": "python3",
      "display_name": "Python 3"
    },
    "language_info": {
      "name": "python"
    }
  },
  "cells": [
    {
      "cell_type": "markdown",
      "metadata": {
        "id": "view-in-github",
        "colab_type": "text"
      },
      "source": [
        "<a href=\"https://colab.research.google.com/github/ryann-arruda/deep_learning_algorithms/blob/main/perceptron_with_automatic_derivation.ipynb\" target=\"_parent\"><img src=\"https://colab.research.google.com/assets/colab-badge.svg\" alt=\"Open In Colab\"/></a>"
      ]
    },
    {
      "cell_type": "code",
      "source": [
        "from sklearn.datasets import load_breast_cancer\n",
        "import pandas as pd\n",
        "from sklearn.model_selection import train_test_split\n",
        "import torch\n",
        "import torch.nn.functional as F\n",
        "from tqdm import tqdm"
      ],
      "metadata": {
        "id": "lOiRZ001ADGD"
      },
      "execution_count": 1,
      "outputs": []
    },
    {
      "cell_type": "markdown",
      "source": [
        "## **Loading Dataset**"
      ],
      "metadata": {
        "id": "vvEFBXoF8Am1"
      }
    },
    {
      "cell_type": "code",
      "source": [
        "data = load_breast_cancer()"
      ],
      "metadata": {
        "id": "Fetxx6rJO_mX"
      },
      "execution_count": 2,
      "outputs": []
    },
    {
      "cell_type": "code",
      "source": [
        "x = pd.DataFrame(data.data, columns=data.feature_names)\n",
        "y = pd.DataFrame(data.target, columns=['Target'])"
      ],
      "metadata": {
        "id": "HN9te7TMPBLm"
      },
      "execution_count": 3,
      "outputs": []
    },
    {
      "cell_type": "markdown",
      "source": [
        "## **Separating the Dataset**"
      ],
      "metadata": {
        "id": "wKfqHTGjPEsH"
      }
    },
    {
      "cell_type": "code",
      "source": [
        "x_train, x_test, y_train, y_test = train_test_split(x, y, test_size=0.3, random_state=27)"
      ],
      "metadata": {
        "id": "P8DSTMNkPTov"
      },
      "execution_count": 4,
      "outputs": []
    },
    {
      "cell_type": "markdown",
      "source": [
        "## **Converting Data to Tensors**"
      ],
      "metadata": {
        "id": "XIU1HpGIPqhX"
      }
    },
    {
      "cell_type": "code",
      "source": [
        "x_train = torch.tensor(x_train.values, dtype=torch.float32)\n",
        "x_test = torch.tensor(x_test.values, dtype=torch.float32)"
      ],
      "metadata": {
        "id": "UIpDYMuEPts2"
      },
      "execution_count": 5,
      "outputs": []
    },
    {
      "cell_type": "code",
      "source": [
        "y_train = torch.tensor(y_train.values, dtype=torch.float32)\n",
        "y_test = torch.tensor(y_test.values, dtype=torch.float32)"
      ],
      "metadata": {
        "id": "5ugvEJaqPv4G"
      },
      "execution_count": 6,
      "outputs": []
    },
    {
      "cell_type": "markdown",
      "source": [
        "## **Perceptron**"
      ],
      "metadata": {
        "id": "Cwghr3smQSzS"
      }
    },
    {
      "cell_type": "code",
      "source": [
        "class Perceptron():\n",
        "  def __init__(self, num_features, lr=1.0):\n",
        "    self.num_features = num_features\n",
        "    self.weights = torch.zeros(num_features, requires_grad=True)\n",
        "    self.bias = torch.tensor(0., requires_grad=True)\n",
        "    self.lr = lr\n",
        "\n",
        "  def forward(self, x):\n",
        "    return self.weights.matmul(x.T) + self.bias\n",
        "\n",
        "  def fit(self, x, y, epochs):\n",
        "    for epoch in tqdm(range(epochs)):\n",
        "        loss = F.binary_cross_entropy_with_logits(self.forward(x), y.view(1, -1).squeeze())\n",
        "        loss.backward()\n",
        "\n",
        "        with torch.no_grad():\n",
        "          self.weights += self.lr * self.weights.grad\n",
        "          self.bias += self.lr * self.bias.grad\n",
        "\n",
        "          self.weights.grad.zero_()\n",
        "          self.bias.grad.zero_()"
      ],
      "metadata": {
        "id": "924e7iVPQXhG"
      },
      "execution_count": 56,
      "outputs": []
    },
    {
      "cell_type": "code",
      "source": [
        "num_features = len(x_train[0])"
      ],
      "metadata": {
        "id": "tVRwP_uAQv24"
      },
      "execution_count": 57,
      "outputs": []
    },
    {
      "cell_type": "code",
      "source": [
        "model = Perceptron(num_features)"
      ],
      "metadata": {
        "id": "lSaKcvzSRFQm"
      },
      "execution_count": 58,
      "outputs": []
    },
    {
      "cell_type": "code",
      "source": [
        "model.fit(x_train, y_train, 200)"
      ],
      "metadata": {
        "id": "zwFj_962TxE1",
        "colab": {
          "base_uri": "https://localhost:8080/"
        },
        "outputId": "b08d65ec-b7fe-457e-dc95-1baaf29c44c9"
      },
      "execution_count": 59,
      "outputs": [
        {
          "output_type": "stream",
          "name": "stderr",
          "text": [
            "100%|██████████| 200/200 [00:00<00:00, 2751.24it/s]\n"
          ]
        }
      ]
    },
    {
      "cell_type": "code",
      "source": [],
      "metadata": {
        "id": "P7qH4nTU9ywn"
      },
      "execution_count": null,
      "outputs": []
    }
  ]
}